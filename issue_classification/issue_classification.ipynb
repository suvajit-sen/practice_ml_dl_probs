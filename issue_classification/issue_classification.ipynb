{
 "cells": [
  {
   "cell_type": "code",
   "execution_count": 1,
   "metadata": {},
   "outputs": [],
   "source": [
    "# List all the required libraries\n",
    "import numpy as np\n",
    "import pandas as pd\n",
    "import matplotlib.pyplot as plt\n",
    "from nltk.stem import PorterStemmer, WordNetLemmatizer\n",
    "from nltk.tokenize import WhitespaceTokenizer"
   ]
  },
  {
   "cell_type": "code",
   "execution_count": 2,
   "metadata": {},
   "outputs": [],
   "source": [
    "# load and check the data \n",
    "data = pd.read_csv('consumer-complaints-QueryResult-notnull-8000.csv')"
   ]
  },
  {
   "cell_type": "code",
   "execution_count": 4,
   "metadata": {
    "scrolled": true
   },
   "outputs": [
    {
     "data": {
      "text/html": [
       "<div>\n",
       "<style scoped>\n",
       "    .dataframe tbody tr th:only-of-type {\n",
       "        vertical-align: middle;\n",
       "    }\n",
       "\n",
       "    .dataframe tbody tr th {\n",
       "        vertical-align: top;\n",
       "    }\n",
       "\n",
       "    .dataframe thead th {\n",
       "        text-align: right;\n",
       "    }\n",
       "</style>\n",
       "<table border=\"1\" class=\"dataframe\">\n",
       "  <thead>\n",
       "    <tr style=\"text-align: right;\">\n",
       "      <th></th>\n",
       "      <th>date_received</th>\n",
       "      <th>product</th>\n",
       "      <th>sub_product</th>\n",
       "      <th>issue</th>\n",
       "      <th>sub_issue</th>\n",
       "      <th>consumer_complaint_narrative</th>\n",
       "      <th>company_public_response</th>\n",
       "      <th>company</th>\n",
       "      <th>state</th>\n",
       "      <th>zip_code</th>\n",
       "      <th>tags</th>\n",
       "      <th>consumer_consent_provided</th>\n",
       "      <th>submitted_via</th>\n",
       "      <th>date_sent_to_company</th>\n",
       "      <th>company_response_to_consumer</th>\n",
       "      <th>timely_response</th>\n",
       "      <th>consumer_disputed</th>\n",
       "      <th>complaint_id</th>\n",
       "    </tr>\n",
       "  </thead>\n",
       "  <tbody>\n",
       "    <tr>\n",
       "      <th>0</th>\n",
       "      <td>2016-11-18</td>\n",
       "      <td>Mortgage</td>\n",
       "      <td>Conventional fixed mortgage</td>\n",
       "      <td>Settlement process and costs</td>\n",
       "      <td>NaN</td>\n",
       "      <td>Started the refinance of home mortgage process...</td>\n",
       "      <td>NaN</td>\n",
       "      <td>AMERICAN NEIGHBORHOOD MORTGAGE</td>\n",
       "      <td>NJ</td>\n",
       "      <td>088XX</td>\n",
       "      <td>NaN</td>\n",
       "      <td>Consent provided</td>\n",
       "      <td>Web</td>\n",
       "      <td>2016-11-21</td>\n",
       "      <td>Closed with monetary relief</td>\n",
       "      <td>False</td>\n",
       "      <td>No</td>\n",
       "      <td>2216206</td>\n",
       "    </tr>\n",
       "    <tr>\n",
       "      <th>1</th>\n",
       "      <td>2017-03-04</td>\n",
       "      <td>Bank account or service</td>\n",
       "      <td>Checking account</td>\n",
       "      <td>Account opening, closing, or management</td>\n",
       "      <td>NaN</td>\n",
       "      <td>My wife and I visited the Chase Bank branch at...</td>\n",
       "      <td>NaN</td>\n",
       "      <td>JPMORGAN CHASE &amp; CO.</td>\n",
       "      <td>KY</td>\n",
       "      <td>423XX</td>\n",
       "      <td>NaN</td>\n",
       "      <td>Consent provided</td>\n",
       "      <td>Web</td>\n",
       "      <td>2017-03-04</td>\n",
       "      <td>Closed with explanation</td>\n",
       "      <td>True</td>\n",
       "      <td>Yes</td>\n",
       "      <td>2371744</td>\n",
       "    </tr>\n",
       "    <tr>\n",
       "      <th>2</th>\n",
       "      <td>2017-03-04</td>\n",
       "      <td>Student loan</td>\n",
       "      <td>Federal student loan servicing</td>\n",
       "      <td>Can't repay my loan</td>\n",
       "      <td>Can't decrease my monthly payments</td>\n",
       "      <td>The service representative was harsh and not l...</td>\n",
       "      <td>NaN</td>\n",
       "      <td>Navient Solutions, LLC.</td>\n",
       "      <td>OK</td>\n",
       "      <td>741XX</td>\n",
       "      <td>NaN</td>\n",
       "      <td>Consent provided</td>\n",
       "      <td>Web</td>\n",
       "      <td>2017-03-04</td>\n",
       "      <td>Closed with explanation</td>\n",
       "      <td>True</td>\n",
       "      <td>No</td>\n",
       "      <td>2371928</td>\n",
       "    </tr>\n",
       "    <tr>\n",
       "      <th>3</th>\n",
       "      <td>2017-04-12</td>\n",
       "      <td>Bank account or service</td>\n",
       "      <td>Checking account</td>\n",
       "      <td>Problems caused by my funds being low</td>\n",
       "      <td>NaN</td>\n",
       "      <td>I have documentation that shows that US Bank w...</td>\n",
       "      <td>Company has responded to the consumer and the ...</td>\n",
       "      <td>U.S. BANCORP</td>\n",
       "      <td>CA</td>\n",
       "      <td>928XX</td>\n",
       "      <td>NaN</td>\n",
       "      <td>Consent provided</td>\n",
       "      <td>Web</td>\n",
       "      <td>2017-04-12</td>\n",
       "      <td>Closed with explanation</td>\n",
       "      <td>True</td>\n",
       "      <td>No</td>\n",
       "      <td>2431565</td>\n",
       "    </tr>\n",
       "    <tr>\n",
       "      <th>4</th>\n",
       "      <td>2017-03-21</td>\n",
       "      <td>Credit reporting</td>\n",
       "      <td>NaN</td>\n",
       "      <td>Incorrect information on credit report</td>\n",
       "      <td>Account status</td>\n",
       "      <td>Experian reporting of XXXX XXXX reflects a for...</td>\n",
       "      <td>Company has responded to the consumer and the ...</td>\n",
       "      <td>EXPERIAN DELAWARE GP</td>\n",
       "      <td>PA</td>\n",
       "      <td>190XX</td>\n",
       "      <td>NaN</td>\n",
       "      <td>Consent provided</td>\n",
       "      <td>Web</td>\n",
       "      <td>2017-03-21</td>\n",
       "      <td>Closed with explanation</td>\n",
       "      <td>True</td>\n",
       "      <td>No</td>\n",
       "      <td>2398200</td>\n",
       "    </tr>\n",
       "  </tbody>\n",
       "</table>\n",
       "</div>"
      ],
      "text/plain": [
       "  date_received                  product                     sub_product  \\\n",
       "0    2016-11-18                 Mortgage     Conventional fixed mortgage   \n",
       "1    2017-03-04  Bank account or service                Checking account   \n",
       "2    2017-03-04             Student loan  Federal student loan servicing   \n",
       "3    2017-04-12  Bank account or service                Checking account   \n",
       "4    2017-03-21         Credit reporting                             NaN   \n",
       "\n",
       "                                     issue  \\\n",
       "0             Settlement process and costs   \n",
       "1  Account opening, closing, or management   \n",
       "2                      Can't repay my loan   \n",
       "3    Problems caused by my funds being low   \n",
       "4   Incorrect information on credit report   \n",
       "\n",
       "                            sub_issue  \\\n",
       "0                                 NaN   \n",
       "1                                 NaN   \n",
       "2  Can't decrease my monthly payments   \n",
       "3                                 NaN   \n",
       "4                      Account status   \n",
       "\n",
       "                        consumer_complaint_narrative  \\\n",
       "0  Started the refinance of home mortgage process...   \n",
       "1  My wife and I visited the Chase Bank branch at...   \n",
       "2  The service representative was harsh and not l...   \n",
       "3  I have documentation that shows that US Bank w...   \n",
       "4  Experian reporting of XXXX XXXX reflects a for...   \n",
       "\n",
       "                             company_public_response  \\\n",
       "0                                                NaN   \n",
       "1                                                NaN   \n",
       "2                                                NaN   \n",
       "3  Company has responded to the consumer and the ...   \n",
       "4  Company has responded to the consumer and the ...   \n",
       "\n",
       "                          company state zip_code tags  \\\n",
       "0  AMERICAN NEIGHBORHOOD MORTGAGE    NJ    088XX  NaN   \n",
       "1            JPMORGAN CHASE & CO.    KY    423XX  NaN   \n",
       "2         Navient Solutions, LLC.    OK    741XX  NaN   \n",
       "3                    U.S. BANCORP    CA    928XX  NaN   \n",
       "4            EXPERIAN DELAWARE GP    PA    190XX  NaN   \n",
       "\n",
       "  consumer_consent_provided submitted_via date_sent_to_company  \\\n",
       "0          Consent provided           Web           2016-11-21   \n",
       "1          Consent provided           Web           2017-03-04   \n",
       "2          Consent provided           Web           2017-03-04   \n",
       "3          Consent provided           Web           2017-04-12   \n",
       "4          Consent provided           Web           2017-03-21   \n",
       "\n",
       "  company_response_to_consumer  timely_response consumer_disputed  \\\n",
       "0  Closed with monetary relief            False                No   \n",
       "1      Closed with explanation             True               Yes   \n",
       "2      Closed with explanation             True                No   \n",
       "3      Closed with explanation             True                No   \n",
       "4      Closed with explanation             True                No   \n",
       "\n",
       "   complaint_id  \n",
       "0       2216206  \n",
       "1       2371744  \n",
       "2       2371928  \n",
       "3       2431565  \n",
       "4       2398200  "
      ]
     },
     "execution_count": 4,
     "metadata": {},
     "output_type": "execute_result"
    }
   ],
   "source": [
    "data.head()"
   ]
  },
  {
   "cell_type": "code",
   "execution_count": null,
   "metadata": {},
   "outputs": [],
   "source": []
  },
  {
   "cell_type": "code",
   "execution_count": 5,
   "metadata": {},
   "outputs": [],
   "source": [
    "# Now take only the required columns\n",
    "df = data[['product', 'consumer_complaint_narrative']]"
   ]
  },
  {
   "cell_type": "code",
   "execution_count": 6,
   "metadata": {},
   "outputs": [
    {
     "data": {
      "text/plain": [
       "'My wife and I visited the Chase Bank branch at XXXX, XXXX, KY on XX/XX/2017 around XXXX AM to open new checking accounts. We were prompted to open these checking accounts because Chase mailed and emailed us vouchers to receive {$300.00} for opening each account and personal friends had also referred us. XXXX was assigned to assist us in this matter. His first question to us was \" where do you work? \". After informing him that we are both were XXXX employees he asked us what we were going to do with our XXXX accounts. We advised him we would be keeping those accounts open. He then asked what we would be using our new Chase accounts for and I advised we would be using those accounts for miscellaneous savings, etc. It was then that XXXX XXXX advised he would not be opening the new accounts for us unless we closed our XXXX accounts and he tossed the Chase Voucher and our ID \\'s back across the desk to us ( RUDE! ). Confused, I questioned him further about this and he advised that he did not believe we were going to use our new Chase accounts and would just close them in 6 months. Upon clarifying that we would indeed keep the Chase accounts open and meet all of the requirements of the offer he stated that we would not be closing our XXXX accounts. He reiterated that he would not open the accounts for us and advised that he would get his manager XXXX involved. When XXXX XXXX arrived in the office to speak with us she advised that Chase would not be honoring the vouchers and would not open accounts for us because XXXX XXXX told her we were not planning to keep the accounts open and would not be \" using \\'\\' the accounts. I advised XXXX XXXX that we intended to meet the minimum requirements ( set up direct deposit and keep the account open for 6 months ) and would keep the accounts open further if we enjoyed the service we received from Chase during that time. I advised we intended to have direct deposit active on the accounts and would be moving money in and out of the accounts, but she did not seem to believe that was qualifying usage of the accounts. She then advised that I had previously opened a Chase account with a coupon about 10 years ago and did not keep it open. However, I believe that account was my primary checking account and I did keep it open for the required period of time and more. It was only when I moved out of state that I closed the account because I did not know if there would be Chase branches in my new area. I am deeply insulted by my experience in trying to open these new accounts and feel that my wife and I have been discriminated against because of our employment with another banking institute. In addition to this occurrence while my wife and I we waiting in the lobby to meet with XXXX XXXX we both were able to clearly observe XXXX \\'s business interactions with another customer who was in his cubicle/office which has an open door and clear glass windows. We were able to hear their entire conversation and at a certain point XXXX XXXX pulled that customer \\'s XXXX score. After pulling the XXXX score up on his monitor he swiveled the monitor around so that it was facing directly out the window into the lobby and I could clearly see the customer \\'s score was XXXX. Being in the banking business I understand well that this is a clear violation of Customer Confidentiality regulations and should be dealt with as such.'"
      ]
     },
     "execution_count": 6,
     "metadata": {},
     "output_type": "execute_result"
    }
   ],
   "source": [
    "# check one detailed narrative\n",
    "df['consumer_complaint_narrative'][1]"
   ]
  },
  {
   "cell_type": "code",
   "execution_count": 7,
   "metadata": {},
   "outputs": [
    {
     "data": {
      "image/png": "[encoded data removed]",
      "text/plain": [
       "<Figure size 576x432 with 1 Axes>"
      ]
     },
     "metadata": {
      "needs_background": "light"
     },
     "output_type": "display_data"
    }
   ],
   "source": [
    "# check the count of the products\n",
    "# Now we need to visualize the whole date set\n",
    "fig = plt.figure(figsize = (8,6))\n",
    "df.groupby('product').consumer_complaint_narrative.count().plot.bar(ylim=0)\n",
    "plt.show()"
   ]
  },
  {
   "cell_type": "code",
   "execution_count": 8,
   "metadata": {},
   "outputs": [],
   "source": [
    "# load Text Pre-processing modules\n",
    "lemmatizer = WordNetLemmatizer()\n",
    "tokenizer = WhitespaceTokenizer()\n",
    "stemmer = PorterStemmer()"
   ]
  },
  {
   "cell_type": "code",
   "execution_count": 9,
   "metadata": {},
   "outputs": [],
   "source": [
    "# Text Processing Tasks:\n",
    "# Lemmatization\n",
    "def lemmatize_text(text):\n",
    "    sent=\"\"\n",
    "    for w in tokenizer.tokenize(text):\n",
    "        sent = sent + \" \"+ lemmatizer.lemmatize(w,'v')\n",
    "    return sent"
   ]
  },
  {
   "cell_type": "code",
   "execution_count": 10,
   "metadata": {},
   "outputs": [],
   "source": [
    "# Stemming\n",
    "def stem_text(text):\n",
    "    sent=\"\"\n",
    "    for w in tokenizer.tokenize(text):\n",
    "        sent = sent + \" \"+ stemmer.stem(w)\n",
    "    return sent"
   ]
  },
  {
   "cell_type": "code",
   "execution_count": 11,
   "metadata": {},
   "outputs": [
    {
     "name": "stderr",
     "output_type": "stream",
     "text": [
      "G:\\Anaconda3\\envs\\deeplearning\\lib\\site-packages\\ipykernel_launcher.py:2: SettingWithCopyWarning: \n",
      "A value is trying to be set on a copy of a slice from a DataFrame.\n",
      "Try using .loc[row_indexer,col_indexer] = value instead\n",
      "\n",
      "See the caveats in the documentation: http://pandas.pydata.org/pandas-docs/stable/indexing.html#indexing-view-versus-copy\n",
      "  \n"
     ]
    }
   ],
   "source": [
    "# Lemmatize the issues\n",
    "df['issue_lemmatized'] = df.consumer_complaint_narrative.apply(lemmatize_text)"
   ]
  },
  {
   "cell_type": "code",
   "execution_count": 13,
   "metadata": {},
   "outputs": [
    {
     "name": "stderr",
     "output_type": "stream",
     "text": [
      "G:\\Anaconda3\\envs\\deeplearning\\lib\\site-packages\\ipykernel_launcher.py:2: SettingWithCopyWarning: \n",
      "A value is trying to be set on a copy of a slice from a DataFrame.\n",
      "Try using .loc[row_indexer,col_indexer] = value instead\n",
      "\n",
      "See the caveats in the documentation: http://pandas.pydata.org/pandas-docs/stable/indexing.html#indexing-view-versus-copy\n",
      "  \n"
     ]
    }
   ],
   "source": [
    "# Stemming the lemmatized issues\n",
    "df['issue_lemmatized_stemmed'] = df.issue_lemmatized.apply(stem_text)"
   ]
  },
  {
   "cell_type": "code",
   "execution_count": 14,
   "metadata": {},
   "outputs": [],
   "source": [
    "# remove the stop words\n",
    "from sklearn.feature_extraction import text\n",
    "my_stop_words = text.ENGLISH_STOP_WORDS.union([\"XXXX\",\"xxxx\", \"wu\"]) # added this after seeing XXXX in the text"
   ]
  },
  {
   "cell_type": "code",
   "execution_count": 15,
   "metadata": {},
   "outputs": [],
   "source": [
    "# Extract the features from the text\n",
    "# we are restricting the total # of features upto 15k\n",
    "from sklearn.feature_extraction.text import CountVectorizer, TfidfVectorizer\n",
    "\n",
    "tfidf = TfidfVectorizer(min_df = 5, lowercase=True,sublinear_tf=True, max_features=15000, stop_words=my_stop_words, ngram_range=(1,2))\n",
    "features = tfidf.fit_transform(df['issue_lemmatized_stemmed']).toarray()\n"
   ]
  },
  {
   "cell_type": "code",
   "execution_count": 16,
   "metadata": {},
   "outputs": [
    {
     "data": {
      "text/plain": [
       "(8000, 15000)"
      ]
     },
     "execution_count": 16,
     "metadata": {},
     "output_type": "execute_result"
    }
   ],
   "source": [
    "features.shape # we are having 15k features to work with"
   ]
  },
  {
   "cell_type": "code",
   "execution_count": 17,
   "metadata": {},
   "outputs": [
    {
     "name": "stderr",
     "output_type": "stream",
     "text": [
      "G:\\Anaconda3\\envs\\deeplearning\\lib\\site-packages\\ipykernel_launcher.py:2: SettingWithCopyWarning: \n",
      "A value is trying to be set on a copy of a slice from a DataFrame.\n",
      "Try using .loc[row_indexer,col_indexer] = value instead\n",
      "\n",
      "See the caveats in the documentation: http://pandas.pydata.org/pandas-docs/stable/indexing.html#indexing-view-versus-copy\n",
      "  \n"
     ]
    }
   ],
   "source": [
    "# creating a dictionary out of the product and numeric category value\n",
    "df['product_id'] = df['product'].factorize()[0]\n",
    "df_prod_id  = df[['product','product_id']].drop_duplicates()\n",
    "product_to_id = dict(df_prod_id.values)"
   ]
  },
  {
   "cell_type": "code",
   "execution_count": 18,
   "metadata": {},
   "outputs": [
    {
     "name": "stdout",
     "output_type": "stream",
     "text": [
      "Mortgage\n",
      "['home', 'escrow', 'modif', 'mortgag']\n",
      "['mortgag compani', 'short sale', 'mortgag payment', 'loan modif']\n",
      "Bank account or service\n",
      "['branch', 'bank', 'overdraft', 'deposit']\n",
      "['deposit check', 'debit card', 'overdraft fee', 'check account']\n",
      "Student loan\n",
      "['repay', 'school', 'student', 'navient']\n",
      "['privat student', 'privat loan', 'loan navient', 'student loan']\n",
      "Credit reporting\n",
      "['transunion', 'report', 'experian', 'equifax']\n",
      "['experian credit', 'equifax credit', 'equifax report', 'credit report']\n",
      "Credit card\n",
      "['visa', 'reward', 'chase', 'card']\n",
      "['thi card', 'card compani', 'american express', 'credit card']\n",
      "Debt collection\n",
      "['recoveri', 'collector', 'collect', 'debt']\n",
      "['debt collector', 'collect agenc', 'collect debt', 'thi debt']\n",
      "Consumer Loan\n",
      "['dealership', 'vehicle', 'vehicl', 'car']\n",
      "['financ compani', 'american honda', 'auto loan', 'car loan']\n",
      "Other financial service\n",
      "['exclud', 'offset', 'guard', 'telecheck']\n",
      "['number check', 'money order', 'order money', 'tri cancel']\n",
      "Money transfers\n",
      "['wire', 'gram', 'moneygram', 'western']\n",
      "['money gram', 'send money', 'money transfer', 'western union']\n",
      "Prepaid card\n",
      "['rush', 'prepay', 'gift', 'rushcard']\n",
      "['rush card', 'money card', 'gift card', 'prepay card']\n",
      "Payday loan\n",
      "['tribal', 'plain', 'ace', 'payday']\n",
      "['00 financ', 'cash central', 'big pictur', 'payday loan']\n"
     ]
    }
   ],
   "source": [
    "# Check the associated words to a particular category\n",
    "# this is a data exploarion step\n",
    "# now check the word affiliation with the category with chi2 value\n",
    "from sklearn.feature_selection import chi2\n",
    "\n",
    "labels = df.product_id\n",
    "N = 4\n",
    "for product, cat_id in product_to_id.items():\n",
    "    features_chi2 = chi2(features,labels == cat_id )\n",
    "    indices = np.argsort(features_chi2[0])\n",
    "    feature_names = np.array(tfidf.get_feature_names())[indices]\n",
    "    unigrams = [v for v in feature_names if len(v.split(' ')) == 1]\n",
    "    bigrams = [v for v in feature_names if len(v.split(' ')) == 2]\n",
    "    print(product)\n",
    "    print(unigrams[-N:])\n",
    "    print(bigrams[-N:])"
   ]
  },
  {
   "cell_type": "code",
   "execution_count": 19,
   "metadata": {},
   "outputs": [],
   "source": [
    "# Now that our pre processing is done: start building our classifier\n",
    "# start building our classifier\n",
    "from sklearn.model_selection import train_test_split\n",
    "X_train, X_test, y_train, y_test = train_test_split(df['consumer_complaint_narrative'], df['product'], test_size = 0.15 , \n",
    "                                                    random_state=0)\n"
   ]
  },
  {
   "cell_type": "code",
   "execution_count": 24,
   "metadata": {},
   "outputs": [],
   "source": [
    "# fit tfidf with the training data\n",
    "X_train_tfidf = tfidf.fit_transform(X_train)\n",
    "X_test_tfidf = tfidf.transform(X_test)"
   ]
  },
  {
   "cell_type": "code",
   "execution_count": 25,
   "metadata": {},
   "outputs": [
    {
     "name": "stdout",
     "output_type": "stream",
     "text": [
      "(6800, 15000)\n",
      "(1200, 15000)\n"
     ]
    }
   ],
   "source": [
    "# check the number of features for both of these\n",
    "print(X_train_tfidf.shape)\n",
    "print(X_test_tfidf.shape)"
   ]
  },
  {
   "cell_type": "code",
   "execution_count": null,
   "metadata": {},
   "outputs": [],
   "source": [
    "# Now we will implement sevral classification algorithm and choose the best performing one"
   ]
  },
  {
   "cell_type": "code",
   "execution_count": 39,
   "metadata": {},
   "outputs": [
    {
     "name": "stdout",
     "output_type": "stream",
     "text": [
      "0.83\n"
     ]
    }
   ],
   "source": [
    "# Logistic Regression\n",
    "from sklearn.linear_model import LogisticRegression\n",
    "from sklearn.metrics import confusion_matrix, accuracy_score\n",
    "\n",
    "classifier_logistic = LogisticRegression(random_state=0, solver='lbfgs',max_iter=250,C=2,penalty='l2')\n",
    "classifier_logistic.fit(X_train_tfidf,y_train)\n",
    "y_pred_logistic = classifier_logistic.predict(X_test_tfidf)\n",
    "accuracy_logistic = accuracy_score(y_test, y_pred_logistic)\n",
    "print(accuracy_logistic)"
   ]
  },
  {
   "cell_type": "code",
   "execution_count": 27,
   "metadata": {},
   "outputs": [
    {
     "name": "stdout",
     "output_type": "stream",
     "text": [
      "0.8308333333333333\n"
     ]
    }
   ],
   "source": [
    "# SVM\n",
    "from sklearn.svm import LinearSVC\n",
    "classifier_svc = LinearSVC(max_iter=1500,C=2)\n",
    "classifier_svc.fit(X_train_tfidf,y_train)\n",
    "y_pred_svc = classifier_svc.predict(X_test_tfidf)\n",
    "accuracy_svc = accuracy_score(y_test, y_pred_svc)\n",
    "print(accuracy_svc)"
   ]
  },
  {
   "cell_type": "code",
   "execution_count": 28,
   "metadata": {},
   "outputs": [
    {
     "name": "stdout",
     "output_type": "stream",
     "text": [
      "0.3541666666666667\n"
     ]
    }
   ],
   "source": [
    "# Random Forest\n",
    "from sklearn.ensemble import RandomForestClassifier\n",
    "classifier_rf = RandomForestClassifier(max_depth=3, n_estimators=200, random_state=0)\n",
    "classifier_rf.fit(X_train_tfidf,y_train)\n",
    "y_pred_rf = classifier_rf.predict(X_test_tfidf)\n",
    "accuracy_rf = accuracy_score(y_test, y_pred_rf)\n",
    "print(accuracy_rf)"
   ]
  },
  {
   "cell_type": "code",
   "execution_count": 29,
   "metadata": {},
   "outputs": [
    {
     "name": "stdout",
     "output_type": "stream",
     "text": [
      "0.8116666666666666\n"
     ]
    }
   ],
   "source": [
    "# XGBoost\n",
    "from xgboost import XGBClassifier\n",
    "xgb_classifier = XGBClassifier(n_estimators=250)\n",
    "xgb_classifier.fit(X_train_tfidf,y_train)\n",
    "y_pred_xgb = xgb_classifier.predict(X_test_tfidf)\n",
    "accuracy_xgb = accuracy_score(y_test, y_pred_xgb)\n",
    "print(accuracy_xgb)\n"
   ]
  },
  {
   "cell_type": "code",
   "execution_count": null,
   "metadata": {},
   "outputs": [],
   "source": [
    "print(xgb_classifier.predict(tfidf.transform(['my wife and i visited the chase bank branch at xxxx, xxxx, ky on xx/xx/2017 around xxxx am to open new checking accounts. we were prompted to open these checking accounts because chase mailed and emailed us vouchers to receive {$300.00} for opening each account and personal friends had also referred us. xxxx was assigned to assist us in this matter. his first question to us was \" where do you work? \". after informing him that we are both were xxxx employees he asked us what we were going to do with our xxxx accounts. we advised him we would be keeping those accounts open. he then asked what we would be using our new chase accounts for and i advised we would be using those accounts for miscellaneous savings, etc. it was then that xxxx xxxx advised he would not be opening the new accounts for us unless we closed our xxxx accounts and he tossed the chase voucher and our id \\'s back across the desk to us ( rude! ). confused, i questioned him further about this and he advised that he did not believe we were going to use our new chase accounts and would just close them in 6 months. upon clarifying that we would indeed keep the chase accounts open and meet all of the requirements of the offer he stated that we would not be closing our xxxx accounts. he reiterated that he would not open the accounts for us and advised that he would get his manager xxxx involved. when xxxx xxxx arrived in the office to speak with us she advised that chase would not be honoring the vouchers and would not open accounts for us because xxxx xxxx told her we were not planning to keep the accounts open and would not be \" using \\'\\' the accounts. i advised xxxx xxxx that we intended to meet the minimum requirements ( set up direct deposit and keep the account open for 6 months ) and would keep the accounts open further if we enjoyed the service we received from chase during that time. i advised we intended to have direct deposit active on the accounts and would be moving money in and out of the accounts, but she did not seem to believe that was qualifying usage of the accounts. she then advised that i had previously opened a chase account with a coupon about 10 years ago and did not keep it open. however, i believe that account was my primary checking account and i did keep it open for the required period of time and more. it was only when i moved out of state that i closed the account because i did not know if there would be chase branches in my new area. i am deeply insulted by my experience in trying to open these new accounts and feel that my wife and i have been discriminated against because of our employment with another banking institute. in addition to this occurrence while my wife and i we waiting in the lobby to meet with xxxx xxxx we both were able to clearly observe xxxx \\'s business interactions with another customer who was in his cubicle/office which has an open door and clear glass windows. we were able to hear their entire conversation and at a certain point xxxx xxxx pulled that customer \\'s xxxx score. after pulling the xxxx score up on his monitor he swiveled the monitor around so that it was facing directly out the window into the lobby and i could clearly see the customer \\'s score was xxxx. being in the banking business i understand well that this is a clear violation of customer confidentiality regulations and should be dealt with as such.'])))\n",
    "print(classifier_logistic.predict(tfidf.transform(['my wife and i visited the chase bank branch at xxxx, xxxx, ky on xx/xx/2017 around xxxx am to open new checking accounts. we were prompted to open these checking accounts because chase mailed and emailed us vouchers to receive {$300.00} for opening each account and personal friends had also referred us. xxxx was assigned to assist us in this matter. his first question to us was \" where do you work? \". after informing him that we are both were xxxx employees he asked us what we were going to do with our xxxx accounts. we advised him we would be keeping those accounts open. he then asked what we would be using our new chase accounts for and i advised we would be using those accounts for miscellaneous savings, etc. it was then that xxxx xxxx advised he would not be opening the new accounts for us unless we closed our xxxx accounts and he tossed the chase voucher and our id \\'s back across the desk to us ( rude! ). confused, i questioned him further about this and he advised that he did not believe we were going to use our new chase accounts and would just close them in 6 months. upon clarifying that we would indeed keep the chase accounts open and meet all of the requirements of the offer he stated that we would not be closing our xxxx accounts. he reiterated that he would not open the accounts for us and advised that he would get his manager xxxx involved. when xxxx xxxx arrived in the office to speak with us she advised that chase would not be honoring the vouchers and would not open accounts for us because xxxx xxxx told her we were not planning to keep the accounts open and would not be \" using \\'\\' the accounts. i advised xxxx xxxx that we intended to meet the minimum requirements ( set up direct deposit and keep the account open for 6 months ) and would keep the accounts open further if we enjoyed the service we received from chase during that time. i advised we intended to have direct deposit active on the accounts and would be moving money in and out of the accounts, but she did not seem to believe that was qualifying usage of the accounts. she then advised that i had previously opened a chase account with a coupon about 10 years ago and did not keep it open. however, i believe that account was my primary checking account and i did keep it open for the required period of time and more. it was only when i moved out of state that i closed the account because i did not know if there would be chase branches in my new area. i am deeply insulted by my experience in trying to open these new accounts and feel that my wife and i have been discriminated against because of our employment with another banking institute. in addition to this occurrence while my wife and i we waiting in the lobby to meet with xxxx xxxx we both were able to clearly observe xxxx \\'s business interactions with another customer who was in his cubicle/office which has an open door and clear glass windows. we were able to hear their entire conversation and at a certain point xxxx xxxx pulled that customer \\'s xxxx score. after pulling the xxxx score up on his monitor he swiveled the monitor around so that it was facing directly out the window into the lobby and i could clearly see the customer \\'s score was xxxx. being in the banking business i understand well that this is a clear violation of customer confidentiality regulations and should be dealt with as such.'])))\n",
    "print(classifier_svc.predict(tfidf.transform(['my wife and i visited the chase bank branch at xxxx, xxxx, ky on xx/xx/2017 around xxxx am to open new checking accounts. we were prompted to open these checking accounts because chase mailed and emailed us vouchers to receive {$300.00} for opening each account and personal friends had also referred us. xxxx was assigned to assist us in this matter. his first question to us was \" where do you work? \". after informing him that we are both were xxxx employees he asked us what we were going to do with our xxxx accounts. we advised him we would be keeping those accounts open. he then asked what we would be using our new chase accounts for and i advised we would be using those accounts for miscellaneous savings, etc. it was then that xxxx xxxx advised he would not be opening the new accounts for us unless we closed our xxxx accounts and he tossed the chase voucher and our id \\'s back across the desk to us ( rude! ). confused, i questioned him further about this and he advised that he did not believe we were going to use our new chase accounts and would just close them in 6 months. upon clarifying that we would indeed keep the chase accounts open and meet all of the requirements of the offer he stated that we would not be closing our xxxx accounts. he reiterated that he would not open the accounts for us and advised that he would get his manager xxxx involved. when xxxx xxxx arrived in the office to speak with us she advised that chase would not be honoring the vouchers and would not open accounts for us because xxxx xxxx told her we were not planning to keep the accounts open and would not be \" using \\'\\' the accounts. i advised xxxx xxxx that we intended to meet the minimum requirements ( set up direct deposit and keep the account open for 6 months ) and would keep the accounts open further if we enjoyed the service we received from chase during that time. i advised we intended to have direct deposit active on the accounts and would be moving money in and out of the accounts, but she did not seem to believe that was qualifying usage of the accounts. she then advised that i had previously opened a chase account with a coupon about 10 years ago and did not keep it open. however, i believe that account was my primary checking account and i did keep it open for the required period of time and more. it was only when i moved out of state that i closed the account because i did not know if there would be chase branches in my new area. i am deeply insulted by my experience in trying to open these new accounts and feel that my wife and i have been discriminated against because of our employment with another banking institute. in addition to this occurrence while my wife and i we waiting in the lobby to meet with xxxx xxxx we both were able to clearly observe xxxx \\'s business interactions with another customer who was in his cubicle/office which has an open door and clear glass windows. we were able to hear their entire conversation and at a certain point xxxx xxxx pulled that customer \\'s xxxx score. after pulling the xxxx score up on his monitor he swiveled the monitor around so that it was facing directly out the window into the lobby and i could clearly see the customer \\'s score was xxxx. being in the banking business i understand well that this is a clear violation of customer confidentiality regulations and should be dealt with as such.'])))\n"
   ]
  },
  {
   "cell_type": "code",
   "execution_count": 40,
   "metadata": {},
   "outputs": [
    {
     "name": "stdout",
     "output_type": "stream",
     "text": [
      "0.9392647058823529\n"
     ]
    }
   ],
   "source": [
    "# Now check the over fitting done by the algos by checking train set accuracy\n",
    "# Logistic \n",
    "y_train_pred_logit = classifier_logistic.predict(X_train_tfidf)\n",
    "accuracy_logit = accuracy_score(y_train, y_train_pred_logit)\n",
    "print(accuracy_logit)"
   ]
  },
  {
   "cell_type": "code",
   "execution_count": 31,
   "metadata": {},
   "outputs": [
    {
     "name": "stdout",
     "output_type": "stream",
     "text": [
      "0.9989705882352942\n"
     ]
    }
   ],
   "source": [
    "# SVM\n",
    "y_train_pred_svc = classifier_svc.predict(X_train_tfidf)\n",
    "accuracy_svc = accuracy_score(y_train, y_train_pred_svc)\n",
    "print(accuracy_svc)\n"
   ]
  },
  {
   "cell_type": "code",
   "execution_count": 32,
   "metadata": {},
   "outputs": [
    {
     "name": "stdout",
     "output_type": "stream",
     "text": [
      "0.9198529411764705\n"
     ]
    }
   ],
   "source": [
    "# XGBoost\n",
    "y_train_pred_xgb = xgb_classifier.predict(X_train_tfidf)\n",
    "accuracy_xgb = accuracy_score(y_train, y_train_pred_xgb)\n",
    "print(accuracy_xgb)"
   ]
  },
  {
   "cell_type": "code",
   "execution_count": 36,
   "metadata": {},
   "outputs": [
    {
     "data": {
      "text/plain": [
       "GridSearchCV(cv=5, error_score=nan,\n",
       "             estimator=LogisticRegression(C=1, class_weight=None, dual=False,\n",
       "                                          fit_intercept=True,\n",
       "                                          intercept_scaling=1, l1_ratio=None,\n",
       "                                          max_iter=200, multi_class='auto',\n",
       "                                          n_jobs=None, penalty='l2',\n",
       "                                          random_state=0, solver='lbfgs',\n",
       "                                          tol=0.0001, verbose=0,\n",
       "                                          warm_start=False),\n",
       "             iid='deprecated', n_jobs=-1,\n",
       "             param_grid={'C': [1, 1.5, 2], 'max_iter': [250, 200]},\n",
       "             pre_dispatch='2*n_jobs', refit=True, return_train_score=False,\n",
       "             scoring=None, verbose=0)"
      ]
     },
     "execution_count": 36,
     "metadata": {},
     "output_type": "execute_result"
    }
   ],
   "source": [
    "# So here we can see that Logistic regression is giving us the best result in terms of over fitting\n",
    "# we will check for the best parameters through Grid Search\n",
    "from sklearn.model_selection import GridSearchCV\n",
    "\n",
    "params = {'max_iter':[250,200],'C': [1,1.5,2]}\n",
    "\n",
    "gridSearchCV = GridSearchCV(estimator=classifier_logistic,param_grid=params,cv=5,n_jobs=-1)\n",
    "gridSearchCV.fit(X_train_tfidf,y_train)\n"
   ]
  },
  {
   "cell_type": "code",
   "execution_count": 37,
   "metadata": {},
   "outputs": [
    {
     "data": {
      "text/plain": [
       "0.8091176470588236"
      ]
     },
     "execution_count": 37,
     "metadata": {},
     "output_type": "execute_result"
    }
   ],
   "source": [
    "gridSearchCV.best_score_"
   ]
  },
  {
   "cell_type": "code",
   "execution_count": 38,
   "metadata": {},
   "outputs": [
    {
     "data": {
      "text/plain": [
       "{'C': 2, 'max_iter': 250}"
      ]
     },
     "execution_count": 38,
     "metadata": {},
     "output_type": "execute_result"
    }
   ],
   "source": [
    "gridSearchCV.best_params_"
   ]
  },
  {
   "cell_type": "code",
   "execution_count": 41,
   "metadata": {},
   "outputs": [
    {
     "name": "stdout",
     "output_type": "stream",
     "text": [
      "['Bank account or service']\n",
      "['Bank account or service']\n",
      "['Bank account or service']\n"
     ]
    }
   ],
   "source": [
    "# take a narrative and check the predicted product category\n",
    "print(xgb_classifier.predict(tfidf.transform(['my wife and i visited the chase bank branch at xxxx, xxxx, ky on xx/xx/2017 around xxxx am to open new checking accounts. we were prompted to open these checking accounts because chase mailed and emailed us vouchers to receive {$300.00} for opening each account and personal friends had also referred us. xxxx was assigned to assist us in this matter. his first question to us was \" where do you work? \". after informing him that we are both were xxxx employees he asked us what we were going to do with our xxxx accounts. we advised him we would be keeping those accounts open. he then asked what we would be using our new chase accounts for and i advised we would be using those accounts for miscellaneous savings, etc. it was then that xxxx xxxx advised he would not be opening the new accounts for us unless we closed our xxxx accounts and he tossed the chase voucher and our id \\'s back across the desk to us ( rude! ). confused, i questioned him further about this and he advised that he did not believe we were going to use our new chase accounts and would just close them in 6 months. upon clarifying that we would indeed keep the chase accounts open and meet all of the requirements of the offer he stated that we would not be closing our xxxx accounts. he reiterated that he would not open the accounts for us and advised that he would get his manager xxxx involved. when xxxx xxxx arrived in the office to speak with us she advised that chase would not be honoring the vouchers and would not open accounts for us because xxxx xxxx told her we were not planning to keep the accounts open and would not be \" using \\'\\' the accounts. i advised xxxx xxxx that we intended to meet the minimum requirements ( set up direct deposit and keep the account open for 6 months ) and would keep the accounts open further if we enjoyed the service we received from chase during that time. i advised we intended to have direct deposit active on the accounts and would be moving money in and out of the accounts, but she did not seem to believe that was qualifying usage of the accounts. she then advised that i had previously opened a chase account with a coupon about 10 years ago and did not keep it open. however, i believe that account was my primary checking account and i did keep it open for the required period of time and more. it was only when i moved out of state that i closed the account because i did not know if there would be chase branches in my new area. i am deeply insulted by my experience in trying to open these new accounts and feel that my wife and i have been discriminated against because of our employment with another banking institute. in addition to this occurrence while my wife and i we waiting in the lobby to meet with xxxx xxxx we both were able to clearly observe xxxx \\'s business interactions with another customer who was in his cubicle/office which has an open door and clear glass windows. we were able to hear their entire conversation and at a certain point xxxx xxxx pulled that customer \\'s xxxx score. after pulling the xxxx score up on his monitor he swiveled the monitor around so that it was facing directly out the window into the lobby and i could clearly see the customer \\'s score was xxxx. being in the banking business i understand well that this is a clear violation of customer confidentiality regulations and should be dealt with as such.'])))\n",
    "print(classifier_logistic.predict(tfidf.transform(['my wife and i visited the chase bank branch at xxxx, xxxx, ky on xx/xx/2017 around xxxx am to open new checking accounts. we were prompted to open these checking accounts because chase mailed and emailed us vouchers to receive {$300.00} for opening each account and personal friends had also referred us. xxxx was assigned to assist us in this matter. his first question to us was \" where do you work? \". after informing him that we are both were xxxx employees he asked us what we were going to do with our xxxx accounts. we advised him we would be keeping those accounts open. he then asked what we would be using our new chase accounts for and i advised we would be using those accounts for miscellaneous savings, etc. it was then that xxxx xxxx advised he would not be opening the new accounts for us unless we closed our xxxx accounts and he tossed the chase voucher and our id \\'s back across the desk to us ( rude! ). confused, i questioned him further about this and he advised that he did not believe we were going to use our new chase accounts and would just close them in 6 months. upon clarifying that we would indeed keep the chase accounts open and meet all of the requirements of the offer he stated that we would not be closing our xxxx accounts. he reiterated that he would not open the accounts for us and advised that he would get his manager xxxx involved. when xxxx xxxx arrived in the office to speak with us she advised that chase would not be honoring the vouchers and would not open accounts for us because xxxx xxxx told her we were not planning to keep the accounts open and would not be \" using \\'\\' the accounts. i advised xxxx xxxx that we intended to meet the minimum requirements ( set up direct deposit and keep the account open for 6 months ) and would keep the accounts open further if we enjoyed the service we received from chase during that time. i advised we intended to have direct deposit active on the accounts and would be moving money in and out of the accounts, but she did not seem to believe that was qualifying usage of the accounts. she then advised that i had previously opened a chase account with a coupon about 10 years ago and did not keep it open. however, i believe that account was my primary checking account and i did keep it open for the required period of time and more. it was only when i moved out of state that i closed the account because i did not know if there would be chase branches in my new area. i am deeply insulted by my experience in trying to open these new accounts and feel that my wife and i have been discriminated against because of our employment with another banking institute. in addition to this occurrence while my wife and i we waiting in the lobby to meet with xxxx xxxx we both were able to clearly observe xxxx \\'s business interactions with another customer who was in his cubicle/office which has an open door and clear glass windows. we were able to hear their entire conversation and at a certain point xxxx xxxx pulled that customer \\'s xxxx score. after pulling the xxxx score up on his monitor he swiveled the monitor around so that it was facing directly out the window into the lobby and i could clearly see the customer \\'s score was xxxx. being in the banking business i understand well that this is a clear violation of customer confidentiality regulations and should be dealt with as such.'])))\n",
    "print(classifier_svc.predict(tfidf.transform(['my wife and i visited the chase bank branch at xxxx, xxxx, ky on xx/xx/2017 around xxxx am to open new checking accounts. we were prompted to open these checking accounts because chase mailed and emailed us vouchers to receive {$300.00} for opening each account and personal friends had also referred us. xxxx was assigned to assist us in this matter. his first question to us was \" where do you work? \". after informing him that we are both were xxxx employees he asked us what we were going to do with our xxxx accounts. we advised him we would be keeping those accounts open. he then asked what we would be using our new chase accounts for and i advised we would be using those accounts for miscellaneous savings, etc. it was then that xxxx xxxx advised he would not be opening the new accounts for us unless we closed our xxxx accounts and he tossed the chase voucher and our id \\'s back across the desk to us ( rude! ). confused, i questioned him further about this and he advised that he did not believe we were going to use our new chase accounts and would just close them in 6 months. upon clarifying that we would indeed keep the chase accounts open and meet all of the requirements of the offer he stated that we would not be closing our xxxx accounts. he reiterated that he would not open the accounts for us and advised that he would get his manager xxxx involved. when xxxx xxxx arrived in the office to speak with us she advised that chase would not be honoring the vouchers and would not open accounts for us because xxxx xxxx told her we were not planning to keep the accounts open and would not be \" using \\'\\' the accounts. i advised xxxx xxxx that we intended to meet the minimum requirements ( set up direct deposit and keep the account open for 6 months ) and would keep the accounts open further if we enjoyed the service we received from chase during that time. i advised we intended to have direct deposit active on the accounts and would be moving money in and out of the accounts, but she did not seem to believe that was qualifying usage of the accounts. she then advised that i had previously opened a chase account with a coupon about 10 years ago and did not keep it open. however, i believe that account was my primary checking account and i did keep it open for the required period of time and more. it was only when i moved out of state that i closed the account because i did not know if there would be chase branches in my new area. i am deeply insulted by my experience in trying to open these new accounts and feel that my wife and i have been discriminated against because of our employment with another banking institute. in addition to this occurrence while my wife and i we waiting in the lobby to meet with xxxx xxxx we both were able to clearly observe xxxx \\'s business interactions with another customer who was in his cubicle/office which has an open door and clear glass windows. we were able to hear their entire conversation and at a certain point xxxx xxxx pulled that customer \\'s xxxx score. after pulling the xxxx score up on his monitor he swiveled the monitor around so that it was facing directly out the window into the lobby and i could clearly see the customer \\'s score was xxxx. being in the banking business i understand well that this is a clear violation of customer confidentiality regulations and should be dealt with as such.'])))\n"
   ]
  },
  {
   "cell_type": "code",
   "execution_count": null,
   "metadata": {},
   "outputs": [],
   "source": []
  }
 ],
 "metadata": {
  "kernelspec": {
   "display_name": "Python 3",
   "language": "python",
   "name": "python3"
  },
  "language_info": {
   "codemirror_mode": {
    "name": "ipython",
    "version": 3
   },
   "file_extension": ".py",
   "mimetype": "text/x-python",
   "name": "python",
   "nbconvert_exporter": "python",
   "pygments_lexer": "ipython3",
   "version": "3.7.3"
  }
 },
 "nbformat": 4,
 "nbformat_minor": 2
}
