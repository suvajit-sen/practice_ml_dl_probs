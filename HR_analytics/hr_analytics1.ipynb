{
 "cells": [
  {
   "cell_type": "code",
   "execution_count": 1,
   "metadata": {},
   "outputs": [],
   "source": [
    "import pandas as pd\n",
    "import numpy as np\n",
    "import seaborn as sns\n",
    "import matplotlib.pyplot as plt\n",
    "pd.set_option('display.max_columns', None)\n"
   ]
  },
  {
   "cell_type": "code",
   "execution_count": 141,
   "metadata": {},
   "outputs": [],
   "source": [
    "hr_data = pd.read_csv('hr_analytics_train.csv')\n",
    "df = hr_data.copy()"
   ]
  },
  {
   "cell_type": "code",
   "execution_count": 142,
   "metadata": {},
   "outputs": [],
   "source": [
    "df.set_index('employee_id', inplace=True)"
   ]
  },
  {
   "cell_type": "code",
   "execution_count": 143,
   "metadata": {},
   "outputs": [
    {
     "data": {
      "text/html": [
       "<div>\n",
       "<style scoped>\n",
       "    .dataframe tbody tr th:only-of-type {\n",
       "        vertical-align: middle;\n",
       "    }\n",
       "\n",
       "    .dataframe tbody tr th {\n",
       "        vertical-align: top;\n",
       "    }\n",
       "\n",
       "    .dataframe thead th {\n",
       "        text-align: right;\n",
       "    }\n",
       "</style>\n",
       "<table border=\"1\" class=\"dataframe\">\n",
       "  <thead>\n",
       "    <tr style=\"text-align: right;\">\n",
       "      <th></th>\n",
       "      <th>department</th>\n",
       "      <th>region</th>\n",
       "      <th>education</th>\n",
       "      <th>gender</th>\n",
       "      <th>recruitment_channel</th>\n",
       "      <th>no_of_trainings</th>\n",
       "      <th>age</th>\n",
       "      <th>previous_year_rating</th>\n",
       "      <th>length_of_service</th>\n",
       "      <th>KPIs_met &gt;80%</th>\n",
       "      <th>awards_won?</th>\n",
       "      <th>avg_training_score</th>\n",
       "      <th>is_promoted</th>\n",
       "    </tr>\n",
       "    <tr>\n",
       "      <th>employee_id</th>\n",
       "      <th></th>\n",
       "      <th></th>\n",
       "      <th></th>\n",
       "      <th></th>\n",
       "      <th></th>\n",
       "      <th></th>\n",
       "      <th></th>\n",
       "      <th></th>\n",
       "      <th></th>\n",
       "      <th></th>\n",
       "      <th></th>\n",
       "      <th></th>\n",
       "      <th></th>\n",
       "    </tr>\n",
       "  </thead>\n",
       "  <tbody>\n",
       "    <tr>\n",
       "      <th>65438</th>\n",
       "      <td>Sales &amp; Marketing</td>\n",
       "      <td>region_7</td>\n",
       "      <td>Master's &amp; above</td>\n",
       "      <td>f</td>\n",
       "      <td>sourcing</td>\n",
       "      <td>1</td>\n",
       "      <td>35</td>\n",
       "      <td>5.0</td>\n",
       "      <td>8</td>\n",
       "      <td>1</td>\n",
       "      <td>0</td>\n",
       "      <td>49</td>\n",
       "      <td>0</td>\n",
       "    </tr>\n",
       "    <tr>\n",
       "      <th>65141</th>\n",
       "      <td>Operations</td>\n",
       "      <td>region_22</td>\n",
       "      <td>Bachelor's</td>\n",
       "      <td>m</td>\n",
       "      <td>other</td>\n",
       "      <td>1</td>\n",
       "      <td>30</td>\n",
       "      <td>5.0</td>\n",
       "      <td>4</td>\n",
       "      <td>0</td>\n",
       "      <td>0</td>\n",
       "      <td>60</td>\n",
       "      <td>0</td>\n",
       "    </tr>\n",
       "    <tr>\n",
       "      <th>7513</th>\n",
       "      <td>Sales &amp; Marketing</td>\n",
       "      <td>region_19</td>\n",
       "      <td>Bachelor's</td>\n",
       "      <td>m</td>\n",
       "      <td>sourcing</td>\n",
       "      <td>1</td>\n",
       "      <td>34</td>\n",
       "      <td>3.0</td>\n",
       "      <td>7</td>\n",
       "      <td>0</td>\n",
       "      <td>0</td>\n",
       "      <td>50</td>\n",
       "      <td>0</td>\n",
       "    </tr>\n",
       "    <tr>\n",
       "      <th>2542</th>\n",
       "      <td>Sales &amp; Marketing</td>\n",
       "      <td>region_23</td>\n",
       "      <td>Bachelor's</td>\n",
       "      <td>m</td>\n",
       "      <td>other</td>\n",
       "      <td>2</td>\n",
       "      <td>39</td>\n",
       "      <td>1.0</td>\n",
       "      <td>10</td>\n",
       "      <td>0</td>\n",
       "      <td>0</td>\n",
       "      <td>50</td>\n",
       "      <td>0</td>\n",
       "    </tr>\n",
       "    <tr>\n",
       "      <th>48945</th>\n",
       "      <td>Technology</td>\n",
       "      <td>region_26</td>\n",
       "      <td>Bachelor's</td>\n",
       "      <td>m</td>\n",
       "      <td>other</td>\n",
       "      <td>1</td>\n",
       "      <td>45</td>\n",
       "      <td>3.0</td>\n",
       "      <td>2</td>\n",
       "      <td>0</td>\n",
       "      <td>0</td>\n",
       "      <td>73</td>\n",
       "      <td>0</td>\n",
       "    </tr>\n",
       "  </tbody>\n",
       "</table>\n",
       "</div>"
      ],
      "text/plain": [
       "                    department     region         education gender  \\\n",
       "employee_id                                                          \n",
       "65438        Sales & Marketing   region_7  Master's & above      f   \n",
       "65141               Operations  region_22        Bachelor's      m   \n",
       "7513         Sales & Marketing  region_19        Bachelor's      m   \n",
       "2542         Sales & Marketing  region_23        Bachelor's      m   \n",
       "48945               Technology  region_26        Bachelor's      m   \n",
       "\n",
       "            recruitment_channel  no_of_trainings  age  previous_year_rating  \\\n",
       "employee_id                                                                   \n",
       "65438                  sourcing                1   35                   5.0   \n",
       "65141                     other                1   30                   5.0   \n",
       "7513                   sourcing                1   34                   3.0   \n",
       "2542                      other                2   39                   1.0   \n",
       "48945                     other                1   45                   3.0   \n",
       "\n",
       "             length_of_service  KPIs_met >80%  awards_won?  \\\n",
       "employee_id                                                  \n",
       "65438                        8              1            0   \n",
       "65141                        4              0            0   \n",
       "7513                         7              0            0   \n",
       "2542                        10              0            0   \n",
       "48945                        2              0            0   \n",
       "\n",
       "             avg_training_score  is_promoted  \n",
       "employee_id                                   \n",
       "65438                        49            0  \n",
       "65141                        60            0  \n",
       "7513                         50            0  \n",
       "2542                         50            0  \n",
       "48945                        73            0  "
      ]
     },
     "execution_count": 143,
     "metadata": {},
     "output_type": "execute_result"
    }
   ],
   "source": [
    "df.head()"
   ]
  },
  {
   "cell_type": "code",
   "execution_count": 144,
   "metadata": {},
   "outputs": [
    {
     "data": {
      "text/plain": [
       "0"
      ]
     },
     "execution_count": 144,
     "metadata": {},
     "output_type": "execute_result"
    }
   ],
   "source": [
    "# fill education missing values with bachelors'\n",
    "df['education'].value_counts()\n",
    "df['education'].fillna(\"Bachelor's\", inplace = True)\n",
    "df.education.isnull().sum()"
   ]
  },
  {
   "cell_type": "code",
   "execution_count": 145,
   "metadata": {},
   "outputs": [],
   "source": [
    "# Filling missing values: we have filled previous_yr_rating missing values with 3.9 if is_promoted = 1 else 3.26\n",
    "\n",
    "df['previous_year_rating'] = df.apply(\n",
    "    lambda row: 3.267910689246036 if np.isnan(row['previous_year_rating']) and row['is_promoted']==0 \n",
    "    else (3.986139986139986 if np.isnan(row['previous_year_rating']) and row['is_promoted']==1 else row['previous_year_rating'])\n",
    "    , axis=1)"
   ]
  },
  {
   "cell_type": "code",
   "execution_count": 146,
   "metadata": {},
   "outputs": [
    {
     "data": {
      "text/plain": [
       "0"
      ]
     },
     "execution_count": 146,
     "metadata": {},
     "output_type": "execute_result"
    }
   ],
   "source": [
    "df.previous_year_rating.isnull().sum()"
   ]
  },
  {
   "cell_type": "code",
   "execution_count": 147,
   "metadata": {},
   "outputs": [
    {
     "name": "stdout",
     "output_type": "stream",
     "text": [
      "3.329082313058271\n",
      "5.0\n",
      "5.0\n",
      "1.0\n"
     ]
    }
   ],
   "source": [
    "print(np.mean(df.previous_year_rating))\n",
    "print(df.previous_year_rating.max())\n",
    "print(df.previous_year_rating.max())\n",
    "print(df.previous_year_rating.min())"
   ]
  },
  {
   "cell_type": "code",
   "execution_count": 148,
   "metadata": {},
   "outputs": [
    {
     "data": {
      "text/plain": [
       "Index(['department', 'region', 'education', 'gender', 'recruitment_channel',\n",
       "       'no_of_trainings', 'age', 'previous_year_rating', 'length_of_service',\n",
       "       'KPIs_met >80%', 'awards_won?', 'avg_training_score', 'is_promoted'],\n",
       "      dtype='object')"
      ]
     },
     "execution_count": 148,
     "metadata": {},
     "output_type": "execute_result"
    }
   ],
   "source": [
    "df.columns"
   ]
  },
  {
   "cell_type": "code",
   "execution_count": 149,
   "metadata": {},
   "outputs": [],
   "source": [
    "df = df.rename(columns = {\"KPIs_met >80%\":\"KPIs_met_80\", \"awards_won?\":\"awards_won\"}) "
   ]
  },
  {
   "cell_type": "code",
   "execution_count": 150,
   "metadata": {
    "scrolled": true
   },
   "outputs": [
    {
     "data": {
      "text/html": [
       "<div>\n",
       "<style scoped>\n",
       "    .dataframe tbody tr th:only-of-type {\n",
       "        vertical-align: middle;\n",
       "    }\n",
       "\n",
       "    .dataframe tbody tr th {\n",
       "        vertical-align: top;\n",
       "    }\n",
       "\n",
       "    .dataframe thead th {\n",
       "        text-align: right;\n",
       "    }\n",
       "</style>\n",
       "<table border=\"1\" class=\"dataframe\">\n",
       "  <thead>\n",
       "    <tr style=\"text-align: right;\">\n",
       "      <th></th>\n",
       "      <th>no_of_trainings</th>\n",
       "      <th>age</th>\n",
       "      <th>previous_year_rating</th>\n",
       "      <th>length_of_service</th>\n",
       "      <th>KPIs_met_80</th>\n",
       "      <th>awards_won</th>\n",
       "      <th>avg_training_score</th>\n",
       "      <th>is_promoted</th>\n",
       "      <th>department_Finance</th>\n",
       "      <th>department_HR</th>\n",
       "      <th>department_Legal</th>\n",
       "      <th>department_Operations</th>\n",
       "      <th>department_Procurement</th>\n",
       "      <th>department_R&amp;D</th>\n",
       "      <th>department_Sales &amp; Marketing</th>\n",
       "      <th>department_Technology</th>\n",
       "      <th>region_region_10</th>\n",
       "      <th>region_region_11</th>\n",
       "      <th>region_region_12</th>\n",
       "      <th>region_region_13</th>\n",
       "      <th>region_region_14</th>\n",
       "      <th>region_region_15</th>\n",
       "      <th>region_region_16</th>\n",
       "      <th>region_region_17</th>\n",
       "      <th>region_region_18</th>\n",
       "      <th>region_region_19</th>\n",
       "      <th>region_region_2</th>\n",
       "      <th>region_region_20</th>\n",
       "      <th>region_region_21</th>\n",
       "      <th>region_region_22</th>\n",
       "      <th>region_region_23</th>\n",
       "      <th>region_region_24</th>\n",
       "      <th>region_region_25</th>\n",
       "      <th>region_region_26</th>\n",
       "      <th>region_region_27</th>\n",
       "      <th>region_region_28</th>\n",
       "      <th>region_region_29</th>\n",
       "      <th>region_region_3</th>\n",
       "      <th>region_region_30</th>\n",
       "      <th>region_region_31</th>\n",
       "      <th>region_region_32</th>\n",
       "      <th>region_region_33</th>\n",
       "      <th>region_region_34</th>\n",
       "      <th>region_region_4</th>\n",
       "      <th>region_region_5</th>\n",
       "      <th>region_region_6</th>\n",
       "      <th>region_region_7</th>\n",
       "      <th>region_region_8</th>\n",
       "      <th>region_region_9</th>\n",
       "      <th>education_Below Secondary</th>\n",
       "      <th>education_Master's &amp; above</th>\n",
       "      <th>gender_m</th>\n",
       "      <th>recruitment_channel_referred</th>\n",
       "      <th>recruitment_channel_sourcing</th>\n",
       "    </tr>\n",
       "    <tr>\n",
       "      <th>employee_id</th>\n",
       "      <th></th>\n",
       "      <th></th>\n",
       "      <th></th>\n",
       "      <th></th>\n",
       "      <th></th>\n",
       "      <th></th>\n",
       "      <th></th>\n",
       "      <th></th>\n",
       "      <th></th>\n",
       "      <th></th>\n",
       "      <th></th>\n",
       "      <th></th>\n",
       "      <th></th>\n",
       "      <th></th>\n",
       "      <th></th>\n",
       "      <th></th>\n",
       "      <th></th>\n",
       "      <th></th>\n",
       "      <th></th>\n",
       "      <th></th>\n",
       "      <th></th>\n",
       "      <th></th>\n",
       "      <th></th>\n",
       "      <th></th>\n",
       "      <th></th>\n",
       "      <th></th>\n",
       "      <th></th>\n",
       "      <th></th>\n",
       "      <th></th>\n",
       "      <th></th>\n",
       "      <th></th>\n",
       "      <th></th>\n",
       "      <th></th>\n",
       "      <th></th>\n",
       "      <th></th>\n",
       "      <th></th>\n",
       "      <th></th>\n",
       "      <th></th>\n",
       "      <th></th>\n",
       "      <th></th>\n",
       "      <th></th>\n",
       "      <th></th>\n",
       "      <th></th>\n",
       "      <th></th>\n",
       "      <th></th>\n",
       "      <th></th>\n",
       "      <th></th>\n",
       "      <th></th>\n",
       "      <th></th>\n",
       "      <th></th>\n",
       "      <th></th>\n",
       "      <th></th>\n",
       "      <th></th>\n",
       "      <th></th>\n",
       "    </tr>\n",
       "  </thead>\n",
       "  <tbody>\n",
       "    <tr>\n",
       "      <th>65438</th>\n",
       "      <td>1</td>\n",
       "      <td>35</td>\n",
       "      <td>5.0</td>\n",
       "      <td>8</td>\n",
       "      <td>1</td>\n",
       "      <td>0</td>\n",
       "      <td>49</td>\n",
       "      <td>0</td>\n",
       "      <td>0</td>\n",
       "      <td>0</td>\n",
       "      <td>0</td>\n",
       "      <td>0</td>\n",
       "      <td>0</td>\n",
       "      <td>0</td>\n",
       "      <td>1</td>\n",
       "      <td>0</td>\n",
       "      <td>0</td>\n",
       "      <td>0</td>\n",
       "      <td>0</td>\n",
       "      <td>0</td>\n",
       "      <td>0</td>\n",
       "      <td>0</td>\n",
       "      <td>0</td>\n",
       "      <td>0</td>\n",
       "      <td>0</td>\n",
       "      <td>0</td>\n",
       "      <td>0</td>\n",
       "      <td>0</td>\n",
       "      <td>0</td>\n",
       "      <td>0</td>\n",
       "      <td>0</td>\n",
       "      <td>0</td>\n",
       "      <td>0</td>\n",
       "      <td>0</td>\n",
       "      <td>0</td>\n",
       "      <td>0</td>\n",
       "      <td>0</td>\n",
       "      <td>0</td>\n",
       "      <td>0</td>\n",
       "      <td>0</td>\n",
       "      <td>0</td>\n",
       "      <td>0</td>\n",
       "      <td>0</td>\n",
       "      <td>0</td>\n",
       "      <td>0</td>\n",
       "      <td>0</td>\n",
       "      <td>1</td>\n",
       "      <td>0</td>\n",
       "      <td>0</td>\n",
       "      <td>0</td>\n",
       "      <td>1</td>\n",
       "      <td>0</td>\n",
       "      <td>0</td>\n",
       "      <td>1</td>\n",
       "    </tr>\n",
       "    <tr>\n",
       "      <th>65141</th>\n",
       "      <td>1</td>\n",
       "      <td>30</td>\n",
       "      <td>5.0</td>\n",
       "      <td>4</td>\n",
       "      <td>0</td>\n",
       "      <td>0</td>\n",
       "      <td>60</td>\n",
       "      <td>0</td>\n",
       "      <td>0</td>\n",
       "      <td>0</td>\n",
       "      <td>0</td>\n",
       "      <td>1</td>\n",
       "      <td>0</td>\n",
       "      <td>0</td>\n",
       "      <td>0</td>\n",
       "      <td>0</td>\n",
       "      <td>0</td>\n",
       "      <td>0</td>\n",
       "      <td>0</td>\n",
       "      <td>0</td>\n",
       "      <td>0</td>\n",
       "      <td>0</td>\n",
       "      <td>0</td>\n",
       "      <td>0</td>\n",
       "      <td>0</td>\n",
       "      <td>0</td>\n",
       "      <td>0</td>\n",
       "      <td>0</td>\n",
       "      <td>0</td>\n",
       "      <td>1</td>\n",
       "      <td>0</td>\n",
       "      <td>0</td>\n",
       "      <td>0</td>\n",
       "      <td>0</td>\n",
       "      <td>0</td>\n",
       "      <td>0</td>\n",
       "      <td>0</td>\n",
       "      <td>0</td>\n",
       "      <td>0</td>\n",
       "      <td>0</td>\n",
       "      <td>0</td>\n",
       "      <td>0</td>\n",
       "      <td>0</td>\n",
       "      <td>0</td>\n",
       "      <td>0</td>\n",
       "      <td>0</td>\n",
       "      <td>0</td>\n",
       "      <td>0</td>\n",
       "      <td>0</td>\n",
       "      <td>0</td>\n",
       "      <td>0</td>\n",
       "      <td>1</td>\n",
       "      <td>0</td>\n",
       "      <td>0</td>\n",
       "    </tr>\n",
       "    <tr>\n",
       "      <th>7513</th>\n",
       "      <td>1</td>\n",
       "      <td>34</td>\n",
       "      <td>3.0</td>\n",
       "      <td>7</td>\n",
       "      <td>0</td>\n",
       "      <td>0</td>\n",
       "      <td>50</td>\n",
       "      <td>0</td>\n",
       "      <td>0</td>\n",
       "      <td>0</td>\n",
       "      <td>0</td>\n",
       "      <td>0</td>\n",
       "      <td>0</td>\n",
       "      <td>0</td>\n",
       "      <td>1</td>\n",
       "      <td>0</td>\n",
       "      <td>0</td>\n",
       "      <td>0</td>\n",
       "      <td>0</td>\n",
       "      <td>0</td>\n",
       "      <td>0</td>\n",
       "      <td>0</td>\n",
       "      <td>0</td>\n",
       "      <td>0</td>\n",
       "      <td>0</td>\n",
       "      <td>1</td>\n",
       "      <td>0</td>\n",
       "      <td>0</td>\n",
       "      <td>0</td>\n",
       "      <td>0</td>\n",
       "      <td>0</td>\n",
       "      <td>0</td>\n",
       "      <td>0</td>\n",
       "      <td>0</td>\n",
       "      <td>0</td>\n",
       "      <td>0</td>\n",
       "      <td>0</td>\n",
       "      <td>0</td>\n",
       "      <td>0</td>\n",
       "      <td>0</td>\n",
       "      <td>0</td>\n",
       "      <td>0</td>\n",
       "      <td>0</td>\n",
       "      <td>0</td>\n",
       "      <td>0</td>\n",
       "      <td>0</td>\n",
       "      <td>0</td>\n",
       "      <td>0</td>\n",
       "      <td>0</td>\n",
       "      <td>0</td>\n",
       "      <td>0</td>\n",
       "      <td>1</td>\n",
       "      <td>0</td>\n",
       "      <td>1</td>\n",
       "    </tr>\n",
       "    <tr>\n",
       "      <th>2542</th>\n",
       "      <td>2</td>\n",
       "      <td>39</td>\n",
       "      <td>1.0</td>\n",
       "      <td>10</td>\n",
       "      <td>0</td>\n",
       "      <td>0</td>\n",
       "      <td>50</td>\n",
       "      <td>0</td>\n",
       "      <td>0</td>\n",
       "      <td>0</td>\n",
       "      <td>0</td>\n",
       "      <td>0</td>\n",
       "      <td>0</td>\n",
       "      <td>0</td>\n",
       "      <td>1</td>\n",
       "      <td>0</td>\n",
       "      <td>0</td>\n",
       "      <td>0</td>\n",
       "      <td>0</td>\n",
       "      <td>0</td>\n",
       "      <td>0</td>\n",
       "      <td>0</td>\n",
       "      <td>0</td>\n",
       "      <td>0</td>\n",
       "      <td>0</td>\n",
       "      <td>0</td>\n",
       "      <td>0</td>\n",
       "      <td>0</td>\n",
       "      <td>0</td>\n",
       "      <td>0</td>\n",
       "      <td>1</td>\n",
       "      <td>0</td>\n",
       "      <td>0</td>\n",
       "      <td>0</td>\n",
       "      <td>0</td>\n",
       "      <td>0</td>\n",
       "      <td>0</td>\n",
       "      <td>0</td>\n",
       "      <td>0</td>\n",
       "      <td>0</td>\n",
       "      <td>0</td>\n",
       "      <td>0</td>\n",
       "      <td>0</td>\n",
       "      <td>0</td>\n",
       "      <td>0</td>\n",
       "      <td>0</td>\n",
       "      <td>0</td>\n",
       "      <td>0</td>\n",
       "      <td>0</td>\n",
       "      <td>0</td>\n",
       "      <td>0</td>\n",
       "      <td>1</td>\n",
       "      <td>0</td>\n",
       "      <td>0</td>\n",
       "    </tr>\n",
       "    <tr>\n",
       "      <th>48945</th>\n",
       "      <td>1</td>\n",
       "      <td>45</td>\n",
       "      <td>3.0</td>\n",
       "      <td>2</td>\n",
       "      <td>0</td>\n",
       "      <td>0</td>\n",
       "      <td>73</td>\n",
       "      <td>0</td>\n",
       "      <td>0</td>\n",
       "      <td>0</td>\n",
       "      <td>0</td>\n",
       "      <td>0</td>\n",
       "      <td>0</td>\n",
       "      <td>0</td>\n",
       "      <td>0</td>\n",
       "      <td>1</td>\n",
       "      <td>0</td>\n",
       "      <td>0</td>\n",
       "      <td>0</td>\n",
       "      <td>0</td>\n",
       "      <td>0</td>\n",
       "      <td>0</td>\n",
       "      <td>0</td>\n",
       "      <td>0</td>\n",
       "      <td>0</td>\n",
       "      <td>0</td>\n",
       "      <td>0</td>\n",
       "      <td>0</td>\n",
       "      <td>0</td>\n",
       "      <td>0</td>\n",
       "      <td>0</td>\n",
       "      <td>0</td>\n",
       "      <td>0</td>\n",
       "      <td>1</td>\n",
       "      <td>0</td>\n",
       "      <td>0</td>\n",
       "      <td>0</td>\n",
       "      <td>0</td>\n",
       "      <td>0</td>\n",
       "      <td>0</td>\n",
       "      <td>0</td>\n",
       "      <td>0</td>\n",
       "      <td>0</td>\n",
       "      <td>0</td>\n",
       "      <td>0</td>\n",
       "      <td>0</td>\n",
       "      <td>0</td>\n",
       "      <td>0</td>\n",
       "      <td>0</td>\n",
       "      <td>0</td>\n",
       "      <td>0</td>\n",
       "      <td>1</td>\n",
       "      <td>0</td>\n",
       "      <td>0</td>\n",
       "    </tr>\n",
       "  </tbody>\n",
       "</table>\n",
       "</div>"
      ],
      "text/plain": [
       "             no_of_trainings  age  previous_year_rating  length_of_service  \\\n",
       "employee_id                                                                  \n",
       "65438                      1   35                   5.0                  8   \n",
       "65141                      1   30                   5.0                  4   \n",
       "7513                       1   34                   3.0                  7   \n",
       "2542                       2   39                   1.0                 10   \n",
       "48945                      1   45                   3.0                  2   \n",
       "\n",
       "             KPIs_met_80  awards_won  avg_training_score  is_promoted  \\\n",
       "employee_id                                                             \n",
       "65438                  1           0                  49            0   \n",
       "65141                  0           0                  60            0   \n",
       "7513                   0           0                  50            0   \n",
       "2542                   0           0                  50            0   \n",
       "48945                  0           0                  73            0   \n",
       "\n",
       "             department_Finance  department_HR  department_Legal  \\\n",
       "employee_id                                                        \n",
       "65438                         0              0                 0   \n",
       "65141                         0              0                 0   \n",
       "7513                          0              0                 0   \n",
       "2542                          0              0                 0   \n",
       "48945                         0              0                 0   \n",
       "\n",
       "             department_Operations  department_Procurement  department_R&D  \\\n",
       "employee_id                                                                  \n",
       "65438                            0                       0               0   \n",
       "65141                            1                       0               0   \n",
       "7513                             0                       0               0   \n",
       "2542                             0                       0               0   \n",
       "48945                            0                       0               0   \n",
       "\n",
       "             department_Sales & Marketing  department_Technology  \\\n",
       "employee_id                                                        \n",
       "65438                                   1                      0   \n",
       "65141                                   0                      0   \n",
       "7513                                    1                      0   \n",
       "2542                                    1                      0   \n",
       "48945                                   0                      1   \n",
       "\n",
       "             region_region_10  region_region_11  region_region_12  \\\n",
       "employee_id                                                         \n",
       "65438                       0                 0                 0   \n",
       "65141                       0                 0                 0   \n",
       "7513                        0                 0                 0   \n",
       "2542                        0                 0                 0   \n",
       "48945                       0                 0                 0   \n",
       "\n",
       "             region_region_13  region_region_14  region_region_15  \\\n",
       "employee_id                                                         \n",
       "65438                       0                 0                 0   \n",
       "65141                       0                 0                 0   \n",
       "7513                        0                 0                 0   \n",
       "2542                        0                 0                 0   \n",
       "48945                       0                 0                 0   \n",
       "\n",
       "             region_region_16  region_region_17  region_region_18  \\\n",
       "employee_id                                                         \n",
       "65438                       0                 0                 0   \n",
       "65141                       0                 0                 0   \n",
       "7513                        0                 0                 0   \n",
       "2542                        0                 0                 0   \n",
       "48945                       0                 0                 0   \n",
       "\n",
       "             region_region_19  region_region_2  region_region_20  \\\n",
       "employee_id                                                        \n",
       "65438                       0                0                 0   \n",
       "65141                       0                0                 0   \n",
       "7513                        1                0                 0   \n",
       "2542                        0                0                 0   \n",
       "48945                       0                0                 0   \n",
       "\n",
       "             region_region_21  region_region_22  region_region_23  \\\n",
       "employee_id                                                         \n",
       "65438                       0                 0                 0   \n",
       "65141                       0                 1                 0   \n",
       "7513                        0                 0                 0   \n",
       "2542                        0                 0                 1   \n",
       "48945                       0                 0                 0   \n",
       "\n",
       "             region_region_24  region_region_25  region_region_26  \\\n",
       "employee_id                                                         \n",
       "65438                       0                 0                 0   \n",
       "65141                       0                 0                 0   \n",
       "7513                        0                 0                 0   \n",
       "2542                        0                 0                 0   \n",
       "48945                       0                 0                 1   \n",
       "\n",
       "             region_region_27  region_region_28  region_region_29  \\\n",
       "employee_id                                                         \n",
       "65438                       0                 0                 0   \n",
       "65141                       0                 0                 0   \n",
       "7513                        0                 0                 0   \n",
       "2542                        0                 0                 0   \n",
       "48945                       0                 0                 0   \n",
       "\n",
       "             region_region_3  region_region_30  region_region_31  \\\n",
       "employee_id                                                        \n",
       "65438                      0                 0                 0   \n",
       "65141                      0                 0                 0   \n",
       "7513                       0                 0                 0   \n",
       "2542                       0                 0                 0   \n",
       "48945                      0                 0                 0   \n",
       "\n",
       "             region_region_32  region_region_33  region_region_34  \\\n",
       "employee_id                                                         \n",
       "65438                       0                 0                 0   \n",
       "65141                       0                 0                 0   \n",
       "7513                        0                 0                 0   \n",
       "2542                        0                 0                 0   \n",
       "48945                       0                 0                 0   \n",
       "\n",
       "             region_region_4  region_region_5  region_region_6  \\\n",
       "employee_id                                                      \n",
       "65438                      0                0                0   \n",
       "65141                      0                0                0   \n",
       "7513                       0                0                0   \n",
       "2542                       0                0                0   \n",
       "48945                      0                0                0   \n",
       "\n",
       "             region_region_7  region_region_8  region_region_9  \\\n",
       "employee_id                                                      \n",
       "65438                      1                0                0   \n",
       "65141                      0                0                0   \n",
       "7513                       0                0                0   \n",
       "2542                       0                0                0   \n",
       "48945                      0                0                0   \n",
       "\n",
       "             education_Below Secondary  education_Master's & above  gender_m  \\\n",
       "employee_id                                                                    \n",
       "65438                                0                           1         0   \n",
       "65141                                0                           0         1   \n",
       "7513                                 0                           0         1   \n",
       "2542                                 0                           0         1   \n",
       "48945                                0                           0         1   \n",
       "\n",
       "             recruitment_channel_referred  recruitment_channel_sourcing  \n",
       "employee_id                                                              \n",
       "65438                                   0                             1  \n",
       "65141                                   0                             0  \n",
       "7513                                    0                             1  \n",
       "2542                                    0                             0  \n",
       "48945                                   0                             0  "
      ]
     },
     "execution_count": 150,
     "metadata": {},
     "output_type": "execute_result"
    }
   ],
   "source": [
    "#emp_id = df['employee_id']\n",
    "#df = df.drop(columns=['employee_id'])\n",
    "df = pd.get_dummies(df, drop_first=True)\n",
    "df.head()"
   ]
  },
  {
   "cell_type": "code",
   "execution_count": 151,
   "metadata": {},
   "outputs": [],
   "source": [
    "df['kpi_award'] = df['KPIs_met_80'] + df['awards_won']"
   ]
  },
  {
   "cell_type": "code",
   "execution_count": 129,
   "metadata": {},
   "outputs": [],
   "source": [
    "#df = df.drop(columns=['no_of_trainings','age'])"
   ]
  },
  {
   "cell_type": "code",
   "execution_count": 130,
   "metadata": {},
   "outputs": [
    {
     "data": {
      "text/plain": [
       "'df2 = df.copy()\\ndf2 = df2.drop(columns=[\\'is_promoted\\'])\\ndf2.corrwith(df.is_promoted).plot.bar(figsize=(20,10), fontsize=15, grid=True, title=\"correlation with is_promoted\")'"
      ]
     },
     "execution_count": 130,
     "metadata": {},
     "output_type": "execute_result"
    }
   ],
   "source": [
    "'''df2 = df.copy()\n",
    "df2 = df2.drop(columns=['is_promoted'])\n",
    "df2.corrwith(df.is_promoted).plot.bar(figsize=(20,10), fontsize=15, grid=True, title=\"correlation with is_promoted\")'''"
   ]
  },
  {
   "cell_type": "code",
   "execution_count": 152,
   "metadata": {},
   "outputs": [],
   "source": [
    "# lets now check with dropping several cols how that impacts the overall models\n",
    "X = df.drop(columns=['is_promoted'])\n",
    "#X = df.drop(columns=['is_promoted'])"
   ]
  },
  {
   "cell_type": "code",
   "execution_count": 153,
   "metadata": {},
   "outputs": [],
   "source": [
    "Y = df['is_promoted']"
   ]
  },
  {
   "cell_type": "code",
   "execution_count": 133,
   "metadata": {
    "scrolled": true
   },
   "outputs": [
    {
     "name": "stdout",
     "output_type": "stream",
     "text": [
      "['previous_year_rating', 'length_of_service', 'KPIs_met_80', 'awards_won', 'avg_training_score', 'department_Finance', 'department_HR', 'department_Legal', 'department_Operations', 'department_Procurement', 'department_R&D', 'department_Sales & Marketing', 'department_Technology', 'region_region_10', 'region_region_11', 'region_region_12', 'region_region_13', 'region_region_14', 'region_region_15', 'region_region_16', 'region_region_17', 'region_region_18', 'region_region_19', 'region_region_2', 'region_region_20', 'region_region_21', 'region_region_22', 'region_region_23', 'region_region_24', 'region_region_25', 'region_region_26', 'region_region_27', 'region_region_28', 'region_region_29', 'region_region_3', 'region_region_30', 'region_region_31', 'region_region_32', 'region_region_33', 'region_region_34', 'region_region_4', 'region_region_5', 'region_region_6', 'region_region_7', 'region_region_8', 'region_region_9', 'education_Below Secondary', \"education_Master's & above\", 'gender_m', 'recruitment_channel_referred', 'recruitment_channel_sourcing', 'kpi_award', 'previous_year_rating_length_of_service', 'previous_year_rating_KPIs_met_80', 'previous_year_rating_awards_won', 'previous_year_rating_avg_training_score', 'previous_year_rating_department_Finance', 'previous_year_rating_department_HR', 'previous_year_rating_department_Legal', 'previous_year_rating_department_Operations', 'previous_year_rating_department_Procurement', 'previous_year_rating_department_R&D', 'previous_year_rating_department_Sales & Marketing', 'previous_year_rating_department_Technology', 'previous_year_rating_region_region_10', 'previous_year_rating_region_region_11', 'previous_year_rating_region_region_12', 'previous_year_rating_region_region_13', 'previous_year_rating_region_region_14', 'previous_year_rating_region_region_15', 'previous_year_rating_region_region_16', 'previous_year_rating_region_region_17', 'previous_year_rating_region_region_18', 'previous_year_rating_region_region_19', 'previous_year_rating_region_region_2', 'previous_year_rating_region_region_20', 'previous_year_rating_region_region_21', 'previous_year_rating_region_region_22', 'previous_year_rating_region_region_23', 'previous_year_rating_region_region_24', 'previous_year_rating_region_region_25', 'previous_year_rating_region_region_26', 'previous_year_rating_region_region_27', 'previous_year_rating_region_region_28', 'previous_year_rating_region_region_29', 'previous_year_rating_region_region_3', 'previous_year_rating_region_region_30', 'previous_year_rating_region_region_31', 'previous_year_rating_region_region_32', 'previous_year_rating_region_region_33', 'previous_year_rating_region_region_34', 'previous_year_rating_region_region_4', 'previous_year_rating_region_region_5', 'previous_year_rating_region_region_6', 'previous_year_rating_region_region_7', 'previous_year_rating_region_region_8', 'previous_year_rating_region_region_9', 'previous_year_rating_education_Below Secondary', \"previous_year_rating_education_Master's & above\", 'previous_year_rating_gender_m', 'previous_year_rating_recruitment_channel_referred', 'previous_year_rating_recruitment_channel_sourcing', 'previous_year_rating_kpi_award', 'length_of_service_KPIs_met_80', 'length_of_service_awards_won', 'length_of_service_avg_training_score', 'length_of_service_department_Finance', 'length_of_service_department_HR', 'length_of_service_department_Legal', 'length_of_service_department_Operations', 'length_of_service_department_Procurement', 'length_of_service_department_R&D', 'length_of_service_department_Sales & Marketing', 'length_of_service_department_Technology', 'length_of_service_region_region_10', 'length_of_service_region_region_11', 'length_of_service_region_region_12', 'length_of_service_region_region_13', 'length_of_service_region_region_14', 'length_of_service_region_region_15', 'length_of_service_region_region_16', 'length_of_service_region_region_17', 'length_of_service_region_region_18', 'length_of_service_region_region_19', 'length_of_service_region_region_2', 'length_of_service_region_region_20', 'length_of_service_region_region_21', 'length_of_service_region_region_22', 'length_of_service_region_region_23', 'length_of_service_region_region_24', 'length_of_service_region_region_25', 'length_of_service_region_region_26', 'length_of_service_region_region_27', 'length_of_service_region_region_28', 'length_of_service_region_region_29', 'length_of_service_region_region_3', 'length_of_service_region_region_30', 'length_of_service_region_region_31', 'length_of_service_region_region_32', 'length_of_service_region_region_33', 'length_of_service_region_region_34', 'length_of_service_region_region_4', 'length_of_service_region_region_5', 'length_of_service_region_region_6', 'length_of_service_region_region_7', 'length_of_service_region_region_8', 'length_of_service_region_region_9', 'length_of_service_education_Below Secondary', \"length_of_service_education_Master's & above\", 'length_of_service_gender_m', 'length_of_service_recruitment_channel_referred', 'length_of_service_recruitment_channel_sourcing', 'length_of_service_kpi_award', 'KPIs_met_80_awards_won', 'KPIs_met_80_avg_training_score', 'KPIs_met_80_department_Finance', 'KPIs_met_80_department_HR', 'KPIs_met_80_department_Legal', 'KPIs_met_80_department_Operations', 'KPIs_met_80_department_Procurement', 'KPIs_met_80_department_R&D', 'KPIs_met_80_department_Sales & Marketing', 'KPIs_met_80_department_Technology', 'KPIs_met_80_region_region_10', 'KPIs_met_80_region_region_11', 'KPIs_met_80_region_region_12', 'KPIs_met_80_region_region_13', 'KPIs_met_80_region_region_14', 'KPIs_met_80_region_region_15', 'KPIs_met_80_region_region_16', 'KPIs_met_80_region_region_17', 'KPIs_met_80_region_region_18', 'KPIs_met_80_region_region_19', 'KPIs_met_80_region_region_2', 'KPIs_met_80_region_region_20', 'KPIs_met_80_region_region_21', 'KPIs_met_80_region_region_22', 'KPIs_met_80_region_region_23', 'KPIs_met_80_region_region_24', 'KPIs_met_80_region_region_25', 'KPIs_met_80_region_region_26', 'KPIs_met_80_region_region_27', 'KPIs_met_80_region_region_28', 'KPIs_met_80_region_region_29', 'KPIs_met_80_region_region_3', 'KPIs_met_80_region_region_30', 'KPIs_met_80_region_region_31', 'KPIs_met_80_region_region_32', 'KPIs_met_80_region_region_33', 'KPIs_met_80_region_region_34', 'KPIs_met_80_region_region_4', 'KPIs_met_80_region_region_5', 'KPIs_met_80_region_region_6', 'KPIs_met_80_region_region_7', 'KPIs_met_80_region_region_8', 'KPIs_met_80_region_region_9', 'KPIs_met_80_education_Below Secondary', \"KPIs_met_80_education_Master's & above\", 'KPIs_met_80_gender_m', 'KPIs_met_80_recruitment_channel_referred', 'KPIs_met_80_recruitment_channel_sourcing', 'KPIs_met_80_kpi_award', 'awards_won_avg_training_score', 'awards_won_department_Finance', 'awards_won_department_HR', 'awards_won_department_Legal', 'awards_won_department_Operations', 'awards_won_department_Procurement', 'awards_won_department_R&D', 'awards_won_department_Sales & Marketing', 'awards_won_department_Technology', 'awards_won_region_region_10', 'awards_won_region_region_11', 'awards_won_region_region_12', 'awards_won_region_region_13', 'awards_won_region_region_14', 'awards_won_region_region_15', 'awards_won_region_region_16', 'awards_won_region_region_17', 'awards_won_region_region_18', 'awards_won_region_region_19', 'awards_won_region_region_2', 'awards_won_region_region_20', 'awards_won_region_region_21', 'awards_won_region_region_22', 'awards_won_region_region_23', 'awards_won_region_region_24', 'awards_won_region_region_25', 'awards_won_region_region_26', 'awards_won_region_region_27', 'awards_won_region_region_28', 'awards_won_region_region_29', 'awards_won_region_region_3', 'awards_won_region_region_30', 'awards_won_region_region_31', 'awards_won_region_region_32', 'awards_won_region_region_33', 'awards_won_region_region_34', 'awards_won_region_region_4', 'awards_won_region_region_5', 'awards_won_region_region_6', 'awards_won_region_region_7', 'awards_won_region_region_8', 'awards_won_region_region_9', 'awards_won_education_Below Secondary', \"awards_won_education_Master's & above\", 'awards_won_gender_m', 'awards_won_recruitment_channel_referred', 'awards_won_recruitment_channel_sourcing', 'awards_won_kpi_award', 'avg_training_score_department_Finance', 'avg_training_score_department_HR', 'avg_training_score_department_Legal', 'avg_training_score_department_Operations', 'avg_training_score_department_Procurement', 'avg_training_score_department_R&D', 'avg_training_score_department_Sales & Marketing', 'avg_training_score_department_Technology', 'avg_training_score_region_region_10', 'avg_training_score_region_region_11', 'avg_training_score_region_region_12', 'avg_training_score_region_region_13', 'avg_training_score_region_region_14', 'avg_training_score_region_region_15', 'avg_training_score_region_region_16', 'avg_training_score_region_region_17', 'avg_training_score_region_region_18', 'avg_training_score_region_region_19', 'avg_training_score_region_region_2', 'avg_training_score_region_region_20', 'avg_training_score_region_region_21', 'avg_training_score_region_region_22', 'avg_training_score_region_region_23', 'avg_training_score_region_region_24', 'avg_training_score_region_region_25', 'avg_training_score_region_region_26', 'avg_training_score_region_region_27', 'avg_training_score_region_region_28', 'avg_training_score_region_region_29', 'avg_training_score_region_region_3', 'avg_training_score_region_region_30', 'avg_training_score_region_region_31', 'avg_training_score_region_region_32', 'avg_training_score_region_region_33', 'avg_training_score_region_region_34', 'avg_training_score_region_region_4', 'avg_training_score_region_region_5', 'avg_training_score_region_region_6', 'avg_training_score_region_region_7', 'avg_training_score_region_region_8', 'avg_training_score_region_region_9', 'avg_training_score_education_Below Secondary', \"avg_training_score_education_Master's & above\", 'avg_training_score_gender_m', 'avg_training_score_recruitment_channel_referred', 'avg_training_score_recruitment_channel_sourcing', 'avg_training_score_kpi_award', 'department_Finance_department_HR', 'department_Finance_department_Legal', 'department_Finance_department_Operations', 'department_Finance_department_Procurement', 'department_Finance_department_R&D', 'department_Finance_department_Sales & Marketing', 'department_Finance_department_Technology', 'department_Finance_region_region_10', 'department_Finance_region_region_11', 'department_Finance_region_region_12', 'department_Finance_region_region_13', 'department_Finance_region_region_14', 'department_Finance_region_region_15', 'department_Finance_region_region_16', 'department_Finance_region_region_17', 'department_Finance_region_region_18', 'department_Finance_region_region_19', 'department_Finance_region_region_2', 'department_Finance_region_region_20', 'department_Finance_region_region_21', 'department_Finance_region_region_22', 'department_Finance_region_region_23', 'department_Finance_region_region_24', 'department_Finance_region_region_25', 'department_Finance_region_region_26', 'department_Finance_region_region_27', 'department_Finance_region_region_28', 'department_Finance_region_region_29', 'department_Finance_region_region_3', 'department_Finance_region_region_30', 'department_Finance_region_region_31', 'department_Finance_region_region_32', 'department_Finance_region_region_33', 'department_Finance_region_region_34', 'department_Finance_region_region_4', 'department_Finance_region_region_5', 'department_Finance_region_region_6', 'department_Finance_region_region_7', 'department_Finance_region_region_8', 'department_Finance_region_region_9', 'department_Finance_education_Below Secondary', \"department_Finance_education_Master's & above\", 'department_Finance_gender_m', 'department_Finance_recruitment_channel_referred', 'department_Finance_recruitment_channel_sourcing', 'department_Finance_kpi_award', 'department_HR_department_Legal', 'department_HR_department_Operations', 'department_HR_department_Procurement', 'department_HR_department_R&D', 'department_HR_department_Sales & Marketing', 'department_HR_department_Technology', 'department_HR_region_region_10', 'department_HR_region_region_11', 'department_HR_region_region_12', 'department_HR_region_region_13', 'department_HR_region_region_14', 'department_HR_region_region_15', 'department_HR_region_region_16', 'department_HR_region_region_17', 'department_HR_region_region_18', 'department_HR_region_region_19', 'department_HR_region_region_2', 'department_HR_region_region_20', 'department_HR_region_region_21', 'department_HR_region_region_22', 'department_HR_region_region_23', 'department_HR_region_region_24', 'department_HR_region_region_25', 'department_HR_region_region_26', 'department_HR_region_region_27', 'department_HR_region_region_28', 'department_HR_region_region_29', 'department_HR_region_region_3', 'department_HR_region_region_30', 'department_HR_region_region_31', 'department_HR_region_region_32', 'department_HR_region_region_33', 'department_HR_region_region_34', 'department_HR_region_region_4', 'department_HR_region_region_5', 'department_HR_region_region_6', 'department_HR_region_region_7', 'department_HR_region_region_8', 'department_HR_region_region_9', 'department_HR_education_Below Secondary', \"department_HR_education_Master's & above\", 'department_HR_gender_m', 'department_HR_recruitment_channel_referred', 'department_HR_recruitment_channel_sourcing', 'department_HR_kpi_award', 'department_Legal_department_Operations', 'department_Legal_department_Procurement', 'department_Legal_department_R&D', 'department_Legal_department_Sales & Marketing', 'department_Legal_department_Technology', 'department_Legal_region_region_10', 'department_Legal_region_region_11', 'department_Legal_region_region_12', 'department_Legal_region_region_13', 'department_Legal_region_region_14', 'department_Legal_region_region_15', 'department_Legal_region_region_16', 'department_Legal_region_region_17', 'department_Legal_region_region_18', 'department_Legal_region_region_19', 'department_Legal_region_region_2', 'department_Legal_region_region_20', 'department_Legal_region_region_21', 'department_Legal_region_region_22', 'department_Legal_region_region_23', 'department_Legal_region_region_24', 'department_Legal_region_region_25', 'department_Legal_region_region_26', 'department_Legal_region_region_27', 'department_Legal_region_region_28', 'department_Legal_region_region_29', 'department_Legal_region_region_3', 'department_Legal_region_region_30', 'department_Legal_region_region_31', 'department_Legal_region_region_32', 'department_Legal_region_region_33', 'department_Legal_region_region_34', 'department_Legal_region_region_4', 'department_Legal_region_region_5', 'department_Legal_region_region_6', 'department_Legal_region_region_7', 'department_Legal_region_region_8', 'department_Legal_region_region_9', 'department_Legal_education_Below Secondary', \"department_Legal_education_Master's & above\", 'department_Legal_gender_m', 'department_Legal_recruitment_channel_referred', 'department_Legal_recruitment_channel_sourcing', 'department_Legal_kpi_award', 'department_Operations_department_Procurement', 'department_Operations_department_R&D', 'department_Operations_department_Sales & Marketing', 'department_Operations_department_Technology', 'department_Operations_region_region_10', 'department_Operations_region_region_11', 'department_Operations_region_region_12', 'department_Operations_region_region_13', 'department_Operations_region_region_14', 'department_Operations_region_region_15', 'department_Operations_region_region_16', 'department_Operations_region_region_17', 'department_Operations_region_region_18', 'department_Operations_region_region_19', 'department_Operations_region_region_2', 'department_Operations_region_region_20', 'department_Operations_region_region_21', 'department_Operations_region_region_22', 'department_Operations_region_region_23', 'department_Operations_region_region_24', 'department_Operations_region_region_25', 'department_Operations_region_region_26', 'department_Operations_region_region_27', 'department_Operations_region_region_28', 'department_Operations_region_region_29', 'department_Operations_region_region_3', 'department_Operations_region_region_30', 'department_Operations_region_region_31', 'department_Operations_region_region_32', 'department_Operations_region_region_33', 'department_Operations_region_region_34', 'department_Operations_region_region_4', 'department_Operations_region_region_5', 'department_Operations_region_region_6', 'department_Operations_region_region_7', 'department_Operations_region_region_8', 'department_Operations_region_region_9', 'department_Operations_education_Below Secondary', \"department_Operations_education_Master's & above\", 'department_Operations_gender_m', 'department_Operations_recruitment_channel_referred', 'department_Operations_recruitment_channel_sourcing', 'department_Operations_kpi_award', 'department_Procurement_department_R&D', 'department_Procurement_department_Sales & Marketing', 'department_Procurement_department_Technology', 'department_Procurement_region_region_10', 'department_Procurement_region_region_11', 'department_Procurement_region_region_12', 'department_Procurement_region_region_13', 'department_Procurement_region_region_14', 'department_Procurement_region_region_15', 'department_Procurement_region_region_16', 'department_Procurement_region_region_17', 'department_Procurement_region_region_18', 'department_Procurement_region_region_19', 'department_Procurement_region_region_2', 'department_Procurement_region_region_20', 'department_Procurement_region_region_21', 'department_Procurement_region_region_22', 'department_Procurement_region_region_23', 'department_Procurement_region_region_24', 'department_Procurement_region_region_25', 'department_Procurement_region_region_26', 'department_Procurement_region_region_27', 'department_Procurement_region_region_28', 'department_Procurement_region_region_29', 'department_Procurement_region_region_3', 'department_Procurement_region_region_30', 'department_Procurement_region_region_31', 'department_Procurement_region_region_32', 'department_Procurement_region_region_33', 'department_Procurement_region_region_34', 'department_Procurement_region_region_4', 'department_Procurement_region_region_5', 'department_Procurement_region_region_6', 'department_Procurement_region_region_7', 'department_Procurement_region_region_8', 'department_Procurement_region_region_9', 'department_Procurement_education_Below Secondary', \"department_Procurement_education_Master's & above\", 'department_Procurement_gender_m', 'department_Procurement_recruitment_channel_referred', 'department_Procurement_recruitment_channel_sourcing', 'department_Procurement_kpi_award', 'department_R&D_department_Sales & Marketing', 'department_R&D_department_Technology', 'department_R&D_region_region_10', 'department_R&D_region_region_11', 'department_R&D_region_region_12', 'department_R&D_region_region_13', 'department_R&D_region_region_14', 'department_R&D_region_region_15', 'department_R&D_region_region_16', 'department_R&D_region_region_17', 'department_R&D_region_region_18', 'department_R&D_region_region_19', 'department_R&D_region_region_2', 'department_R&D_region_region_20', 'department_R&D_region_region_21', 'department_R&D_region_region_22', 'department_R&D_region_region_23', 'department_R&D_region_region_24', 'department_R&D_region_region_25', 'department_R&D_region_region_26', 'department_R&D_region_region_27', 'department_R&D_region_region_28', 'department_R&D_region_region_29', 'department_R&D_region_region_3', 'department_R&D_region_region_30', 'department_R&D_region_region_31', 'department_R&D_region_region_32', 'department_R&D_region_region_33', 'department_R&D_region_region_34', 'department_R&D_region_region_4', 'department_R&D_region_region_5', 'department_R&D_region_region_6', 'department_R&D_region_region_7', 'department_R&D_region_region_8', 'department_R&D_region_region_9', 'department_R&D_education_Below Secondary', \"department_R&D_education_Master's & above\", 'department_R&D_gender_m', 'department_R&D_recruitment_channel_referred', 'department_R&D_recruitment_channel_sourcing', 'department_R&D_kpi_award', 'department_Sales & Marketing_department_Technology', 'department_Sales & Marketing_region_region_10', 'department_Sales & Marketing_region_region_11', 'department_Sales & Marketing_region_region_12', 'department_Sales & Marketing_region_region_13', 'department_Sales & Marketing_region_region_14', 'department_Sales & Marketing_region_region_15', 'department_Sales & Marketing_region_region_16', 'department_Sales & Marketing_region_region_17', 'department_Sales & Marketing_region_region_18', 'department_Sales & Marketing_region_region_19', 'department_Sales & Marketing_region_region_2', 'department_Sales & Marketing_region_region_20', 'department_Sales & Marketing_region_region_21', 'department_Sales & Marketing_region_region_22', 'department_Sales & Marketing_region_region_23', 'department_Sales & Marketing_region_region_24', 'department_Sales & Marketing_region_region_25', 'department_Sales & Marketing_region_region_26', 'department_Sales & Marketing_region_region_27', 'department_Sales & Marketing_region_region_28', 'department_Sales & Marketing_region_region_29', 'department_Sales & Marketing_region_region_3', 'department_Sales & Marketing_region_region_30', 'department_Sales & Marketing_region_region_31', 'department_Sales & Marketing_region_region_32', 'department_Sales & Marketing_region_region_33', 'department_Sales & Marketing_region_region_34', 'department_Sales & Marketing_region_region_4', 'department_Sales & Marketing_region_region_5', 'department_Sales & Marketing_region_region_6', 'department_Sales & Marketing_region_region_7', 'department_Sales & Marketing_region_region_8', 'department_Sales & Marketing_region_region_9', 'department_Sales & Marketing_education_Below Secondary', \"department_Sales & Marketing_education_Master's & above\", 'department_Sales & Marketing_gender_m', 'department_Sales & Marketing_recruitment_channel_referred', 'department_Sales & Marketing_recruitment_channel_sourcing', 'department_Sales & Marketing_kpi_award', 'department_Technology_region_region_10', 'department_Technology_region_region_11', 'department_Technology_region_region_12', 'department_Technology_region_region_13', 'department_Technology_region_region_14', 'department_Technology_region_region_15', 'department_Technology_region_region_16', 'department_Technology_region_region_17', 'department_Technology_region_region_18', 'department_Technology_region_region_19', 'department_Technology_region_region_2', 'department_Technology_region_region_20', 'department_Technology_region_region_21', 'department_Technology_region_region_22', 'department_Technology_region_region_23', 'department_Technology_region_region_24', 'department_Technology_region_region_25', 'department_Technology_region_region_26', 'department_Technology_region_region_27', 'department_Technology_region_region_28', 'department_Technology_region_region_29', 'department_Technology_region_region_3', 'department_Technology_region_region_30', 'department_Technology_region_region_31', 'department_Technology_region_region_32', 'department_Technology_region_region_33', 'department_Technology_region_region_34', 'department_Technology_region_region_4', 'department_Technology_region_region_5', 'department_Technology_region_region_6', 'department_Technology_region_region_7', 'department_Technology_region_region_8', 'department_Technology_region_region_9', 'department_Technology_education_Below Secondary', \"department_Technology_education_Master's & above\", 'department_Technology_gender_m', 'department_Technology_recruitment_channel_referred', 'department_Technology_recruitment_channel_sourcing', 'department_Technology_kpi_award', 'region_region_10_region_region_11', 'region_region_10_region_region_12', 'region_region_10_region_region_13', 'region_region_10_region_region_14', 'region_region_10_region_region_15', 'region_region_10_region_region_16', 'region_region_10_region_region_17', 'region_region_10_region_region_18', 'region_region_10_region_region_19', 'region_region_10_region_region_2', 'region_region_10_region_region_20', 'region_region_10_region_region_21', 'region_region_10_region_region_22', 'region_region_10_region_region_23', 'region_region_10_region_region_24', 'region_region_10_region_region_25', 'region_region_10_region_region_26', 'region_region_10_region_region_27', 'region_region_10_region_region_28', 'region_region_10_region_region_29', 'region_region_10_region_region_3', 'region_region_10_region_region_30', 'region_region_10_region_region_31', 'region_region_10_region_region_32', 'region_region_10_region_region_33', 'region_region_10_region_region_34', 'region_region_10_region_region_4', 'region_region_10_region_region_5', 'region_region_10_region_region_6', 'region_region_10_region_region_7', 'region_region_10_region_region_8', 'region_region_10_region_region_9', 'region_region_10_education_Below Secondary', \"region_region_10_education_Master's & above\", 'region_region_10_gender_m', 'region_region_10_recruitment_channel_referred', 'region_region_10_recruitment_channel_sourcing', 'region_region_10_kpi_award', 'region_region_11_region_region_12', 'region_region_11_region_region_13', 'region_region_11_region_region_14', 'region_region_11_region_region_15', 'region_region_11_region_region_16', 'region_region_11_region_region_17', 'region_region_11_region_region_18', 'region_region_11_region_region_19', 'region_region_11_region_region_2', 'region_region_11_region_region_20', 'region_region_11_region_region_21', 'region_region_11_region_region_22', 'region_region_11_region_region_23', 'region_region_11_region_region_24', 'region_region_11_region_region_25', 'region_region_11_region_region_26', 'region_region_11_region_region_27', 'region_region_11_region_region_28', 'region_region_11_region_region_29', 'region_region_11_region_region_3', 'region_region_11_region_region_30', 'region_region_11_region_region_31', 'region_region_11_region_region_32', 'region_region_11_region_region_33', 'region_region_11_region_region_34', 'region_region_11_region_region_4', 'region_region_11_region_region_5', 'region_region_11_region_region_6', 'region_region_11_region_region_7', 'region_region_11_region_region_8', 'region_region_11_region_region_9', 'region_region_11_education_Below Secondary', \"region_region_11_education_Master's & above\", 'region_region_11_gender_m', 'region_region_11_recruitment_channel_referred', 'region_region_11_recruitment_channel_sourcing', 'region_region_11_kpi_award', 'region_region_12_region_region_13', 'region_region_12_region_region_14', 'region_region_12_region_region_15', 'region_region_12_region_region_16', 'region_region_12_region_region_17', 'region_region_12_region_region_18', 'region_region_12_region_region_19', 'region_region_12_region_region_2', 'region_region_12_region_region_20', 'region_region_12_region_region_21', 'region_region_12_region_region_22', 'region_region_12_region_region_23', 'region_region_12_region_region_24', 'region_region_12_region_region_25', 'region_region_12_region_region_26', 'region_region_12_region_region_27', 'region_region_12_region_region_28', 'region_region_12_region_region_29', 'region_region_12_region_region_3', 'region_region_12_region_region_30', 'region_region_12_region_region_31', 'region_region_12_region_region_32', 'region_region_12_region_region_33', 'region_region_12_region_region_34', 'region_region_12_region_region_4', 'region_region_12_region_region_5', 'region_region_12_region_region_6', 'region_region_12_region_region_7', 'region_region_12_region_region_8', 'region_region_12_region_region_9', 'region_region_12_education_Below Secondary', \"region_region_12_education_Master's & above\", 'region_region_12_gender_m', 'region_region_12_recruitment_channel_referred', 'region_region_12_recruitment_channel_sourcing', 'region_region_12_kpi_award', 'region_region_13_region_region_14', 'region_region_13_region_region_15', 'region_region_13_region_region_16', 'region_region_13_region_region_17', 'region_region_13_region_region_18', 'region_region_13_region_region_19', 'region_region_13_region_region_2', 'region_region_13_region_region_20', 'region_region_13_region_region_21', 'region_region_13_region_region_22', 'region_region_13_region_region_23', 'region_region_13_region_region_24', 'region_region_13_region_region_25', 'region_region_13_region_region_26', 'region_region_13_region_region_27', 'region_region_13_region_region_28', 'region_region_13_region_region_29', 'region_region_13_region_region_3', 'region_region_13_region_region_30', 'region_region_13_region_region_31', 'region_region_13_region_region_32', 'region_region_13_region_region_33', 'region_region_13_region_region_34', 'region_region_13_region_region_4', 'region_region_13_region_region_5', 'region_region_13_region_region_6', 'region_region_13_region_region_7', 'region_region_13_region_region_8', 'region_region_13_region_region_9', 'region_region_13_education_Below Secondary', \"region_region_13_education_Master's & above\", 'region_region_13_gender_m', 'region_region_13_recruitment_channel_referred', 'region_region_13_recruitment_channel_sourcing', 'region_region_13_kpi_award', 'region_region_14_region_region_15', 'region_region_14_region_region_16', 'region_region_14_region_region_17', 'region_region_14_region_region_18', 'region_region_14_region_region_19', 'region_region_14_region_region_2', 'region_region_14_region_region_20', 'region_region_14_region_region_21', 'region_region_14_region_region_22', 'region_region_14_region_region_23', 'region_region_14_region_region_24', 'region_region_14_region_region_25', 'region_region_14_region_region_26', 'region_region_14_region_region_27', 'region_region_14_region_region_28', 'region_region_14_region_region_29', 'region_region_14_region_region_3', 'region_region_14_region_region_30', 'region_region_14_region_region_31', 'region_region_14_region_region_32', 'region_region_14_region_region_33', 'region_region_14_region_region_34', 'region_region_14_region_region_4', 'region_region_14_region_region_5', 'region_region_14_region_region_6', 'region_region_14_region_region_7', 'region_region_14_region_region_8', 'region_region_14_region_region_9', 'region_region_14_education_Below Secondary', \"region_region_14_education_Master's & above\", 'region_region_14_gender_m', 'region_region_14_recruitment_channel_referred', 'region_region_14_recruitment_channel_sourcing', 'region_region_14_kpi_award', 'region_region_15_region_region_16', 'region_region_15_region_region_17', 'region_region_15_region_region_18', 'region_region_15_region_region_19', 'region_region_15_region_region_2', 'region_region_15_region_region_20', 'region_region_15_region_region_21', 'region_region_15_region_region_22', 'region_region_15_region_region_23', 'region_region_15_region_region_24', 'region_region_15_region_region_25', 'region_region_15_region_region_26', 'region_region_15_region_region_27', 'region_region_15_region_region_28', 'region_region_15_region_region_29', 'region_region_15_region_region_3', 'region_region_15_region_region_30', 'region_region_15_region_region_31', 'region_region_15_region_region_32', 'region_region_15_region_region_33', 'region_region_15_region_region_34', 'region_region_15_region_region_4', 'region_region_15_region_region_5', 'region_region_15_region_region_6', 'region_region_15_region_region_7', 'region_region_15_region_region_8', 'region_region_15_region_region_9', 'region_region_15_education_Below Secondary', \"region_region_15_education_Master's & above\", 'region_region_15_gender_m', 'region_region_15_recruitment_channel_referred', 'region_region_15_recruitment_channel_sourcing', 'region_region_15_kpi_award', 'region_region_16_region_region_17', 'region_region_16_region_region_18', 'region_region_16_region_region_19', 'region_region_16_region_region_2', 'region_region_16_region_region_20', 'region_region_16_region_region_21', 'region_region_16_region_region_22', 'region_region_16_region_region_23', 'region_region_16_region_region_24', 'region_region_16_region_region_25', 'region_region_16_region_region_26', 'region_region_16_region_region_27', 'region_region_16_region_region_28', 'region_region_16_region_region_29', 'region_region_16_region_region_3', 'region_region_16_region_region_30', 'region_region_16_region_region_31', 'region_region_16_region_region_32', 'region_region_16_region_region_33', 'region_region_16_region_region_34', 'region_region_16_region_region_4', 'region_region_16_region_region_5', 'region_region_16_region_region_6', 'region_region_16_region_region_7', 'region_region_16_region_region_8', 'region_region_16_region_region_9', 'region_region_16_education_Below Secondary', \"region_region_16_education_Master's & above\", 'region_region_16_gender_m', 'region_region_16_recruitment_channel_referred', 'region_region_16_recruitment_channel_sourcing', 'region_region_16_kpi_award', 'region_region_17_region_region_18', 'region_region_17_region_region_19', 'region_region_17_region_region_2', 'region_region_17_region_region_20', 'region_region_17_region_region_21', 'region_region_17_region_region_22', 'region_region_17_region_region_23', 'region_region_17_region_region_24', 'region_region_17_region_region_25', 'region_region_17_region_region_26', 'region_region_17_region_region_27', 'region_region_17_region_region_28', 'region_region_17_region_region_29', 'region_region_17_region_region_3', 'region_region_17_region_region_30', 'region_region_17_region_region_31', 'region_region_17_region_region_32', 'region_region_17_region_region_33', 'region_region_17_region_region_34', 'region_region_17_region_region_4', 'region_region_17_region_region_5', 'region_region_17_region_region_6', 'region_region_17_region_region_7', 'region_region_17_region_region_8', 'region_region_17_region_region_9', 'region_region_17_education_Below Secondary', \"region_region_17_education_Master's & above\", 'region_region_17_gender_m', 'region_region_17_recruitment_channel_referred', 'region_region_17_recruitment_channel_sourcing', 'region_region_17_kpi_award', 'region_region_18_region_region_19', 'region_region_18_region_region_2', 'region_region_18_region_region_20', 'region_region_18_region_region_21', 'region_region_18_region_region_22', 'region_region_18_region_region_23', 'region_region_18_region_region_24', 'region_region_18_region_region_25', 'region_region_18_region_region_26', 'region_region_18_region_region_27', 'region_region_18_region_region_28', 'region_region_18_region_region_29', 'region_region_18_region_region_3', 'region_region_18_region_region_30', 'region_region_18_region_region_31', 'region_region_18_region_region_32', 'region_region_18_region_region_33', 'region_region_18_region_region_34', 'region_region_18_region_region_4', 'region_region_18_region_region_5', 'region_region_18_region_region_6', 'region_region_18_region_region_7', 'region_region_18_region_region_8', 'region_region_18_region_region_9', 'region_region_18_education_Below Secondary', \"region_region_18_education_Master's & above\", 'region_region_18_gender_m', 'region_region_18_recruitment_channel_referred', 'region_region_18_recruitment_channel_sourcing', 'region_region_18_kpi_award', 'region_region_19_region_region_2', 'region_region_19_region_region_20', 'region_region_19_region_region_21', 'region_region_19_region_region_22', 'region_region_19_region_region_23', 'region_region_19_region_region_24', 'region_region_19_region_region_25', 'region_region_19_region_region_26', 'region_region_19_region_region_27', 'region_region_19_region_region_28', 'region_region_19_region_region_29', 'region_region_19_region_region_3', 'region_region_19_region_region_30', 'region_region_19_region_region_31', 'region_region_19_region_region_32', 'region_region_19_region_region_33', 'region_region_19_region_region_34', 'region_region_19_region_region_4', 'region_region_19_region_region_5', 'region_region_19_region_region_6', 'region_region_19_region_region_7', 'region_region_19_region_region_8', 'region_region_19_region_region_9', 'region_region_19_education_Below Secondary', \"region_region_19_education_Master's & above\", 'region_region_19_gender_m', 'region_region_19_recruitment_channel_referred', 'region_region_19_recruitment_channel_sourcing', 'region_region_19_kpi_award', 'region_region_2_region_region_20', 'region_region_2_region_region_21', 'region_region_2_region_region_22', 'region_region_2_region_region_23', 'region_region_2_region_region_24', 'region_region_2_region_region_25', 'region_region_2_region_region_26', 'region_region_2_region_region_27', 'region_region_2_region_region_28', 'region_region_2_region_region_29', 'region_region_2_region_region_3', 'region_region_2_region_region_30', 'region_region_2_region_region_31', 'region_region_2_region_region_32', 'region_region_2_region_region_33', 'region_region_2_region_region_34', 'region_region_2_region_region_4', 'region_region_2_region_region_5', 'region_region_2_region_region_6', 'region_region_2_region_region_7', 'region_region_2_region_region_8', 'region_region_2_region_region_9', 'region_region_2_education_Below Secondary', \"region_region_2_education_Master's & above\", 'region_region_2_gender_m', 'region_region_2_recruitment_channel_referred', 'region_region_2_recruitment_channel_sourcing', 'region_region_2_kpi_award', 'region_region_20_region_region_21', 'region_region_20_region_region_22', 'region_region_20_region_region_23', 'region_region_20_region_region_24', 'region_region_20_region_region_25', 'region_region_20_region_region_26', 'region_region_20_region_region_27', 'region_region_20_region_region_28', 'region_region_20_region_region_29', 'region_region_20_region_region_3', 'region_region_20_region_region_30', 'region_region_20_region_region_31', 'region_region_20_region_region_32', 'region_region_20_region_region_33', 'region_region_20_region_region_34', 'region_region_20_region_region_4', 'region_region_20_region_region_5', 'region_region_20_region_region_6', 'region_region_20_region_region_7', 'region_region_20_region_region_8', 'region_region_20_region_region_9', 'region_region_20_education_Below Secondary', \"region_region_20_education_Master's & above\", 'region_region_20_gender_m', 'region_region_20_recruitment_channel_referred', 'region_region_20_recruitment_channel_sourcing', 'region_region_20_kpi_award', 'region_region_21_region_region_22', 'region_region_21_region_region_23', 'region_region_21_region_region_24', 'region_region_21_region_region_25', 'region_region_21_region_region_26', 'region_region_21_region_region_27', 'region_region_21_region_region_28', 'region_region_21_region_region_29', 'region_region_21_region_region_3', 'region_region_21_region_region_30', 'region_region_21_region_region_31', 'region_region_21_region_region_32', 'region_region_21_region_region_33', 'region_region_21_region_region_34', 'region_region_21_region_region_4', 'region_region_21_region_region_5', 'region_region_21_region_region_6', 'region_region_21_region_region_7', 'region_region_21_region_region_8', 'region_region_21_region_region_9', 'region_region_21_education_Below Secondary', \"region_region_21_education_Master's & above\", 'region_region_21_gender_m', 'region_region_21_recruitment_channel_referred', 'region_region_21_recruitment_channel_sourcing', 'region_region_21_kpi_award', 'region_region_22_region_region_23', 'region_region_22_region_region_24', 'region_region_22_region_region_25', 'region_region_22_region_region_26', 'region_region_22_region_region_27', 'region_region_22_region_region_28', 'region_region_22_region_region_29', 'region_region_22_region_region_3', 'region_region_22_region_region_30', 'region_region_22_region_region_31', 'region_region_22_region_region_32', 'region_region_22_region_region_33', 'region_region_22_region_region_34', 'region_region_22_region_region_4', 'region_region_22_region_region_5', 'region_region_22_region_region_6', 'region_region_22_region_region_7', 'region_region_22_region_region_8', 'region_region_22_region_region_9', 'region_region_22_education_Below Secondary', \"region_region_22_education_Master's & above\", 'region_region_22_gender_m', 'region_region_22_recruitment_channel_referred', 'region_region_22_recruitment_channel_sourcing', 'region_region_22_kpi_award', 'region_region_23_region_region_24', 'region_region_23_region_region_25', 'region_region_23_region_region_26', 'region_region_23_region_region_27', 'region_region_23_region_region_28', 'region_region_23_region_region_29', 'region_region_23_region_region_3', 'region_region_23_region_region_30', 'region_region_23_region_region_31', 'region_region_23_region_region_32', 'region_region_23_region_region_33', 'region_region_23_region_region_34', 'region_region_23_region_region_4', 'region_region_23_region_region_5', 'region_region_23_region_region_6', 'region_region_23_region_region_7', 'region_region_23_region_region_8', 'region_region_23_region_region_9', 'region_region_23_education_Below Secondary', \"region_region_23_education_Master's & above\", 'region_region_23_gender_m', 'region_region_23_recruitment_channel_referred', 'region_region_23_recruitment_channel_sourcing', 'region_region_23_kpi_award', 'region_region_24_region_region_25', 'region_region_24_region_region_26', 'region_region_24_region_region_27', 'region_region_24_region_region_28', 'region_region_24_region_region_29', 'region_region_24_region_region_3', 'region_region_24_region_region_30', 'region_region_24_region_region_31', 'region_region_24_region_region_32', 'region_region_24_region_region_33', 'region_region_24_region_region_34', 'region_region_24_region_region_4', 'region_region_24_region_region_5', 'region_region_24_region_region_6', 'region_region_24_region_region_7', 'region_region_24_region_region_8', 'region_region_24_region_region_9', 'region_region_24_education_Below Secondary', \"region_region_24_education_Master's & above\", 'region_region_24_gender_m', 'region_region_24_recruitment_channel_referred', 'region_region_24_recruitment_channel_sourcing', 'region_region_24_kpi_award', 'region_region_25_region_region_26', 'region_region_25_region_region_27', 'region_region_25_region_region_28', 'region_region_25_region_region_29', 'region_region_25_region_region_3', 'region_region_25_region_region_30', 'region_region_25_region_region_31', 'region_region_25_region_region_32', 'region_region_25_region_region_33', 'region_region_25_region_region_34', 'region_region_25_region_region_4', 'region_region_25_region_region_5', 'region_region_25_region_region_6', 'region_region_25_region_region_7', 'region_region_25_region_region_8', 'region_region_25_region_region_9', 'region_region_25_education_Below Secondary', \"region_region_25_education_Master's & above\", 'region_region_25_gender_m', 'region_region_25_recruitment_channel_referred', 'region_region_25_recruitment_channel_sourcing', 'region_region_25_kpi_award', 'region_region_26_region_region_27', 'region_region_26_region_region_28', 'region_region_26_region_region_29', 'region_region_26_region_region_3', 'region_region_26_region_region_30', 'region_region_26_region_region_31', 'region_region_26_region_region_32', 'region_region_26_region_region_33', 'region_region_26_region_region_34', 'region_region_26_region_region_4', 'region_region_26_region_region_5', 'region_region_26_region_region_6', 'region_region_26_region_region_7', 'region_region_26_region_region_8', 'region_region_26_region_region_9', 'region_region_26_education_Below Secondary', \"region_region_26_education_Master's & above\", 'region_region_26_gender_m', 'region_region_26_recruitment_channel_referred', 'region_region_26_recruitment_channel_sourcing', 'region_region_26_kpi_award', 'region_region_27_region_region_28', 'region_region_27_region_region_29', 'region_region_27_region_region_3', 'region_region_27_region_region_30', 'region_region_27_region_region_31', 'region_region_27_region_region_32', 'region_region_27_region_region_33', 'region_region_27_region_region_34', 'region_region_27_region_region_4', 'region_region_27_region_region_5', 'region_region_27_region_region_6', 'region_region_27_region_region_7', 'region_region_27_region_region_8', 'region_region_27_region_region_9', 'region_region_27_education_Below Secondary', \"region_region_27_education_Master's & above\", 'region_region_27_gender_m', 'region_region_27_recruitment_channel_referred', 'region_region_27_recruitment_channel_sourcing', 'region_region_27_kpi_award', 'region_region_28_region_region_29', 'region_region_28_region_region_3', 'region_region_28_region_region_30', 'region_region_28_region_region_31', 'region_region_28_region_region_32', 'region_region_28_region_region_33', 'region_region_28_region_region_34', 'region_region_28_region_region_4', 'region_region_28_region_region_5', 'region_region_28_region_region_6', 'region_region_28_region_region_7', 'region_region_28_region_region_8', 'region_region_28_region_region_9', 'region_region_28_education_Below Secondary', \"region_region_28_education_Master's & above\", 'region_region_28_gender_m', 'region_region_28_recruitment_channel_referred', 'region_region_28_recruitment_channel_sourcing', 'region_region_28_kpi_award', 'region_region_29_region_region_3', 'region_region_29_region_region_30', 'region_region_29_region_region_31', 'region_region_29_region_region_32', 'region_region_29_region_region_33', 'region_region_29_region_region_34', 'region_region_29_region_region_4', 'region_region_29_region_region_5', 'region_region_29_region_region_6', 'region_region_29_region_region_7', 'region_region_29_region_region_8', 'region_region_29_region_region_9', 'region_region_29_education_Below Secondary', \"region_region_29_education_Master's & above\", 'region_region_29_gender_m', 'region_region_29_recruitment_channel_referred', 'region_region_29_recruitment_channel_sourcing', 'region_region_29_kpi_award', 'region_region_3_region_region_30', 'region_region_3_region_region_31', 'region_region_3_region_region_32', 'region_region_3_region_region_33', 'region_region_3_region_region_34', 'region_region_3_region_region_4', 'region_region_3_region_region_5', 'region_region_3_region_region_6', 'region_region_3_region_region_7', 'region_region_3_region_region_8', 'region_region_3_region_region_9', 'region_region_3_education_Below Secondary', \"region_region_3_education_Master's & above\", 'region_region_3_gender_m', 'region_region_3_recruitment_channel_referred', 'region_region_3_recruitment_channel_sourcing', 'region_region_3_kpi_award', 'region_region_30_region_region_31', 'region_region_30_region_region_32', 'region_region_30_region_region_33', 'region_region_30_region_region_34', 'region_region_30_region_region_4', 'region_region_30_region_region_5', 'region_region_30_region_region_6', 'region_region_30_region_region_7', 'region_region_30_region_region_8', 'region_region_30_region_region_9', 'region_region_30_education_Below Secondary', \"region_region_30_education_Master's & above\", 'region_region_30_gender_m', 'region_region_30_recruitment_channel_referred', 'region_region_30_recruitment_channel_sourcing', 'region_region_30_kpi_award', 'region_region_31_region_region_32', 'region_region_31_region_region_33', 'region_region_31_region_region_34', 'region_region_31_region_region_4', 'region_region_31_region_region_5', 'region_region_31_region_region_6', 'region_region_31_region_region_7', 'region_region_31_region_region_8', 'region_region_31_region_region_9', 'region_region_31_education_Below Secondary', \"region_region_31_education_Master's & above\", 'region_region_31_gender_m', 'region_region_31_recruitment_channel_referred', 'region_region_31_recruitment_channel_sourcing', 'region_region_31_kpi_award', 'region_region_32_region_region_33', 'region_region_32_region_region_34', 'region_region_32_region_region_4', 'region_region_32_region_region_5', 'region_region_32_region_region_6', 'region_region_32_region_region_7', 'region_region_32_region_region_8', 'region_region_32_region_region_9', 'region_region_32_education_Below Secondary', \"region_region_32_education_Master's & above\", 'region_region_32_gender_m', 'region_region_32_recruitment_channel_referred', 'region_region_32_recruitment_channel_sourcing', 'region_region_32_kpi_award', 'region_region_33_region_region_34', 'region_region_33_region_region_4', 'region_region_33_region_region_5', 'region_region_33_region_region_6', 'region_region_33_region_region_7', 'region_region_33_region_region_8', 'region_region_33_region_region_9', 'region_region_33_education_Below Secondary', \"region_region_33_education_Master's & above\", 'region_region_33_gender_m', 'region_region_33_recruitment_channel_referred', 'region_region_33_recruitment_channel_sourcing', 'region_region_33_kpi_award', 'region_region_34_region_region_4', 'region_region_34_region_region_5', 'region_region_34_region_region_6', 'region_region_34_region_region_7', 'region_region_34_region_region_8', 'region_region_34_region_region_9', 'region_region_34_education_Below Secondary', \"region_region_34_education_Master's & above\", 'region_region_34_gender_m', 'region_region_34_recruitment_channel_referred', 'region_region_34_recruitment_channel_sourcing', 'region_region_34_kpi_award', 'region_region_4_region_region_5', 'region_region_4_region_region_6', 'region_region_4_region_region_7', 'region_region_4_region_region_8', 'region_region_4_region_region_9', 'region_region_4_education_Below Secondary', \"region_region_4_education_Master's & above\", 'region_region_4_gender_m', 'region_region_4_recruitment_channel_referred', 'region_region_4_recruitment_channel_sourcing', 'region_region_4_kpi_award', 'region_region_5_region_region_6', 'region_region_5_region_region_7', 'region_region_5_region_region_8', 'region_region_5_region_region_9', 'region_region_5_education_Below Secondary', \"region_region_5_education_Master's & above\", 'region_region_5_gender_m', 'region_region_5_recruitment_channel_referred', 'region_region_5_recruitment_channel_sourcing', 'region_region_5_kpi_award', 'region_region_6_region_region_7', 'region_region_6_region_region_8', 'region_region_6_region_region_9', 'region_region_6_education_Below Secondary', \"region_region_6_education_Master's & above\", 'region_region_6_gender_m', 'region_region_6_recruitment_channel_referred', 'region_region_6_recruitment_channel_sourcing', 'region_region_6_kpi_award', 'region_region_7_region_region_8', 'region_region_7_region_region_9', 'region_region_7_education_Below Secondary', \"region_region_7_education_Master's & above\", 'region_region_7_gender_m', 'region_region_7_recruitment_channel_referred', 'region_region_7_recruitment_channel_sourcing', 'region_region_7_kpi_award', 'region_region_8_region_region_9', 'region_region_8_education_Below Secondary', \"region_region_8_education_Master's & above\", 'region_region_8_gender_m', 'region_region_8_recruitment_channel_referred', 'region_region_8_recruitment_channel_sourcing', 'region_region_8_kpi_award', 'region_region_9_education_Below Secondary', \"region_region_9_education_Master's & above\", 'region_region_9_gender_m', 'region_region_9_recruitment_channel_referred', 'region_region_9_recruitment_channel_sourcing', 'region_region_9_kpi_award', \"education_Below Secondary_education_Master's & above\", 'education_Below Secondary_gender_m', 'education_Below Secondary_recruitment_channel_referred', 'education_Below Secondary_recruitment_channel_sourcing', 'education_Below Secondary_kpi_award', \"education_Master's & above_gender_m\", \"education_Master's & above_recruitment_channel_referred\", \"education_Master's & above_recruitment_channel_sourcing\", \"education_Master's & above_kpi_award\", 'gender_m_recruitment_channel_referred', 'gender_m_recruitment_channel_sourcing', 'gender_m_kpi_award', 'recruitment_channel_referred_recruitment_channel_sourcing', 'recruitment_channel_referred_kpi_award', 'recruitment_channel_sourcing_kpi_award']\n",
      "1378\n"
     ]
    }
   ],
   "source": [
    "\n",
    "# Polynomial features\n",
    "from itertools import combinations\n",
    "from sklearn.preprocessing import PolynomialFeatures\n",
    "combinations = list(combinations(list(X.columns), 2))\n",
    "col_names = list(X.columns) + ['_'.join(x) for x in combinations ]\n",
    "print(col_names)\n",
    "print(len(col_names))\n",
    "poly = PolynomialFeatures(degree=2, interaction_only=True, include_bias = False)\n",
    "X = poly.fit_transform(X)\n",
    "#type(df)\n",
    "X = pd.DataFrame(X)\n",
    "type(X)\n",
    "X.columns = col_names\n",
    "\n",
    "indices = []\n",
    "for i,x in enumerate(list((X==0).all())):\n",
    "    if x == True:\n",
    "        indices.append(i)\n",
    "X = X.drop(X.columns[indices], axis =1)        \n"
   ]
  },
  {
   "cell_type": "code",
   "execution_count": 154,
   "metadata": {},
   "outputs": [],
   "source": [
    "from sklearn.model_selection import train_test_split\n",
    "X_train, X_test, y_train, y_test = train_test_split(X, Y, test_size = 0.2, random_state=0)"
   ]
  },
  {
   "cell_type": "code",
   "execution_count": 155,
   "metadata": {},
   "outputs": [
    {
     "name": "stdout",
     "output_type": "stream",
     "text": [
      "(43846, 54)\n",
      "(10962, 54)\n",
      "(43846,)\n",
      "(10962,)\n"
     ]
    }
   ],
   "source": [
    "print(X_train.shape)\n",
    "print(X_test.shape)\n",
    "print(y_train.shape)\n",
    "print(y_test.shape)"
   ]
  },
  {
   "cell_type": "code",
   "execution_count": 156,
   "metadata": {},
   "outputs": [],
   "source": [
    "# feature scaling\n",
    "from sklearn.preprocessing import StandardScaler"
   ]
  },
  {
   "cell_type": "code",
   "execution_count": 157,
   "metadata": {},
   "outputs": [],
   "source": [
    "sc_X = StandardScaler()\n",
    "X_train2 = pd.DataFrame(sc_X.fit_transform(X_train))\n",
    "X_test2 = pd.DataFrame(sc_X.fit_transform(X_test))"
   ]
  },
  {
   "cell_type": "code",
   "execution_count": 158,
   "metadata": {},
   "outputs": [],
   "source": [
    "X_train2.columns = X_train.columns.values\n",
    "X_test2.columns = X_test.columns.values\n",
    "\n",
    "X_train2.index = X_train.index.values\n",
    "X_test2.index = X_test.index.values"
   ]
  },
  {
   "cell_type": "code",
   "execution_count": 159,
   "metadata": {},
   "outputs": [],
   "source": [
    "from xgboost import XGBClassifier\n",
    "xgb_classifier = XGBClassifier(base_score=0.5,n_estimators=250, max_depth=6,learning_rate= 0.25, objective= 'binary:logistic')\n",
    "xgb_classifier.fit(X_train,y_train)\n",
    "y_pred = xgb_classifier.predict(X_test)"
   ]
  },
  {
   "cell_type": "code",
   "execution_count": 160,
   "metadata": {},
   "outputs": [
    {
     "name": "stdout",
     "output_type": "stream",
     "text": [
      "0.945356686735997\n",
      "0.44082519001085774\n",
      "0.5754783841247343\n",
      "0.8285714285714286\n"
     ]
    }
   ],
   "source": [
    "from sklearn.metrics import confusion_matrix, accuracy_score, f1_score, precision_score, recall_score\n",
    "\n",
    "print(accuracy_score(y_test, y_pred))\n",
    "print(recall_score(y_test, y_pred))\n",
    "print(f1_score(y_test, y_pred))\n",
    "print(precision_score(y_test, y_pred))"
   ]
  },
  {
   "cell_type": "code",
   "execution_count": 24,
   "metadata": {},
   "outputs": [
    {
     "data": {
      "text/plain": [
       "Index(['no_of_trainings', 'age', 'previous_year_rating', 'length_of_service',\n",
       "       'KPIs_met >80%', 'awards_won?', 'avg_training_score',\n",
       "       'department_Finance', 'department_HR', 'department_Legal',\n",
       "       ...\n",
       "       'department_Technology_recruitment_channel_referred',\n",
       "       'department_Technology_recruitment_channel_sourcing',\n",
       "       'education_Below Secondary_gender_m',\n",
       "       'education_Below Secondary_recruitment_channel_referred',\n",
       "       'education_Below Secondary_recruitment_channel_sourcing',\n",
       "       'education_Master's & above_gender_m',\n",
       "       'education_Master's & above_recruitment_channel_referred',\n",
       "       'education_Master's & above_recruitment_channel_sourcing',\n",
       "       'gender_m_recruitment_channel_referred',\n",
       "       'gender_m_recruitment_channel_sourcing'],\n",
       "      dtype='object', length=178)"
      ]
     },
     "execution_count": 24,
     "metadata": {},
     "output_type": "execute_result"
    }
   ],
   "source": [
    "len(X.columns)\n",
    "X.columns"
   ]
  },
  {
   "cell_type": "code",
   "execution_count": 25,
   "metadata": {},
   "outputs": [
    {
     "data": {
      "text/plain": [
       "array([0.        , 0.00361933, 0.02106125, 0.00579898, 0.00750243,\n",
       "       0.03414347, 0.02062326, 0.        , 0.01972297, 0.00110747,\n",
       "       0.02855055, 0.02685565, 0.00498056, 0.00971849, 0.00667909,\n",
       "       0.00101799, 0.00245111, 0.0017509 , 0.        , 0.00250651,\n",
       "       0.00357131, 0.00400464, 0.00346905, 0.00234366, 0.        ,\n",
       "       0.00340117, 0.00659561, 0.        , 0.        , 0.00333827,\n",
       "       0.00289887, 0.00147984, 0.00496009, 0.00219613, 0.        ,\n",
       "       0.00322465, 0.00565467, 0.00195519, 0.00218193, 0.00314471,\n",
       "       0.00334138, 0.01407051, 0.0027468 , 0.00333267, 0.004199  ,\n",
       "       0.00331395, 0.0051147 , 0.0028105 , 0.00362775, 0.00349294,\n",
       "       0.00324993, 0.0031238 , 0.0022462 , 0.0034584 , 0.00337957,\n",
       "       0.00208428, 0.00346187, 0.01497702, 0.08715983, 0.02740796,\n",
       "       0.0109747 , 0.00129882, 0.        , 0.        , 0.00604909,\n",
       "       0.00506174, 0.00192453, 0.01101343, 0.00964408, 0.00162162,\n",
       "       0.00307194, 0.00305713, 0.00267681, 0.00384272, 0.00377981,\n",
       "       0.00626421, 0.00353808, 0.00187251, 0.0025188 , 0.00134323,\n",
       "       0.00254159, 0.00384332, 0.00339846, 0.00660678, 0.00344242,\n",
       "       0.00168695, 0.00359011, 0.00400872, 0.00278138, 0.00275224,\n",
       "       0.00302001, 0.03303151, 0.        , 0.        , 0.        ,\n",
       "       0.00276702, 0.        , 0.00376275, 0.00405927, 0.00420796,\n",
       "       0.003469  , 0.00267353, 0.0045115 , 0.00059599, 0.00308261,\n",
       "       0.01457186, 0.00098576, 0.        , 0.        , 0.00642735,\n",
       "       0.0010303 , 0.00058634, 0.00338834, 0.        , 0.        ,\n",
       "       0.0005272 , 0.00110327, 0.00098952, 0.0028571 , 0.02413267,\n",
       "       0.01443353, 0.00595061, 0.05524544, 0.03450814, 0.00212398,\n",
       "       0.06566481, 0.02183597, 0.00247035, 0.00356456, 0.00340808,\n",
       "       0.00262947, 0.00319341, 0.        , 0.00133089, 0.00187617,\n",
       "       0.        , 0.00154248, 0.00080636, 0.00698211, 0.        ,\n",
       "       0.        , 0.00288366, 0.        , 0.        , 0.        ,\n",
       "       0.00374802, 0.        , 0.00038831, 0.00021431, 0.00880961,\n",
       "       0.        , 0.00338733, 0.        , 0.0083185 , 0.00420264,\n",
       "       0.        , 0.00172937, 0.00287693, 0.        , 0.        ,\n",
       "       0.00135547, 0.00564407, 0.00284   , 0.00090007, 0.00086255,\n",
       "       0.        , 0.0038833 , 0.00594261, 0.00133958, 0.00493204,\n",
       "       0.00316996, 0.        , 0.00130269, 0.00462528, 0.00394769,\n",
       "       0.00448523, 0.00161123, 0.00393824], dtype=float32)"
      ]
     },
     "execution_count": 25,
     "metadata": {},
     "output_type": "execute_result"
    }
   ],
   "source": [
    "from xgboost import DMatrix\n",
    "len(xgb_classifier.feature_importances_)\n",
    "xgb_classifier.feature_importances_"
   ]
  },
  {
   "cell_type": "code",
   "execution_count": 26,
   "metadata": {},
   "outputs": [
    {
     "name": "stdout",
     "output_type": "stream",
     "text": [
      "roc_auc test set 0.9101770688061683\n",
      "roc_auc training set 0.9868944059210061\n"
     ]
    }
   ],
   "source": [
    "from sklearn.metrics import roc_auc_score\n",
    "\n",
    "print(\"roc_auc test set\", roc_auc_score(y_test, xgb_classifier.predict_proba(X_test)[:,1]))\n",
    "\n",
    "print(\"roc_auc training set\", roc_auc_score(y_train, xgb_classifier.predict_proba(X_train)[:,1]))\n"
   ]
  },
  {
   "cell_type": "code",
   "execution_count": 27,
   "metadata": {},
   "outputs": [],
   "source": [
    "# K -fold cross validation\n",
    "from sklearn.model_selection import cross_val_score\n",
    "\n",
    "f1_score = cross_val_score(estimator= xgb_classifier, X = X_train, y= y_train, cv = 10, scoring='f1')\n",
    "recall = cross_val_score(estimator= xgb_classifier, X = X_train, y= y_train, cv = 10, scoring='recall')"
   ]
  },
  {
   "cell_type": "code",
   "execution_count": 28,
   "metadata": {},
   "outputs": [
    {
     "name": "stdout",
     "output_type": "stream",
     "text": [
      "f1-score:  0.5582185868013008\n",
      "recall:  0.4166053475935828\n"
     ]
    }
   ],
   "source": [
    "print('f1-score: ',np.mean(f1_score))\n",
    "print('recall: ',np.mean(recall))"
   ]
  },
  {
   "cell_type": "code",
   "execution_count": 138,
   "metadata": {},
   "outputs": [
    {
     "ename": "TypeError",
     "evalue": "'numpy.ndarray' object is not callable",
     "output_type": "error",
     "traceback": [
      "\u001b[1;31m---------------------------------------------------------------------------\u001b[0m",
      "\u001b[1;31mTypeError\u001b[0m                                 Traceback (most recent call last)",
      "\u001b[1;32m<ipython-input-138-cd3cd16f8a35>\u001b[0m in \u001b[0;36m<module>\u001b[1;34m\u001b[0m\n\u001b[1;32m----> 1\u001b[1;33m \u001b[0mxgb_classifier\u001b[0m\u001b[1;33m.\u001b[0m\u001b[0mfeature_importances_\u001b[0m\u001b[1;33m(\u001b[0m\u001b[1;33m)\u001b[0m\u001b[1;33m\u001b[0m\u001b[1;33m\u001b[0m\u001b[0m\n\u001b[0m",
      "\u001b[1;31mTypeError\u001b[0m: 'numpy.ndarray' object is not callable"
     ]
    }
   ],
   "source": [
    "xgb_classifier.feature_importances_"
   ]
  },
  {
   "cell_type": "code",
   "execution_count": 25,
   "metadata": {},
   "outputs": [
    {
     "data": {
      "text/plain": [
       "GridSearchCV(cv=5, error_score=nan,\n",
       "             estimator=XGBClassifier(base_score=0.5, booster='gbtree',\n",
       "                                     colsample_bylevel=1, colsample_bynode=1,\n",
       "                                     colsample_bytree=1, gamma=0,\n",
       "                                     learning_rate=0.1, max_delta_step=0,\n",
       "                                     max_depth=4, min_child_weight=1,\n",
       "                                     missing=None, n_estimators=150, n_jobs=1,\n",
       "                                     nthread=None, objective='binary:logistic',\n",
       "                                     random_state=0, reg_alpha=0, reg_lambda=1,\n",
       "                                     scale_pos_weight=1, seed=None, silent=None,\n",
       "                                     subsample=1, verbosity=1),\n",
       "             iid='deprecated', n_jobs=-1,\n",
       "             param_grid={'base_score': [0.5, 0.6, 0.4],\n",
       "                         'learning_rate': [0.05, 0.1, 0.15],\n",
       "                         'max_depth': [5, 6, 7],\n",
       "                         'n_estimators': [100, 150, 200]},\n",
       "             pre_dispatch='2*n_jobs', refit=True, return_train_score=False,\n",
       "             scoring='f1', verbose=0)"
      ]
     },
     "execution_count": 25,
     "metadata": {},
     "output_type": "execute_result"
    }
   ],
   "source": [
    "# Grid Search\n",
    "from sklearn.model_selection import GridSearchCV\n",
    "\n",
    "params = {'base_score':[0.5,0.6,0.4], 'learning_rate':[0.15,0.2,0.25],\n",
    "         'max_depth':[5,6,7], 'n_estimators': [200,250,300]}\n",
    "\n",
    "gridSearchCV = GridSearchCV(estimator=xgb_classifier,param_grid=params,cv=5,scoring='f1',n_jobs=-1)\n",
    "gridSearchCV.fit(X_train,y_train)\n"
   ]
  },
  {
   "cell_type": "code",
   "execution_count": 26,
   "metadata": {},
   "outputs": [
    {
     "data": {
      "text/plain": [
       "0.5599799921177628"
      ]
     },
     "execution_count": 26,
     "metadata": {},
     "output_type": "execute_result"
    }
   ],
   "source": [
    "gridSearchCV.best_score_"
   ]
  },
  {
   "cell_type": "code",
   "execution_count": 27,
   "metadata": {},
   "outputs": [
    {
     "data": {
      "text/plain": [
       "{'base_score': 0.6, 'learning_rate': 0.15, 'max_depth': 6, 'n_estimators': 200}"
      ]
     },
     "execution_count": 27,
     "metadata": {},
     "output_type": "execute_result"
    }
   ],
   "source": [
    "gridSearchCV.best_params_"
   ]
  }
 ],
 "metadata": {
  "kernelspec": {
   "display_name": "Python 3",
   "language": "python",
   "name": "python3"
  },
  "language_info": {
   "codemirror_mode": {
    "name": "ipython",
    "version": 3
   },
   "file_extension": ".py",
   "mimetype": "text/x-python",
   "name": "python",
   "nbconvert_exporter": "python",
   "pygments_lexer": "ipython3",
   "version": "3.7.3"
  }
 },
 "nbformat": 4,
 "nbformat_minor": 2
}
