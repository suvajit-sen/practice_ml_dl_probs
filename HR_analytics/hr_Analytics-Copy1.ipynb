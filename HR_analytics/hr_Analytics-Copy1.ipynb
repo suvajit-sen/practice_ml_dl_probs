{
 "cells": [
  {
   "cell_type": "code",
   "execution_count": 1,
   "metadata": {},
   "outputs": [],
   "source": [
    "import pandas as pd\n",
    "import numpy as np\n",
    "import seaborn as sns\n",
    "import matplotlib.pyplot as plt\n",
    "pd.set_option('display.max_columns', None)"
   ]
  },
  {
   "cell_type": "code",
   "execution_count": 2,
   "metadata": {},
   "outputs": [],
   "source": [
    "hr_data = pd.read_csv('hr_analytics_train.csv')\n",
    "df = hr_data.copy()\n",
    "df.set_index('employee_id', inplace=True)"
   ]
  },
  {
   "cell_type": "code",
   "execution_count": 3,
   "metadata": {},
   "outputs": [
    {
     "data": {
      "text/html": [
       "<div>\n",
       "<style scoped>\n",
       "    .dataframe tbody tr th:only-of-type {\n",
       "        vertical-align: middle;\n",
       "    }\n",
       "\n",
       "    .dataframe tbody tr th {\n",
       "        vertical-align: top;\n",
       "    }\n",
       "\n",
       "    .dataframe thead th {\n",
       "        text-align: right;\n",
       "    }\n",
       "</style>\n",
       "<table border=\"1\" class=\"dataframe\">\n",
       "  <thead>\n",
       "    <tr style=\"text-align: right;\">\n",
       "      <th></th>\n",
       "      <th>department</th>\n",
       "      <th>region</th>\n",
       "      <th>education</th>\n",
       "      <th>gender</th>\n",
       "      <th>recruitment_channel</th>\n",
       "      <th>no_of_trainings</th>\n",
       "      <th>age</th>\n",
       "      <th>previous_year_rating</th>\n",
       "      <th>length_of_service</th>\n",
       "      <th>KPIs_met &gt;80%</th>\n",
       "      <th>awards_won?</th>\n",
       "      <th>avg_training_score</th>\n",
       "      <th>is_promoted</th>\n",
       "    </tr>\n",
       "    <tr>\n",
       "      <th>employee_id</th>\n",
       "      <th></th>\n",
       "      <th></th>\n",
       "      <th></th>\n",
       "      <th></th>\n",
       "      <th></th>\n",
       "      <th></th>\n",
       "      <th></th>\n",
       "      <th></th>\n",
       "      <th></th>\n",
       "      <th></th>\n",
       "      <th></th>\n",
       "      <th></th>\n",
       "      <th></th>\n",
       "    </tr>\n",
       "  </thead>\n",
       "  <tbody>\n",
       "    <tr>\n",
       "      <th>65438</th>\n",
       "      <td>Sales &amp; Marketing</td>\n",
       "      <td>region_7</td>\n",
       "      <td>Master's &amp; above</td>\n",
       "      <td>f</td>\n",
       "      <td>sourcing</td>\n",
       "      <td>1</td>\n",
       "      <td>35</td>\n",
       "      <td>5.0</td>\n",
       "      <td>8</td>\n",
       "      <td>1</td>\n",
       "      <td>0</td>\n",
       "      <td>49</td>\n",
       "      <td>0</td>\n",
       "    </tr>\n",
       "    <tr>\n",
       "      <th>65141</th>\n",
       "      <td>Operations</td>\n",
       "      <td>region_22</td>\n",
       "      <td>Bachelor's</td>\n",
       "      <td>m</td>\n",
       "      <td>other</td>\n",
       "      <td>1</td>\n",
       "      <td>30</td>\n",
       "      <td>5.0</td>\n",
       "      <td>4</td>\n",
       "      <td>0</td>\n",
       "      <td>0</td>\n",
       "      <td>60</td>\n",
       "      <td>0</td>\n",
       "    </tr>\n",
       "    <tr>\n",
       "      <th>7513</th>\n",
       "      <td>Sales &amp; Marketing</td>\n",
       "      <td>region_19</td>\n",
       "      <td>Bachelor's</td>\n",
       "      <td>m</td>\n",
       "      <td>sourcing</td>\n",
       "      <td>1</td>\n",
       "      <td>34</td>\n",
       "      <td>3.0</td>\n",
       "      <td>7</td>\n",
       "      <td>0</td>\n",
       "      <td>0</td>\n",
       "      <td>50</td>\n",
       "      <td>0</td>\n",
       "    </tr>\n",
       "    <tr>\n",
       "      <th>2542</th>\n",
       "      <td>Sales &amp; Marketing</td>\n",
       "      <td>region_23</td>\n",
       "      <td>Bachelor's</td>\n",
       "      <td>m</td>\n",
       "      <td>other</td>\n",
       "      <td>2</td>\n",
       "      <td>39</td>\n",
       "      <td>1.0</td>\n",
       "      <td>10</td>\n",
       "      <td>0</td>\n",
       "      <td>0</td>\n",
       "      <td>50</td>\n",
       "      <td>0</td>\n",
       "    </tr>\n",
       "    <tr>\n",
       "      <th>48945</th>\n",
       "      <td>Technology</td>\n",
       "      <td>region_26</td>\n",
       "      <td>Bachelor's</td>\n",
       "      <td>m</td>\n",
       "      <td>other</td>\n",
       "      <td>1</td>\n",
       "      <td>45</td>\n",
       "      <td>3.0</td>\n",
       "      <td>2</td>\n",
       "      <td>0</td>\n",
       "      <td>0</td>\n",
       "      <td>73</td>\n",
       "      <td>0</td>\n",
       "    </tr>\n",
       "  </tbody>\n",
       "</table>\n",
       "</div>"
      ],
      "text/plain": [
       "                    department     region         education gender  \\\n",
       "employee_id                                                          \n",
       "65438        Sales & Marketing   region_7  Master's & above      f   \n",
       "65141               Operations  region_22        Bachelor's      m   \n",
       "7513         Sales & Marketing  region_19        Bachelor's      m   \n",
       "2542         Sales & Marketing  region_23        Bachelor's      m   \n",
       "48945               Technology  region_26        Bachelor's      m   \n",
       "\n",
       "            recruitment_channel  no_of_trainings  age  previous_year_rating  \\\n",
       "employee_id                                                                   \n",
       "65438                  sourcing                1   35                   5.0   \n",
       "65141                     other                1   30                   5.0   \n",
       "7513                   sourcing                1   34                   3.0   \n",
       "2542                      other                2   39                   1.0   \n",
       "48945                     other                1   45                   3.0   \n",
       "\n",
       "             length_of_service  KPIs_met >80%  awards_won?  \\\n",
       "employee_id                                                  \n",
       "65438                        8              1            0   \n",
       "65141                        4              0            0   \n",
       "7513                         7              0            0   \n",
       "2542                        10              0            0   \n",
       "48945                        2              0            0   \n",
       "\n",
       "             avg_training_score  is_promoted  \n",
       "employee_id                                   \n",
       "65438                        49            0  \n",
       "65141                        60            0  \n",
       "7513                         50            0  \n",
       "2542                         50            0  \n",
       "48945                        73            0  "
      ]
     },
     "execution_count": 3,
     "metadata": {},
     "output_type": "execute_result"
    }
   ],
   "source": [
    "df.head()"
   ]
  },
  {
   "cell_type": "markdown",
   "metadata": {},
   "source": [
    "# Data Exploration - Part 1"
   ]
  },
  {
   "cell_type": "code",
   "execution_count": 4,
   "metadata": {},
   "outputs": [
    {
     "data": {
      "text/plain": [
       "Index(['department', 'region', 'education', 'gender', 'recruitment_channel',\n",
       "       'no_of_trainings', 'age', 'previous_year_rating', 'length_of_service',\n",
       "       'KPIs_met >80%', 'awards_won?', 'avg_training_score', 'is_promoted'],\n",
       "      dtype='object')"
      ]
     },
     "execution_count": 4,
     "metadata": {},
     "output_type": "execute_result"
    }
   ],
   "source": [
    "# Check the cols first\n",
    "df.columns"
   ]
  },
  {
   "cell_type": "code",
   "execution_count": 5,
   "metadata": {},
   "outputs": [],
   "source": [
    "df = df.rename(columns = {\"KPIs_met >80%\":\"KPIs_met_80\", \"awards_won?\":\"awards_won\"}) "
   ]
  },
  {
   "cell_type": "code",
   "execution_count": 17,
   "metadata": {},
   "outputs": [
    {
     "data": {
      "text/plain": [
       "\"\\n# employee_id is not needed - so discard it\\nemp_id = df['employee_id']\\ndf = df.drop('employee_id', axis=1)\""
      ]
     },
     "execution_count": 17,
     "metadata": {},
     "output_type": "execute_result"
    }
   ],
   "source": [
    "'''\n",
    "# employee_id is not needed - so discard it\n",
    "emp_id = df['employee_id']\n",
    "df = df.drop('employee_id', axis=1)'''"
   ]
  },
  {
   "cell_type": "code",
   "execution_count": 6,
   "metadata": {
    "scrolled": true
   },
   "outputs": [
    {
     "data": {
      "text/html": [
       "<div>\n",
       "<style scoped>\n",
       "    .dataframe tbody tr th:only-of-type {\n",
       "        vertical-align: middle;\n",
       "    }\n",
       "\n",
       "    .dataframe tbody tr th {\n",
       "        vertical-align: top;\n",
       "    }\n",
       "\n",
       "    .dataframe thead th {\n",
       "        text-align: right;\n",
       "    }\n",
       "</style>\n",
       "<table border=\"1\" class=\"dataframe\">\n",
       "  <thead>\n",
       "    <tr style=\"text-align: right;\">\n",
       "      <th></th>\n",
       "      <th>no_of_trainings</th>\n",
       "      <th>age</th>\n",
       "      <th>previous_year_rating</th>\n",
       "      <th>length_of_service</th>\n",
       "      <th>KPIs_met_80</th>\n",
       "      <th>awards_won</th>\n",
       "      <th>avg_training_score</th>\n",
       "      <th>is_promoted</th>\n",
       "    </tr>\n",
       "  </thead>\n",
       "  <tbody>\n",
       "    <tr>\n",
       "      <th>count</th>\n",
       "      <td>54808.000000</td>\n",
       "      <td>54808.000000</td>\n",
       "      <td>50684.000000</td>\n",
       "      <td>54808.000000</td>\n",
       "      <td>54808.000000</td>\n",
       "      <td>54808.000000</td>\n",
       "      <td>54808.000000</td>\n",
       "      <td>54808.000000</td>\n",
       "    </tr>\n",
       "    <tr>\n",
       "      <th>mean</th>\n",
       "      <td>1.253011</td>\n",
       "      <td>34.803915</td>\n",
       "      <td>3.329256</td>\n",
       "      <td>5.865512</td>\n",
       "      <td>0.351974</td>\n",
       "      <td>0.023172</td>\n",
       "      <td>63.386750</td>\n",
       "      <td>0.085170</td>\n",
       "    </tr>\n",
       "    <tr>\n",
       "      <th>std</th>\n",
       "      <td>0.609264</td>\n",
       "      <td>7.660169</td>\n",
       "      <td>1.259993</td>\n",
       "      <td>4.265094</td>\n",
       "      <td>0.477590</td>\n",
       "      <td>0.150450</td>\n",
       "      <td>13.371559</td>\n",
       "      <td>0.279137</td>\n",
       "    </tr>\n",
       "    <tr>\n",
       "      <th>min</th>\n",
       "      <td>1.000000</td>\n",
       "      <td>20.000000</td>\n",
       "      <td>1.000000</td>\n",
       "      <td>1.000000</td>\n",
       "      <td>0.000000</td>\n",
       "      <td>0.000000</td>\n",
       "      <td>39.000000</td>\n",
       "      <td>0.000000</td>\n",
       "    </tr>\n",
       "    <tr>\n",
       "      <th>25%</th>\n",
       "      <td>1.000000</td>\n",
       "      <td>29.000000</td>\n",
       "      <td>3.000000</td>\n",
       "      <td>3.000000</td>\n",
       "      <td>0.000000</td>\n",
       "      <td>0.000000</td>\n",
       "      <td>51.000000</td>\n",
       "      <td>0.000000</td>\n",
       "    </tr>\n",
       "    <tr>\n",
       "      <th>50%</th>\n",
       "      <td>1.000000</td>\n",
       "      <td>33.000000</td>\n",
       "      <td>3.000000</td>\n",
       "      <td>5.000000</td>\n",
       "      <td>0.000000</td>\n",
       "      <td>0.000000</td>\n",
       "      <td>60.000000</td>\n",
       "      <td>0.000000</td>\n",
       "    </tr>\n",
       "    <tr>\n",
       "      <th>75%</th>\n",
       "      <td>1.000000</td>\n",
       "      <td>39.000000</td>\n",
       "      <td>4.000000</td>\n",
       "      <td>7.000000</td>\n",
       "      <td>1.000000</td>\n",
       "      <td>0.000000</td>\n",
       "      <td>76.000000</td>\n",
       "      <td>0.000000</td>\n",
       "    </tr>\n",
       "    <tr>\n",
       "      <th>max</th>\n",
       "      <td>10.000000</td>\n",
       "      <td>60.000000</td>\n",
       "      <td>5.000000</td>\n",
       "      <td>37.000000</td>\n",
       "      <td>1.000000</td>\n",
       "      <td>1.000000</td>\n",
       "      <td>99.000000</td>\n",
       "      <td>1.000000</td>\n",
       "    </tr>\n",
       "  </tbody>\n",
       "</table>\n",
       "</div>"
      ],
      "text/plain": [
       "       no_of_trainings           age  previous_year_rating  length_of_service  \\\n",
       "count     54808.000000  54808.000000          50684.000000       54808.000000   \n",
       "mean          1.253011     34.803915              3.329256           5.865512   \n",
       "std           0.609264      7.660169              1.259993           4.265094   \n",
       "min           1.000000     20.000000              1.000000           1.000000   \n",
       "25%           1.000000     29.000000              3.000000           3.000000   \n",
       "50%           1.000000     33.000000              3.000000           5.000000   \n",
       "75%           1.000000     39.000000              4.000000           7.000000   \n",
       "max          10.000000     60.000000              5.000000          37.000000   \n",
       "\n",
       "        KPIs_met_80    awards_won  avg_training_score   is_promoted  \n",
       "count  54808.000000  54808.000000        54808.000000  54808.000000  \n",
       "mean       0.351974      0.023172           63.386750      0.085170  \n",
       "std        0.477590      0.150450           13.371559      0.279137  \n",
       "min        0.000000      0.000000           39.000000      0.000000  \n",
       "25%        0.000000      0.000000           51.000000      0.000000  \n",
       "50%        0.000000      0.000000           60.000000      0.000000  \n",
       "75%        1.000000      0.000000           76.000000      0.000000  \n",
       "max        1.000000      1.000000           99.000000      1.000000  "
      ]
     },
     "execution_count": 6,
     "metadata": {},
     "output_type": "execute_result"
    }
   ],
   "source": [
    "# Now check the statistical description of the data\n",
    "df.describe()"
   ]
  },
  {
   "cell_type": "code",
   "execution_count": 7,
   "metadata": {
    "scrolled": true
   },
   "outputs": [
    {
     "name": "stdout",
     "output_type": "stream",
     "text": [
      "{'department': 0.0, 'region': 0.0, 'education': 4.395343745438622, 'gender': 0.0, 'recruitment_channel': 0.0, 'no_of_trainings': 0.0, 'age': 0.0, 'previous_year_rating': 7.524448985549554, 'length_of_service': 0.0, 'KPIs_met_80': 0.0, 'awards_won': 0.0, 'avg_training_score': 0.0, 'is_promoted': 0.0}\n"
     ]
    }
   ],
   "source": [
    "# check the missing data \n",
    "col_list = df.columns\n",
    "missing_data_dict = {}\n",
    "length = len(df)\n",
    "for x in col_list:\n",
    "    #print(x)\n",
    "    \n",
    "    missing_count = df[x].isnull().sum()\n",
    "    percent = missing_count/length\n",
    "    percent = percent * 100\n",
    "    missing_data_dict[x] = percent\n",
    "print(missing_data_dict)\n",
    "# We can see only education & previous_year_rating has missing values but its very less,\n",
    "# so we can not delete  any column\n",
    "# we need to fill the values"
   ]
  },
  {
   "cell_type": "markdown",
   "metadata": {},
   "source": [
    "## check the response varaible\n",
    "The whole data set is highly imbalanced: we need to use SMOTE to get rid of this imbalance"
   ]
  },
  {
   "cell_type": "code",
   "execution_count": 8,
   "metadata": {
    "scrolled": true
   },
   "outputs": [
    {
     "name": "stdout",
     "output_type": "stream",
     "text": [
      "0    50140\n",
      "1     4668\n",
      "Name: is_promoted, dtype: int64\n",
      "0    0.91483\n",
      "1    0.08517\n",
      "Name: is_promoted, dtype: float64\n"
     ]
    }
   ],
   "source": [
    "print(df['is_promoted'].value_counts())\n",
    "print(df['is_promoted'].value_counts()/len(df))"
   ]
  },
  {
   "cell_type": "markdown",
   "metadata": {},
   "source": [
    "##### education\n",
    "Now Education is having missing values. In the below lines of codes we have checked all the possibilities\n",
    "of why this education is coming null. We can see almost it at complete random only. So, we can fill the \n",
    "missing value with the most frequent education category. i.e Bachelors\n",
    "\n",
    "Now Master's degree and above has a higher probability of getting promoted\n",
    "The most imp thing to consider is for below secondary the chances of getting \n",
    "promotion is higher than Bachelor's"
   ]
  },
  {
   "cell_type": "code",
   "execution_count": 10,
   "metadata": {},
   "outputs": [
    {
     "data": {
      "text/plain": [
       "Bachelor's          36669\n",
       "Master's & above    14925\n",
       "Below Secondary       805\n",
       "Name: education, dtype: int64"
      ]
     },
     "execution_count": 10,
     "metadata": {},
     "output_type": "execute_result"
    }
   ],
   "source": [
    "df['education'].value_counts()"
   ]
  },
  {
   "cell_type": "code",
   "execution_count": 11,
   "metadata": {},
   "outputs": [
    {
     "name": "stdout",
     "output_type": "stream",
     "text": [
      "0    2287\n",
      "1     122\n",
      "Name: is_promoted, dtype: int64\n",
      "Mean age where education is null : 30.96886674968867\n",
      "Mean age:  34.80391548679025\n",
      "Mean length of service where education is null : 4.407222914072229\n",
      "mean length of service 5.865512333965844\n",
      "department wise:  Analytics            6.296712\n",
      "Finance              1.419558\n",
      "HR                   1.323408\n",
      "Legal                0.384986\n",
      "Operations           1.991540\n",
      "Procurement          1.008686\n",
      "R&D                  2.802803\n",
      "Sales & Marketing    9.352732\n",
      "Technology           1.386943\n",
      "Name: department, dtype: float64\n",
      "Bachelor's          8.203114\n",
      "Master's & above    9.855946\n",
      "Below Secondary     8.322981\n",
      "Name: education, dtype: float64\n"
     ]
    }
   ],
   "source": [
    "print(df[df['education'].isnull()].is_promoted.value_counts())\n",
    "print('Mean age where education is null :',np.mean(df[df['education'].isnull()].age))\n",
    "print('Mean age: ', np.mean(df['age']))\n",
    "\n",
    "print('Mean length of service where education is null :',np.mean(df[df['education'].isnull()].length_of_service))\n",
    "print(\"mean length of service\", np.mean(df['length_of_service']))\n",
    "print('department wise: ',df[df['education'].isnull()].department.value_counts()/(df.department.value_counts())*100)\n",
    "\n",
    "print(df[df['is_promoted']==1].education.value_counts()/(df.education.value_counts())*100)"
   ]
  },
  {
   "cell_type": "code",
   "execution_count": null,
   "metadata": {},
   "outputs": [],
   "source": []
  },
  {
   "cell_type": "code",
   "execution_count": 12,
   "metadata": {},
   "outputs": [
    {
     "data": {
      "image/png": "[encoded data removed]",
      "text/plain": [
       "<Figure size 1152x720 with 6 Axes>"
      ]
     },
     "metadata": {
      "needs_background": "light"
     },
     "output_type": "display_data"
    }
   ],
   "source": [
    "# bar charts - univariate analysis\n",
    "fig, axes = plt.subplots(3,2, figsize=(16,10))\n",
    "sns.countplot('is_promoted', data = df, ax =axes[0,0])\n",
    "sns.countplot('department', data = df, ax =axes[0,1])\n",
    "sns.countplot('education', data = df, ax =axes[1,0]) # Here we can see that Bachelor's the most frequest so we have to replace the missing vals with bachelors\n",
    "#sns.countplot('region', data = df, ax =axes[1,0])\n",
    "sns.countplot('gender', data = df, ax =axes[1,1])\n",
    "sns.countplot('recruitment_channel', data = df, ax =axes[2,1])\n",
    "\n",
    "plt.show()"
   ]
  },
  {
   "cell_type": "markdown",
   "metadata": {},
   "source": [
    "##### department\n",
    "No null value here.\n",
    "\n",
    "For Technology, Ops, Proc & Analytics - the propbability of getting promoted is higher\n",
    "so, this feature is absolutely valuable in determining the promotion prob."
   ]
  },
  {
   "cell_type": "code",
   "execution_count": 13,
   "metadata": {
    "scrolled": true
   },
   "outputs": [
    {
     "name": "stdout",
     "output_type": "stream",
     "text": [
      "Analytics             9.566517\n",
      "Finance               8.123028\n",
      "HR                    5.624483\n",
      "Legal                 5.101059\n",
      "Operations            9.014804\n",
      "Procurement           9.638554\n",
      "R&D                   6.906907\n",
      "Sales & Marketing     7.203088\n",
      "Technology           10.759316\n",
      "Name: department, dtype: float64\n",
      "Sales & Marketing    92.796912\n",
      "Operations           90.985196\n",
      "Procurement          90.361446\n",
      "Technology           89.240684\n",
      "Analytics            90.433483\n",
      "Finance              91.876972\n",
      "HR                   94.375517\n",
      "Legal                94.898941\n",
      "R&D                  93.093093\n",
      "Name: department, dtype: float64\n",
      "Sales & Marketing    0.307254\n",
      "Operations           0.207050\n",
      "Procurement          0.130236\n",
      "Technology           0.130236\n",
      "Analytics            0.097650\n",
      "Finance              0.046271\n",
      "HR                   0.044118\n",
      "Legal                0.018957\n",
      "R&D                  0.018227\n",
      "Name: department, dtype: float64\n"
     ]
    }
   ],
   "source": [
    "# department\n",
    "print(df[df['is_promoted']==1].department.value_counts()/ (df.department.value_counts()) *100)\n",
    "print(df[df['is_promoted']==0].department.value_counts()/ (df.department.value_counts()) *100)\n",
    "#sns.countplot('department', data = df, hue = 'is_promoted')\n",
    "print(df['department'].value_counts()/len(df))\n",
    "# Insights: For Technology, Analytics ,Procuremnt, Operations are the depts where the promotion percentage is higher"
   ]
  },
  {
   "cell_type": "markdown",
   "metadata": {},
   "source": [
    "##### gender\n",
    "For female candidates the chance of getting promoted is higher than the male employees"
   ]
  },
  {
   "cell_type": "code",
   "execution_count": 14,
   "metadata": {
    "scrolled": false
   },
   "outputs": [
    {
     "data": {
      "text/plain": [
       "m    8.315150\n",
       "f    8.993379\n",
       "Name: gender, dtype: float64"
      ]
     },
     "execution_count": 14,
     "metadata": {},
     "output_type": "execute_result"
    }
   ],
   "source": [
    "df[df['is_promoted']==1].gender.value_counts()/df.gender.value_counts() *100"
   ]
  },
  {
   "cell_type": "markdown",
   "metadata": {},
   "source": [
    "##### recruitment_channel\n",
    "For referred candidates the chance of getting promoted is higher"
   ]
  },
  {
   "cell_type": "code",
   "execution_count": 100,
   "metadata": {
    "scrolled": false
   },
   "outputs": [
    {
     "data": {
      "text/plain": [
       "\"print(df[df['is_promoted']==1].recruitment_channel.value_counts()/ len(df[df['is_promoted']==1]))\\nprint(df[df['is_promoted']==0].recruitment_channel.value_counts()/ len(df[df['is_promoted']==0]))\\nprint(df.recruitment_channel.value_counts()/len(df))\\n\\n\\nrec_chnl_df_promo1 = df[df['is_promoted']==1].recruitment_channel.value_counts()/df.recruitment_channel.value_counts()\\nrec_chn_df = (df.recruitment_channel.value_counts()/len(df))\\n#rec_chn_df.plot(kind='bar', figsize=(16,6), color='green', width=.2)\\n#rec_chnl_df_promo1.plot(kind='bar', figsize=(16,6), color='blue')\\n\\nN = np.arange(3)\\n\\nprint(N)\\n\\nax1 = plt.subplot(111)\\nw=0.3\\n\\nplt.xticks(N+w/2, rec_chnl_df_promo1.index, rotation='vertical')\\npromo1_rec_chn = ax1.bar(N,df[df['is_promoted']==1].recruitment_channel.value_counts()/df.recruitment_channel.value_counts(),\\n             width=w, color='b', align='center', )\\n\\nax2 = ax1.twinx()\\n\\nrec_chn = ax2.bar(N+w ,df.recruitment_channel.value_counts()/len(df),\\n             width=w, color='g', align='center')\\nplt.legend([promo1_rec_chn, rec_chn],['Rec Channel when Promoted', 'Rec Channel Distribution'])\\n\\nplt.ylabel('Rec_channel_distribution')\\nplt.show()\\n\""
      ]
     },
     "execution_count": 100,
     "metadata": {},
     "output_type": "execute_result"
    }
   ],
   "source": [
    "'''print(df[df['is_promoted']==1].recruitment_channel.value_counts()/ len(df[df['is_promoted']==1]))\n",
    "print(df[df['is_promoted']==0].recruitment_channel.value_counts()/ len(df[df['is_promoted']==0]))\n",
    "print(df.recruitment_channel.value_counts()/len(df))\n",
    "\n",
    "\n",
    "rec_chnl_df_promo1 = df[df['is_promoted']==1].recruitment_channel.value_counts()/df.recruitment_channel.value_counts()\n",
    "rec_chn_df = (df.recruitment_channel.value_counts()/len(df))\n",
    "#rec_chn_df.plot(kind='bar', figsize=(16,6), color='green', width=.2)\n",
    "#rec_chnl_df_promo1.plot(kind='bar', figsize=(16,6), color='blue')\n",
    "\n",
    "N = np.arange(3)\n",
    "\n",
    "print(N)\n",
    "\n",
    "ax1 = plt.subplot(111)\n",
    "w=0.3\n",
    "\n",
    "plt.xticks(N+w/2, rec_chnl_df_promo1.index, rotation='vertical')\n",
    "promo1_rec_chn = ax1.bar(N,df[df['is_promoted']==1].recruitment_channel.value_counts()/df.recruitment_channel.value_counts(),\n",
    "             width=w, color='b', align='center', )\n",
    "\n",
    "ax2 = ax1.twinx()\n",
    "\n",
    "rec_chn = ax2.bar(N+w ,df.recruitment_channel.value_counts()/len(df),\n",
    "             width=w, color='g', align='center')\n",
    "plt.legend([promo1_rec_chn, rec_chn],['Rec Channel when Promoted', 'Rec Channel Distribution'])\n",
    "\n",
    "plt.ylabel('Rec_channel_distribution')\n",
    "plt.show()\n",
    "'''"
   ]
  },
  {
   "cell_type": "code",
   "execution_count": 119,
   "metadata": {},
   "outputs": [
    {
     "data": {
      "text/plain": [
       "<matplotlib.axes._subplots.AxesSubplot at 0x2089d31e3c8>"
      ]
     },
     "execution_count": 119,
     "metadata": {},
     "output_type": "execute_result"
    },
    {
     "data": {
      "image/png": "[encoded data removed]",
      "text/plain": [
       "<Figure size 1152x432 with 1 Axes>"
      ]
     },
     "metadata": {
      "needs_background": "light"
     },
     "output_type": "display_data"
    }
   ],
   "source": [
    "rec_chnl_df_promo1 = df[df['is_promoted']==1].recruitment_channel.value_counts()/df.recruitment_channel.value_counts()\n",
    "rec_chnl_df_promo1.plot(kind='bar', figsize=(16,6), color='green', width=.2)\n",
    "\n",
    "#(kind='bar', figsize=(16,6), color='blue', width=0.2, ax=ax1)"
   ]
  },
  {
   "cell_type": "code",
   "execution_count": 102,
   "metadata": {},
   "outputs": [
    {
     "data": {
      "text/plain": [
       "<matplotlib.axes._subplots.AxesSubplot at 0x208a1680c88>"
      ]
     },
     "execution_count": 102,
     "metadata": {},
     "output_type": "execute_result"
    },
    {
     "data": {
      "image/png": "[encoded data removed]",
      "text/plain": [
       "<Figure size 1152x432 with 1 Axes>"
      ]
     },
     "metadata": {
      "needs_background": "light"
     },
     "output_type": "display_data"
    }
   ],
   "source": [
    "rec_chn_df = (df.recruitment_channel.value_counts()/len(df))\n",
    "rec_chn_df.plot(kind='bar', figsize=(16,6), color='green', width=.2)"
   ]
  },
  {
   "cell_type": "markdown",
   "metadata": {},
   "source": [
    "##### KPI met 80%\n",
    "we can clearly see that a person with kpi > 80 % has a better chance of getting promoted"
   ]
  },
  {
   "cell_type": "code",
   "execution_count": 16,
   "metadata": {},
   "outputs": [],
   "source": [
    "df = df.rename({'KPIs_met >80%':'kpi_met_80'}, axis=1)"
   ]
  },
  {
   "cell_type": "code",
   "execution_count": 17,
   "metadata": {
    "scrolled": true
   },
   "outputs": [
    {
     "name": "stdout",
     "output_type": "stream",
     "text": [
      "Index(['department', 'region', 'education', 'gender', 'recruitment_channel',\n",
      "       'no_of_trainings', 'age', 'previous_year_rating', 'length_of_service',\n",
      "       'KPIs_met_80', 'awards_won', 'avg_training_score', 'is_promoted'],\n",
      "      dtype='object')\n"
     ]
    },
    {
     "ename": "AttributeError",
     "evalue": "'DataFrame' object has no attribute 'kpi_met_80'",
     "output_type": "error",
     "traceback": [
      "\u001b[1;31m---------------------------------------------------------------------------\u001b[0m",
      "\u001b[1;31mAttributeError\u001b[0m                            Traceback (most recent call last)",
      "\u001b[1;32m<ipython-input-17-d16e60dd0c70>\u001b[0m in \u001b[0;36m<module>\u001b[1;34m\u001b[0m\n\u001b[0;32m      2\u001b[0m \u001b[1;33m\u001b[0m\u001b[0m\n\u001b[0;32m      3\u001b[0m \u001b[0mprint\u001b[0m\u001b[1;33m(\u001b[0m\u001b[0mdf\u001b[0m\u001b[1;33m.\u001b[0m\u001b[0mcolumns\u001b[0m\u001b[1;33m)\u001b[0m\u001b[1;33m\u001b[0m\u001b[1;33m\u001b[0m\u001b[0m\n\u001b[1;32m----> 4\u001b[1;33m \u001b[0mdf\u001b[0m\u001b[1;33m[\u001b[0m\u001b[0mdf\u001b[0m\u001b[1;33m[\u001b[0m\u001b[1;34m'is_promoted'\u001b[0m\u001b[1;33m]\u001b[0m\u001b[1;33m==\u001b[0m\u001b[1;36m1\u001b[0m\u001b[1;33m]\u001b[0m\u001b[1;33m.\u001b[0m\u001b[0mkpi_met_80\u001b[0m\u001b[1;33m.\u001b[0m\u001b[0mvalue_counts\u001b[0m\u001b[1;33m(\u001b[0m\u001b[1;33m)\u001b[0m\u001b[1;33m/\u001b[0m \u001b[1;33m(\u001b[0m\u001b[0mdf\u001b[0m\u001b[1;33m.\u001b[0m\u001b[0mkpi_met_80\u001b[0m\u001b[1;33m.\u001b[0m\u001b[0mvalue_counts\u001b[0m\u001b[1;33m(\u001b[0m\u001b[1;33m)\u001b[0m\u001b[1;33m)\u001b[0m\u001b[1;33m\u001b[0m\u001b[1;33m\u001b[0m\u001b[0m\n\u001b[0m",
      "\u001b[1;32mG:\\Anaconda3\\envs\\deeplearning\\lib\\site-packages\\pandas\\core\\generic.py\u001b[0m in \u001b[0;36m__getattr__\u001b[1;34m(self, name)\u001b[0m\n\u001b[0;32m   5065\u001b[0m             \u001b[1;32mif\u001b[0m \u001b[0mself\u001b[0m\u001b[1;33m.\u001b[0m\u001b[0m_info_axis\u001b[0m\u001b[1;33m.\u001b[0m\u001b[0m_can_hold_identifiers_and_holds_name\u001b[0m\u001b[1;33m(\u001b[0m\u001b[0mname\u001b[0m\u001b[1;33m)\u001b[0m\u001b[1;33m:\u001b[0m\u001b[1;33m\u001b[0m\u001b[1;33m\u001b[0m\u001b[0m\n\u001b[0;32m   5066\u001b[0m                 \u001b[1;32mreturn\u001b[0m \u001b[0mself\u001b[0m\u001b[1;33m[\u001b[0m\u001b[0mname\u001b[0m\u001b[1;33m]\u001b[0m\u001b[1;33m\u001b[0m\u001b[1;33m\u001b[0m\u001b[0m\n\u001b[1;32m-> 5067\u001b[1;33m             \u001b[1;32mreturn\u001b[0m \u001b[0mobject\u001b[0m\u001b[1;33m.\u001b[0m\u001b[0m__getattribute__\u001b[0m\u001b[1;33m(\u001b[0m\u001b[0mself\u001b[0m\u001b[1;33m,\u001b[0m \u001b[0mname\u001b[0m\u001b[1;33m)\u001b[0m\u001b[1;33m\u001b[0m\u001b[1;33m\u001b[0m\u001b[0m\n\u001b[0m\u001b[0;32m   5068\u001b[0m \u001b[1;33m\u001b[0m\u001b[0m\n\u001b[0;32m   5069\u001b[0m     \u001b[1;32mdef\u001b[0m \u001b[0m__setattr__\u001b[0m\u001b[1;33m(\u001b[0m\u001b[0mself\u001b[0m\u001b[1;33m,\u001b[0m \u001b[0mname\u001b[0m\u001b[1;33m,\u001b[0m \u001b[0mvalue\u001b[0m\u001b[1;33m)\u001b[0m\u001b[1;33m:\u001b[0m\u001b[1;33m\u001b[0m\u001b[1;33m\u001b[0m\u001b[0m\n",
      "\u001b[1;31mAttributeError\u001b[0m: 'DataFrame' object has no attribute 'kpi_met_80'"
     ]
    }
   ],
   "source": [
    "# KPIs_met >80%\n",
    "\n",
    "print(df.columns)\n",
    "df[df['is_promoted']==1].kpi_met_80.value_counts()/ (df.kpi_met_80.value_counts())"
   ]
  },
  {
   "cell_type": "markdown",
   "metadata": {},
   "source": [
    "##### avg_training_score\n",
    "This is on a higher side when the person is getting promoted - which is logical"
   ]
  },
  {
   "cell_type": "code",
   "execution_count": 18,
   "metadata": {},
   "outputs": [
    {
     "name": "stdout",
     "output_type": "stream",
     "text": [
      "Max Training score: when promoted 99\n",
      "Max Training score: when not promoted 96\n",
      "Avg. Training score when not promoted 62.64768647786199\n",
      "Avg. Training score when promoted 71.32519280205655\n"
     ]
    },
    {
     "data": {
      "image/png": "[encoded data removed]",
      "text/plain": [
       "<Figure size 432x288 with 1 Axes>"
      ]
     },
     "metadata": {
      "needs_background": "light"
     },
     "output_type": "display_data"
    }
   ],
   "source": [
    "plt.hist(df[df['is_promoted']==0].avg_training_score, bins=5, color = 'green')\n",
    "plt.hist(df[df['is_promoted']==1].avg_training_score, bins=5, color='red')\n",
    "\n",
    "\n",
    "\n",
    "print('Max Training score: when promoted',df[df['is_promoted']==1].avg_training_score.max())\n",
    "print('Max Training score: when not promoted',df[df['is_promoted']==0].avg_training_score.max())\n",
    "print('Avg. Training score when not promoted',df[df['is_promoted']<1]['avg_training_score'].mean())\n",
    "print('Avg. Training score when promoted',df[df['is_promoted']>0]['avg_training_score'].mean())"
   ]
  },
  {
   "cell_type": "markdown",
   "metadata": {},
   "source": [
    "##### no_of_trainings\n",
    "Persons who have done more trainings are less likely to get promoted. This is surprising."
   ]
  },
  {
   "cell_type": "code",
   "execution_count": 20,
   "metadata": {
    "scrolled": true
   },
   "outputs": [
    {
     "name": "stdout",
     "output_type": "stream",
     "text": [
      "Max Trainings when Not Promoted:  10\n",
      "Min Trainings when Not Promoted::  1\n",
      "Average Trainings when Not Promoted::  1.257638611886717\n",
      "Max Trainings when  Promoted:  6\n",
      "Min Trainings when  Promoted::  1\n",
      "Average Trainings when  Promoted::  1.203299057412168\n"
     ]
    },
    {
     "data": {
      "text/plain": [
       "(array([3910.,  605.,  122.,   26.,    5.]),\n",
       " array([1., 2., 3., 4., 5., 6.]),\n",
       " <a list of 5 Patch objects>)"
      ]
     },
     "execution_count": 20,
     "metadata": {},
     "output_type": "execute_result"
    },
    {
     "data": {
      "image/png": "[encoded data removed]",
      "text/plain": [
       "<Figure size 432x288 with 1 Axes>"
      ]
     },
     "metadata": {
      "needs_background": "light"
     },
     "output_type": "display_data"
    }
   ],
   "source": [
    "#no_of_trainings\n",
    "print(\"Max Trainings when Not Promoted: \",df[df['is_promoted']<1]['no_of_trainings'].max())\n",
    "print(\"Min Trainings when Not Promoted:: \",df[df['is_promoted']<1]['no_of_trainings'].min())\n",
    "print(\"Average Trainings when Not Promoted:: \",df[df['is_promoted']<1]['no_of_trainings'].mean())\n",
    "\n",
    "print(\"Max Trainings when  Promoted: \",df[df['is_promoted']>0]['no_of_trainings'].max())\n",
    "print(\"Min Trainings when  Promoted:: \",df[df['is_promoted']>0]['no_of_trainings'].min())\n",
    "print(\"Average Trainings when  Promoted:: \",df[df['is_promoted']>0]['no_of_trainings'].mean())\n",
    "\n",
    "plt.hist(df[df['is_promoted']<1]['no_of_trainings'], bins=5, color='red')\n",
    "plt.hist(df[df['is_promoted']>0]['no_of_trainings'], bins=5, color='green')\n",
    "\n"
   ]
  },
  {
   "cell_type": "markdown",
   "metadata": {},
   "source": [
    "##### age \n",
    "the age distribution is similar for promoted and not promoted\n",
    "Slightly higher when not Promoted"
   ]
  },
  {
   "cell_type": "code",
   "execution_count": 21,
   "metadata": {},
   "outputs": [
    {
     "name": "stdout",
     "output_type": "stream",
     "text": [
      "Avg. age Not Promoted:  34.84403669724771\n",
      "Avg. age when  Promoted:  34.372964867180805\n"
     ]
    },
    {
     "data": {
      "image/png": "[encoded data removed]",
      "text/plain": [
       "<Figure size 432x288 with 1 Axes>"
      ]
     },
     "metadata": {
      "needs_background": "light"
     },
     "output_type": "display_data"
    }
   ],
   "source": [
    "#Age\n",
    "plt.hist(df[df['is_promoted']==0]['age'], bins=5, color = 'green')\n",
    "plt.hist(df[df['is_promoted']==1]['age'], bins=5, color='red')\n",
    "\n",
    "\n",
    "print(\"Avg. age Not Promoted: \",df[df['is_promoted']==0]['age'].mean())\n",
    "print(\"Avg. age when  Promoted: \",df[df['is_promoted']==1]['age'].mean())\n",
    "\n",
    "plt.show()\n"
   ]
  },
  {
   "cell_type": "code",
   "execution_count": 22,
   "metadata": {
    "scrolled": true
   },
   "outputs": [
    {
     "data": {
      "text/plain": [
       "<matplotlib.axes._subplots.AxesSubplot at 0x1f8c86918d0>"
      ]
     },
     "execution_count": 22,
     "metadata": {},
     "output_type": "execute_result"
    },
    {
     "data": {
      "image/png": "[encoded data removed]",
      "text/plain": [
       "<Figure size 864x288 with 2 Axes>"
      ]
     },
     "metadata": {
      "needs_background": "light"
     },
     "output_type": "display_data"
    }
   ],
   "source": [
    "fig, axes = plt.subplots(1,2, figsize=(12,4))\n",
    "sns.boxplot(x=df[df['is_promoted']<1]['age'], ax=axes[0])\n",
    "sns.boxplot(x=df[df['is_promoted']>0]['age'],ax=axes[1])"
   ]
  },
  {
   "cell_type": "markdown",
   "metadata": {},
   "source": [
    "##### length_of_service \n",
    "There is no such difference in case of Length of service with the promoted or not promoted\n",
    "Length of Service is slightly lower when promoted"
   ]
  },
  {
   "cell_type": "code",
   "execution_count": 23,
   "metadata": {
    "scrolled": true
   },
   "outputs": [
    {
     "name": "stdout",
     "output_type": "stream",
     "text": [
      "34\n",
      "37\n",
      "1\n",
      "1\n",
      "5.716366752356469\n",
      "5.879397686477862\n"
     ]
    },
    {
     "data": {
      "image/png": "[encoded data removed]",
      "text/plain": [
       "<Figure size 432x288 with 1 Axes>"
      ]
     },
     "metadata": {
      "needs_background": "light"
     },
     "output_type": "display_data"
    }
   ],
   "source": [
    "#\n",
    "plt.hist(df[df['is_promoted']==0]['length_of_service'], bins=5, color='green')\n",
    "plt.hist(df[df['is_promoted']==1]['length_of_service'], bins=5, color='black')\n",
    "\n",
    "print(df[df['is_promoted']==1]['length_of_service'].max())\n",
    "print(df[df['is_promoted']==0]['length_of_service'].max())\n",
    "print(df[df['is_promoted']==1]['length_of_service'].min())\n",
    "print(df[df['is_promoted']==0]['length_of_service'].min())\n",
    "print(df[df['is_promoted']==1]['length_of_service'].mean())\n",
    "print(df[df['is_promoted']==0]['length_of_service'].mean())\n",
    "\n"
   ]
  },
  {
   "cell_type": "markdown",
   "metadata": {},
   "source": [
    "###### previous_year_rating\n",
    "This is a highly deciding variable\n",
    "we can see 50 % of the candidates who got promoted are having 4+ rating perevious year\n",
    "where as none of the not promoted person got a rating above 4"
   ]
  },
  {
   "cell_type": "code",
   "execution_count": 24,
   "metadata": {},
   "outputs": [
    {
     "name": "stdout",
     "output_type": "stream",
     "text": [
      "max rating while promoted 5.0\n",
      "max rating while promoted 5.0\n",
      "max rating while promoted 1.0\n",
      "max rating while promoted 1.0\n"
     ]
    },
    {
     "data": {
      "text/plain": [
       "<matplotlib.axes._subplots.AxesSubplot at 0x1f8c8a2d710>"
      ]
     },
     "execution_count": 24,
     "metadata": {},
     "output_type": "execute_result"
    },
    {
     "data": {
      "image/png": "[encoded data removed]",
      "text/plain": [
       "<Figure size 864x288 with 2 Axes>"
      ]
     },
     "metadata": {
      "needs_background": "light"
     },
     "output_type": "display_data"
    }
   ],
   "source": [
    "# previous_year_rating\n",
    "\n",
    "print('max rating while promoted', df[df['is_promoted']==1].previous_year_rating.max())\n",
    "print('max rating while promoted', df[df['is_promoted']==0].previous_year_rating.max())\n",
    "\n",
    "print('max rating while promoted', df[df['is_promoted']==1].previous_year_rating.min())\n",
    "print('max rating while promoted', df[df['is_promoted']==0].previous_year_rating.min())\n",
    "\n",
    "\n",
    "fig, axes = plt.subplots(1,2, figsize=(12,4))\n",
    "\n",
    "sns.boxplot(x=df[df['is_promoted']==1]['previous_year_rating'], ax=axes[0])\n",
    "sns.boxplot(x=df[df['is_promoted']==0]['previous_year_rating'],ax=axes[1])\n",
    "# Insights: we can clearly see that those got promoted has the higher previous rating\n",
    "# upper 50% of the population who got promoted have prev rating >= 4\n",
    "# mean rating of the promoted persons are closer to 4"
   ]
  },
  {
   "cell_type": "code",
   "execution_count": 25,
   "metadata": {},
   "outputs": [
    {
     "name": "stdout",
     "output_type": "stream",
     "text": [
      "5.0    0.411525\n",
      "3.0    0.290274\n",
      "4.0    0.167952\n",
      "2.0    0.038775\n",
      "1.0    0.018852\n",
      "Name: previous_year_rating, dtype: float64\n",
      "3.0    0.344296\n",
      "5.0    0.195852\n",
      "4.0    0.181352\n",
      "1.0    0.122357\n",
      "2.0    0.080654\n",
      "Name: previous_year_rating, dtype: float64\n"
     ]
    }
   ],
   "source": [
    "print(df[df['is_promoted']==1].previous_year_rating.value_counts()/len(df[df['is_promoted']==1]))\n",
    "\n",
    "print(df[df['is_promoted']==0].previous_year_rating.value_counts()/len(df[df['is_promoted']==0]))"
   ]
  },
  {
   "cell_type": "code",
   "execution_count": 26,
   "metadata": {},
   "outputs": [
    {
     "name": "stdout",
     "output_type": "stream",
     "text": [
      "3.986139986139986\n",
      "3.267910689246036\n"
     ]
    }
   ],
   "source": [
    "print(df[df['is_promoted']==1]['previous_year_rating'].mean())\n",
    "print(df[df['is_promoted']==0]['previous_year_rating'].mean())"
   ]
  },
  {
   "cell_type": "code",
   "execution_count": 27,
   "metadata": {},
   "outputs": [
    {
     "data": {
      "text/plain": [
       "Index(['employee_id', 'department', 'region', 'education', 'gender',\n",
       "       'recruitment_channel', 'no_of_trainings', 'age', 'previous_year_rating',\n",
       "       'length_of_service', 'kpi_met_80', 'awards_won?', 'avg_training_score',\n",
       "       'is_promoted'],\n",
       "      dtype='object')"
      ]
     },
     "execution_count": 27,
     "metadata": {},
     "output_type": "execute_result"
    }
   ],
   "source": [
    "df.columns"
   ]
  },
  {
   "cell_type": "code",
   "execution_count": 29,
   "metadata": {},
   "outputs": [
    {
     "name": "stdout",
     "output_type": "stream",
     "text": [
      "4124\n",
      "0    0.917798\n",
      "1    0.082202\n",
      "Name: is_promoted, dtype: float64\n",
      "0    0.914588\n",
      "1    0.085412\n",
      "Name: is_promoted, dtype: float64\n",
      " mean prev. yr rating while promoted :  3.986139986139986\n",
      " mean prev. yr rating while not promoted :  3.267910689246036\n"
     ]
    }
   ],
   "source": [
    "print(df.previous_year_rating.isnull().sum())\n",
    "\n",
    "print(df[df['previous_year_rating'].isnull()].is_promoted.value_counts()/len(df[df['previous_year_rating'].isnull()]))\n",
    "print(df[df['previous_year_rating'].notnull()].is_promoted.value_counts()/len(df[df['previous_year_rating'].notnull()]))\n",
    "\n",
    "print(\" mean prev. yr rating while promoted : \",np.mean(df[df['is_promoted']==1].previous_year_rating))\n",
    "print(\" mean prev. yr rating while not promoted : \",np.mean(df[df['is_promoted']==0].previous_year_rating))"
   ]
  },
  {
   "cell_type": "markdown",
   "metadata": {},
   "source": [
    "##### awards_won\n",
    "\n",
    "If the person has won an award, then the chance of getting a promotion gets higher"
   ]
  },
  {
   "cell_type": "code",
   "execution_count": 30,
   "metadata": {},
   "outputs": [],
   "source": [
    "df = df.rename({'awards_won?':'awards_won'}, axis =1)"
   ]
  },
  {
   "cell_type": "code",
   "execution_count": 31,
   "metadata": {},
   "outputs": [
    {
     "name": "stdout",
     "output_type": "stream",
     "text": [
      "0    53538\n",
      "1     1270\n",
      "Name: awards_won, dtype: int64\n",
      "0     7.674922\n",
      "1    44.015748\n",
      "Name: awards_won, dtype: float64\n",
      "0    92.325078\n",
      "1    55.984252\n",
      "Name: awards_won, dtype: float64\n"
     ]
    }
   ],
   "source": [
    "print(df['awards_won'].value_counts())\n",
    "\n",
    "print(df[df['is_promoted']==1].awards_won.value_counts()/df.awards_won.value_counts() * 100)\n",
    "print(df[df['is_promoted']==0].awards_won.value_counts()/df.awards_won.value_counts() * 100)"
   ]
  },
  {
   "cell_type": "markdown",
   "metadata": {},
   "source": [
    "##### region\n",
    "\n",
    "This is a good indicator, coz there are several regions from where all the candidates got promotion and some rregions \n",
    "with nill promotion"
   ]
  },
  {
   "cell_type": "code",
   "execution_count": 32,
   "metadata": {},
   "outputs": [
    {
     "data": {
      "text/plain": [
       "array([ 0,  1,  2,  3,  4,  5,  6,  7,  8,  9, 10, 11, 12, 13, 14, 15, 16,\n",
       "       17, 18, 19, 20, 21, 22, 23, 24, 25, 26, 27, 28, 29, 30, 31, 32, 33])"
      ]
     },
     "execution_count": 32,
     "metadata": {},
     "output_type": "execute_result"
    }
   ],
   "source": [
    "np.arange(len(df[df['is_promoted']==0].region.unique()))"
   ]
  },
  {
   "cell_type": "code",
   "execution_count": 49,
   "metadata": {},
   "outputs": [
    {
     "data": {
      "text/plain": [
       "<matplotlib.axes._subplots.AxesSubplot at 0x20899fec630>"
      ]
     },
     "execution_count": 49,
     "metadata": {},
     "output_type": "execute_result"
    },
    {
     "data": {
      "image/png": "[encoded data removed]",
      "text/plain": [
       "<Figure size 1152x432 with 1 Axes>"
      ]
     },
     "metadata": {
      "needs_background": "light"
     },
     "output_type": "display_data"
    }
   ],
   "source": [
    "df.region.value_counts()\n",
    "\n",
    "region_df = pd.DataFrame((df[df['is_promoted']==1].region.value_counts()/df.region.value_counts())*100)\n",
    "region_df\n",
    "region_df.plot(kind='bar', figsize=(16,6))\n",
    "#plt.bar(region_df)\n",
    "#plt.bar()\n",
    "\n",
    "#plt.bar((df[df['is_promoted']==1].region.value_counts()/df.region.value_counts())*100)"
   ]
  },
  {
   "cell_type": "code",
   "execution_count": 33,
   "metadata": {},
   "outputs": [
    {
     "name": "stdout",
     "output_type": "stream",
     "text": [
      "34\n"
     ]
    },
    {
     "data": {
      "text/plain": [
       "[Text(0, 0, 'region_7'),\n",
       " Text(0, 0, 'region_22'),\n",
       " Text(0, 0, 'region_19'),\n",
       " Text(0, 0, 'region_23'),\n",
       " Text(0, 0, 'region_26'),\n",
       " Text(0, 0, 'region_2'),\n",
       " Text(0, 0, 'region_20'),\n",
       " Text(0, 0, 'region_34'),\n",
       " Text(0, 0, 'region_1'),\n",
       " Text(0, 0, 'region_4'),\n",
       " Text(0, 0, 'region_29'),\n",
       " Text(0, 0, 'region_31'),\n",
       " Text(0, 0, 'region_15'),\n",
       " Text(0, 0, 'region_14'),\n",
       " Text(0, 0, 'region_11'),\n",
       " Text(0, 0, 'region_5'),\n",
       " Text(0, 0, 'region_28'),\n",
       " Text(0, 0, 'region_17'),\n",
       " Text(0, 0, 'region_13'),\n",
       " Text(0, 0, 'region_16'),\n",
       " Text(0, 0, 'region_25'),\n",
       " Text(0, 0, 'region_10'),\n",
       " Text(0, 0, 'region_27'),\n",
       " Text(0, 0, 'region_30'),\n",
       " Text(0, 0, 'region_12'),\n",
       " Text(0, 0, 'region_21'),\n",
       " Text(0, 0, 'region_8'),\n",
       " Text(0, 0, 'region_32'),\n",
       " Text(0, 0, 'region_6'),\n",
       " Text(0, 0, 'region_33'),\n",
       " Text(0, 0, 'region_24'),\n",
       " Text(0, 0, 'region_3'),\n",
       " Text(0, 0, 'region_9'),\n",
       " Text(0, 0, 'region_18')]"
      ]
     },
     "execution_count": 33,
     "metadata": {},
     "output_type": "execute_result"
    },
    {
     "data": {
      "image/png": "[encoded data removed]",
      "text/plain": [
       "<Figure size 1440x288 with 1 Axes>"
      ]
     },
     "metadata": {
      "needs_background": "light"
     },
     "output_type": "display_data"
    }
   ],
   "source": [
    "#print(df['region'].value_counts())\n",
    "fig, axes = plt.subplots(figsize=(20,4))\n",
    "print(len(df['region'].unique()))\n",
    "#x = np.arange(df[df['is_promoted']==0].region.unique())\n",
    "chart = sns.countplot('region', data = df, hue='is_promoted', orient=\"v\")\n",
    "chart.set_xticklabels(chart.get_xticklabels(), rotation=90)\n",
    "#plt.bar(x, df[df['is_promoted']==0].region.value_counts(), color='green')\n",
    "\n",
    "#plt.bar(df[df['is_promoted']==1].region.unique(), df[df['is_promoted']==1].region.value_counts(), color='red')\n"
   ]
  },
  {
   "cell_type": "code",
   "execution_count": 34,
   "metadata": {},
   "outputs": [
    {
     "name": "stdout",
     "output_type": "stream",
     "text": [
      "0    11354\n",
      "1      989\n",
      "Name: is_promoted, dtype: int64\n",
      "0    5694\n",
      "1     734\n",
      "Name: is_promoted, dtype: int64\n",
      "4843\n"
     ]
    }
   ],
   "source": [
    "#df[df['region']=='region_19'].is_promoted.value_counts()\n",
    "#df[df['region']=='region_30'].is_promoted.value_counts()\n",
    "#df[df['region']=='region_18'].is_promoted.value_counts()\n",
    "print(df[df['region']=='region_2'].is_promoted.value_counts())\n",
    "print(df[df['region']=='region_22'].is_promoted.value_counts())\n",
    "print(len(df[df['region']=='region_7']))"
   ]
  },
  {
   "cell_type": "code",
   "execution_count": 39,
   "metadata": {},
   "outputs": [
    {
     "name": "stdout",
     "output_type": "stream",
     "text": [
      "region_1     90.491803\n",
      "region_10    92.129630\n",
      "region_11    94.372624\n",
      "region_12    93.400000\n",
      "region_13    91.314199\n",
      "region_14    92.503023\n",
      "region_15    92.094017\n",
      "region_16    93.037543\n",
      "region_17    86.306533\n",
      "region_18    96.774194\n",
      "region_19    93.935927\n",
      "region_2     91.987361\n",
      "region_20    94.235294\n",
      "region_21    95.620438\n",
      "region_22    88.581207\n",
      "region_23    88.340426\n",
      "region_24    96.456693\n",
      "region_25    87.423687\n",
      "region_26    93.672566\n",
      "region_27    92.103677\n",
      "region_28    88.315630\n",
      "region_29    95.674044\n",
      "region_3     89.306358\n",
      "region_30    91.019787\n",
      "region_31    94.315245\n",
      "region_32    95.767196\n",
      "region_33    96.282528\n",
      "region_34    97.260274\n",
      "region_4     85.554903\n",
      "region_5     95.430809\n",
      "region_6     95.362319\n",
      "region_7     89.345447\n",
      "region_8     91.908397\n",
      "region_9     98.095238\n",
      "Name: region, dtype: float64\n",
      "region_1      9.508197\n",
      "region_10     7.870370\n",
      "region_11     5.627376\n",
      "region_12     6.600000\n",
      "region_13     8.685801\n",
      "region_14     7.496977\n",
      "region_15     7.905983\n",
      "region_16     6.962457\n",
      "region_17    13.693467\n",
      "region_18     3.225806\n",
      "region_19     6.064073\n",
      "region_2      8.012639\n",
      "region_20     5.764706\n",
      "region_21     4.379562\n",
      "region_22    11.418793\n",
      "region_23    11.659574\n",
      "region_24     3.543307\n",
      "region_25    12.576313\n",
      "region_26     6.327434\n",
      "region_27     7.896323\n",
      "region_28    11.684370\n",
      "region_29     4.325956\n",
      "region_3     10.693642\n",
      "region_30     8.980213\n",
      "region_31     5.684755\n",
      "region_32     4.232804\n",
      "region_33     3.717472\n",
      "region_34     2.739726\n",
      "region_4     14.445097\n",
      "region_5      4.569191\n",
      "region_6      4.637681\n",
      "region_7     10.654553\n",
      "region_8      8.091603\n",
      "region_9      1.904762\n",
      "Name: region, dtype: float64\n"
     ]
    }
   ],
   "source": [
    "print(df[df['is_promoted']==0].region.value_counts()/df['region'].value_counts()*100)\n",
    "print(df[df['is_promoted']==1].region.value_counts()/df['region'].value_counts()*100)\n"
   ]
  },
  {
   "cell_type": "markdown",
   "metadata": {},
   "source": [
    "# Missing value treatment"
   ]
  },
  {
   "cell_type": "code",
   "execution_count": 4,
   "metadata": {
    "scrolled": true
   },
   "outputs": [
    {
     "data": {
      "text/plain": [
       "Bachelor's          36669\n",
       "Master's & above    14925\n",
       "Below Secondary       805\n",
       "Name: education, dtype: int64"
      ]
     },
     "execution_count": 4,
     "metadata": {},
     "output_type": "execute_result"
    }
   ],
   "source": [
    "# fill education missing values with bachelors'\n",
    "df['education'].value_counts()"
   ]
  },
  {
   "cell_type": "code",
   "execution_count": 5,
   "metadata": {},
   "outputs": [],
   "source": [
    "df['education'].fillna(\"Bachelor's\", inplace = True)"
   ]
  },
  {
   "cell_type": "code",
   "execution_count": 6,
   "metadata": {},
   "outputs": [
    {
     "data": {
      "text/plain": [
       "0"
      ]
     },
     "execution_count": 6,
     "metadata": {},
     "output_type": "execute_result"
    }
   ],
   "source": [
    "df.education.isnull().sum()"
   ]
  },
  {
   "cell_type": "code",
   "execution_count": 24,
   "metadata": {},
   "outputs": [
    {
     "name": "stdout",
     "output_type": "stream",
     "text": [
      "3.329082313058271\n",
      "5.0\n",
      "5.0\n",
      "1.0\n"
     ]
    },
    {
     "data": {
      "text/plain": [
       "<matplotlib.axes._subplots.AxesSubplot at 0x214c1f1c048>"
      ]
     },
     "execution_count": 24,
     "metadata": {},
     "output_type": "execute_result"
    },
    {
     "data": {
      "image/png": "[encoded data removed]",
      "text/plain": [
       "<Figure size 864x288 with 2 Axes>"
      ]
     },
     "metadata": {
      "needs_background": "light"
     },
     "output_type": "display_data"
    }
   ],
   "source": [
    "'''copy_df = df.copy()\n",
    "copy_df.previous_year_rating.isnull().sum()\n",
    "copy_df['previous_year_rating'] = copy_df.apply(\n",
    "    lambda row: 3.267910689246036 if np.isnan(row['previous_year_rating']) and row['is_promoted']==0 \n",
    "    else (3.986139986139986 if np.isnan(row['previous_year_rating']) and row['is_promoted']==1 else row['previous_year_rating'])\n",
    "    , axis=1)\n",
    "\n",
    "print(np.mean(copy_df.previous_year_rating))\n",
    "print(df.previous_year_rating.max())\n",
    "print(copy_df.previous_year_rating.max())\n",
    "print(copy_df.previous_year_rating.min())\n",
    "fig, axes = plt.subplots(1,2, figsize=(12,4))\n",
    "\n",
    "sns.boxplot(x=copy_df[copy_df['is_promoted']==1]['previous_year_rating'], ax=axes[0])\n",
    "sns.boxplot(x=copy_df[copy_df['is_promoted']==0]['previous_year_rating'],ax=axes[1])'''\n"
   ]
  },
  {
   "cell_type": "code",
   "execution_count": 8,
   "metadata": {},
   "outputs": [
    {
     "data": {
      "text/plain": [
       "\"copy_df['previous_year_rating'] = copy_df.apply(\\n    lambda row: 3.267910689246036 if np.isnan(row['previous_year_rating']) and row['is_promoted']==0 \\n    else (3.986139986139986 if np.isnan(row['previous_year_rating']) and row['is_promoted']==1 else row['previous_year_rating'])\\n    , axis=1)\\ncopy_df['previous_year_rating'].min() \""
      ]
     },
     "execution_count": 8,
     "metadata": {},
     "output_type": "execute_result"
    }
   ],
   "source": [
    "'''copy_df['previous_year_rating'] = copy_df.apply(\n",
    "    lambda row: 3.267910689246036 if np.isnan(row['previous_year_rating']) and row['is_promoted']==0 \n",
    "    else (3.986139986139986 if np.isnan(row['previous_year_rating']) and row['is_promoted']==1 else row['previous_year_rating'])\n",
    "    , axis=1)\n",
    "copy_df['previous_year_rating'].min() '''"
   ]
  },
  {
   "cell_type": "code",
   "execution_count": 9,
   "metadata": {},
   "outputs": [],
   "source": [
    "# Filling missing values: we have filled previous_yr_rating missing values with 3.9 if is_promoted = 1 else 3.26\n",
    "\n",
    "df['previous_year_rating'] = df.apply(\n",
    "    lambda row: 3.267910689246036 if np.isnan(row['previous_year_rating']) and row['is_promoted']==0 \n",
    "    else (3.986139986139986 if np.isnan(row['previous_year_rating']) and row['is_promoted']==1 else row['previous_year_rating'])\n",
    "    , axis=1)"
   ]
  },
  {
   "cell_type": "code",
   "execution_count": 10,
   "metadata": {
    "scrolled": true
   },
   "outputs": [
    {
     "data": {
      "text/plain": [
       "0"
      ]
     },
     "execution_count": 10,
     "metadata": {},
     "output_type": "execute_result"
    }
   ],
   "source": [
    "df.previous_year_rating.isnull().sum()"
   ]
  },
  {
   "cell_type": "code",
   "execution_count": 11,
   "metadata": {},
   "outputs": [
    {
     "name": "stdout",
     "output_type": "stream",
     "text": [
      "3.329082313058271\n",
      "5.0\n",
      "5.0\n",
      "1.0\n"
     ]
    }
   ],
   "source": [
    "print(np.mean(df.previous_year_rating))\n",
    "print(df.previous_year_rating.max())\n",
    "print(df.previous_year_rating.max())\n",
    "print(df.previous_year_rating.min())\n"
   ]
  },
  {
   "cell_type": "code",
   "execution_count": 12,
   "metadata": {},
   "outputs": [
    {
     "data": {
      "text/plain": [
       "Index(['employee_id', 'department', 'region', 'education', 'gender',\n",
       "       'recruitment_channel', 'no_of_trainings', 'age', 'previous_year_rating',\n",
       "       'length_of_service', 'KPIs_met >80%', 'awards_won?',\n",
       "       'avg_training_score', 'is_promoted'],\n",
       "      dtype='object')"
      ]
     },
     "execution_count": 12,
     "metadata": {},
     "output_type": "execute_result"
    }
   ],
   "source": [
    "df.columns"
   ]
  },
  {
   "cell_type": "code",
   "execution_count": 19,
   "metadata": {},
   "outputs": [
    {
     "data": {
      "text/plain": [
       "<matplotlib.collections.PathCollection at 0x12d87604cf8>"
      ]
     },
     "execution_count": 19,
     "metadata": {},
     "output_type": "execute_result"
    },
    {
     "data": {
      "image/png": "[encoded data removed]",
      "text/plain": [
       "<Figure size 432x288 with 1 Axes>"
      ]
     },
     "metadata": {
      "needs_background": "light"
     },
     "output_type": "display_data"
    }
   ],
   "source": [
    "plt.scatter(df['no_of_trainings'], df['age'])"
   ]
  },
  {
   "cell_type": "code",
   "execution_count": 55,
   "metadata": {},
   "outputs": [],
   "source": [
    "df2 = df.drop(columns=['employee_id', 'department', 'region', 'education', 'gender',\n",
    "       'recruitment_channel','is_promoted'])"
   ]
  },
  {
   "cell_type": "code",
   "execution_count": null,
   "metadata": {},
   "outputs": [],
   "source": []
  },
  {
   "cell_type": "markdown",
   "metadata": {},
   "source": [
    "##### checking with correlation\n",
    "we can see that KPI met, awards won and average training score are correlated "
   ]
  },
  {
   "cell_type": "code",
   "execution_count": 56,
   "metadata": {
    "scrolled": true
   },
   "outputs": [
    {
     "data": {
      "text/plain": [
       "<matplotlib.axes._subplots.AxesSubplot at 0x1f8c84b3828>"
      ]
     },
     "execution_count": 56,
     "metadata": {},
     "output_type": "execute_result"
    },
    {
     "data": {
      "image/png": "[encoded data removed]",
      "text/plain": [
       "<Figure size 720x720 with 1 Axes>"
      ]
     },
     "metadata": {
      "needs_background": "light"
     },
     "output_type": "display_data"
    }
   ],
   "source": [
    "df2.corrwith(df.is_promoted).plot.bar(figsize=(10,10), fontsize=15, grid=True, title=\"correlation with is_promoted\")"
   ]
  },
  {
   "cell_type": "code",
   "execution_count": 57,
   "metadata": {},
   "outputs": [
    {
     "data": {
      "text/plain": [
       "Index(['employee_id', 'department', 'region', 'education', 'gender',\n",
       "       'recruitment_channel', 'no_of_trainings', 'age', 'previous_year_rating',\n",
       "       'length_of_service', 'kpi_met_80', 'awards_won', 'avg_training_score',\n",
       "       'is_promoted'],\n",
       "      dtype='object')"
      ]
     },
     "execution_count": 57,
     "metadata": {},
     "output_type": "execute_result"
    }
   ],
   "source": [
    "df.columns"
   ]
  },
  {
   "cell_type": "markdown",
   "metadata": {},
   "source": [
    "##### correlation matrix\n",
    "We can see that only age is highly correlated with the length of service, which is logical\n",
    "again for the previous_yr_rating is correlated with kpi met 80%"
   ]
  },
  {
   "cell_type": "code",
   "execution_count": 58,
   "metadata": {},
   "outputs": [],
   "source": [
    "# correlation matrix\n",
    "df3 = df.drop(columns=['is_promoted', 'employee_id'])"
   ]
  },
  {
   "cell_type": "code",
   "execution_count": 59,
   "metadata": {},
   "outputs": [
    {
     "name": "stdout",
     "output_type": "stream",
     "text": [
      "(54808, 12)\n",
      "                      no_of_trainings       age  previous_year_rating  \\\n",
      "no_of_trainings              1.000000 -0.081278             -0.060133   \n",
      "age                         -0.081278  1.000000              0.005973   \n",
      "previous_year_rating        -0.060133  0.005973              1.000000   \n",
      "length_of_service           -0.057275  0.657111              0.000402   \n",
      "kpi_met_80                  -0.045576 -0.025592              0.340501   \n",
      "awards_won                  -0.007628 -0.008169              0.028805   \n",
      "avg_training_score           0.042517 -0.048380              0.074342   \n",
      "\n",
      "                      length_of_service  kpi_met_80  awards_won  \\\n",
      "no_of_trainings               -0.057275   -0.045576   -0.007628   \n",
      "age                            0.657111   -0.025592   -0.008169   \n",
      "previous_year_rating           0.000402    0.340501    0.028805   \n",
      "length_of_service              1.000000   -0.077693   -0.039927   \n",
      "kpi_met_80                    -0.077693    1.000000    0.097000   \n",
      "awards_won                    -0.039927    0.097000    1.000000   \n",
      "avg_training_score            -0.038122    0.078391    0.072138   \n",
      "\n",
      "                      avg_training_score  \n",
      "no_of_trainings                 0.042517  \n",
      "age                            -0.048380  \n",
      "previous_year_rating            0.074342  \n",
      "length_of_service              -0.038122  \n",
      "kpi_met_80                      0.078391  \n",
      "awards_won                      0.072138  \n",
      "avg_training_score              1.000000  \n"
     ]
    },
    {
     "data": {
      "text/plain": [
       "<matplotlib.axes._subplots.AxesSubplot at 0x1f8c79d0ef0>"
      ]
     },
     "execution_count": 59,
     "metadata": {},
     "output_type": "execute_result"
    },
    {
     "data": {
      "image/png": "[encoded data removed]",
      "text/plain": [
       "<Figure size 864x720 with 2 Axes>"
      ]
     },
     "metadata": {},
     "output_type": "display_data"
    }
   ],
   "source": [
    "# now we will be building the correlation matrix\n",
    "# take copy paste code\n",
    "sns.set(style='white')\n",
    "print(df3.shape)\n",
    "# compute the correlation matrix\n",
    "corr = df3.corr()\n",
    "print(corr)\n",
    "mask = np.zeros_like(corr, dtype=np.bool)\n",
    "mask[np.triu_indices_from(mask)] = True\n",
    "\n",
    "fig, ax = plt.subplots(figsize = (12,10))\n",
    "\n",
    "# generate a custom diverging color map\n",
    "cmap = sns.diverging_palette(220,10,as_cmap = True)\n",
    "sns.heatmap(corr,mask=mask, cmap = cmap, vmax=3, \n",
    "           center=0, square=True, linewidths = .5,cbar_kws={\"shrink\":.5})\n"
   ]
  },
  {
   "cell_type": "markdown",
   "metadata": {},
   "source": [
    "# Data Pre Processing - 2\n",
    "\n",
    "- Take emp id col out\n",
    "- one hot encoding for dept, region, gender, education, recruitment_channel"
   ]
  },
  {
   "cell_type": "code",
   "execution_count": 13,
   "metadata": {},
   "outputs": [
    {
     "data": {
      "text/html": [
       "<div>\n",
       "<style scoped>\n",
       "    .dataframe tbody tr th:only-of-type {\n",
       "        vertical-align: middle;\n",
       "    }\n",
       "\n",
       "    .dataframe tbody tr th {\n",
       "        vertical-align: top;\n",
       "    }\n",
       "\n",
       "    .dataframe thead th {\n",
       "        text-align: right;\n",
       "    }\n",
       "</style>\n",
       "<table border=\"1\" class=\"dataframe\">\n",
       "  <thead>\n",
       "    <tr style=\"text-align: right;\">\n",
       "      <th></th>\n",
       "      <th>employee_id</th>\n",
       "      <th>department</th>\n",
       "      <th>region</th>\n",
       "      <th>education</th>\n",
       "      <th>gender</th>\n",
       "      <th>recruitment_channel</th>\n",
       "      <th>no_of_trainings</th>\n",
       "      <th>age</th>\n",
       "      <th>previous_year_rating</th>\n",
       "      <th>length_of_service</th>\n",
       "      <th>KPIs_met &gt;80%</th>\n",
       "      <th>awards_won?</th>\n",
       "      <th>avg_training_score</th>\n",
       "      <th>is_promoted</th>\n",
       "    </tr>\n",
       "  </thead>\n",
       "  <tbody>\n",
       "    <tr>\n",
       "      <th>0</th>\n",
       "      <td>65438</td>\n",
       "      <td>Sales &amp; Marketing</td>\n",
       "      <td>region_7</td>\n",
       "      <td>Master's &amp; above</td>\n",
       "      <td>f</td>\n",
       "      <td>sourcing</td>\n",
       "      <td>1</td>\n",
       "      <td>35</td>\n",
       "      <td>5.0</td>\n",
       "      <td>8</td>\n",
       "      <td>1</td>\n",
       "      <td>0</td>\n",
       "      <td>49</td>\n",
       "      <td>0</td>\n",
       "    </tr>\n",
       "    <tr>\n",
       "      <th>1</th>\n",
       "      <td>65141</td>\n",
       "      <td>Operations</td>\n",
       "      <td>region_22</td>\n",
       "      <td>Bachelor's</td>\n",
       "      <td>m</td>\n",
       "      <td>other</td>\n",
       "      <td>1</td>\n",
       "      <td>30</td>\n",
       "      <td>5.0</td>\n",
       "      <td>4</td>\n",
       "      <td>0</td>\n",
       "      <td>0</td>\n",
       "      <td>60</td>\n",
       "      <td>0</td>\n",
       "    </tr>\n",
       "    <tr>\n",
       "      <th>2</th>\n",
       "      <td>7513</td>\n",
       "      <td>Sales &amp; Marketing</td>\n",
       "      <td>region_19</td>\n",
       "      <td>Bachelor's</td>\n",
       "      <td>m</td>\n",
       "      <td>sourcing</td>\n",
       "      <td>1</td>\n",
       "      <td>34</td>\n",
       "      <td>3.0</td>\n",
       "      <td>7</td>\n",
       "      <td>0</td>\n",
       "      <td>0</td>\n",
       "      <td>50</td>\n",
       "      <td>0</td>\n",
       "    </tr>\n",
       "    <tr>\n",
       "      <th>3</th>\n",
       "      <td>2542</td>\n",
       "      <td>Sales &amp; Marketing</td>\n",
       "      <td>region_23</td>\n",
       "      <td>Bachelor's</td>\n",
       "      <td>m</td>\n",
       "      <td>other</td>\n",
       "      <td>2</td>\n",
       "      <td>39</td>\n",
       "      <td>1.0</td>\n",
       "      <td>10</td>\n",
       "      <td>0</td>\n",
       "      <td>0</td>\n",
       "      <td>50</td>\n",
       "      <td>0</td>\n",
       "    </tr>\n",
       "    <tr>\n",
       "      <th>4</th>\n",
       "      <td>48945</td>\n",
       "      <td>Technology</td>\n",
       "      <td>region_26</td>\n",
       "      <td>Bachelor's</td>\n",
       "      <td>m</td>\n",
       "      <td>other</td>\n",
       "      <td>1</td>\n",
       "      <td>45</td>\n",
       "      <td>3.0</td>\n",
       "      <td>2</td>\n",
       "      <td>0</td>\n",
       "      <td>0</td>\n",
       "      <td>73</td>\n",
       "      <td>0</td>\n",
       "    </tr>\n",
       "  </tbody>\n",
       "</table>\n",
       "</div>"
      ],
      "text/plain": [
       "   employee_id         department     region         education gender  \\\n",
       "0        65438  Sales & Marketing   region_7  Master's & above      f   \n",
       "1        65141         Operations  region_22        Bachelor's      m   \n",
       "2         7513  Sales & Marketing  region_19        Bachelor's      m   \n",
       "3         2542  Sales & Marketing  region_23        Bachelor's      m   \n",
       "4        48945         Technology  region_26        Bachelor's      m   \n",
       "\n",
       "  recruitment_channel  no_of_trainings  age  previous_year_rating  \\\n",
       "0            sourcing                1   35                   5.0   \n",
       "1               other                1   30                   5.0   \n",
       "2            sourcing                1   34                   3.0   \n",
       "3               other                2   39                   1.0   \n",
       "4               other                1   45                   3.0   \n",
       "\n",
       "   length_of_service  KPIs_met >80%  awards_won?  avg_training_score  \\\n",
       "0                  8              1            0                  49   \n",
       "1                  4              0            0                  60   \n",
       "2                  7              0            0                  50   \n",
       "3                 10              0            0                  50   \n",
       "4                  2              0            0                  73   \n",
       "\n",
       "   is_promoted  \n",
       "0            0  \n",
       "1            0  \n",
       "2            0  \n",
       "3            0  \n",
       "4            0  "
      ]
     },
     "execution_count": 13,
     "metadata": {},
     "output_type": "execute_result"
    }
   ],
   "source": [
    "df.head()"
   ]
  },
  {
   "cell_type": "code",
   "execution_count": 14,
   "metadata": {},
   "outputs": [],
   "source": [
    "emp_id = df['employee_id']"
   ]
  },
  {
   "cell_type": "code",
   "execution_count": 15,
   "metadata": {},
   "outputs": [],
   "source": [
    "df = df.drop(columns=['employee_id'])"
   ]
  },
  {
   "cell_type": "code",
   "execution_count": 16,
   "metadata": {},
   "outputs": [],
   "source": [
    "df = pd.get_dummies(df, drop_first=True)"
   ]
  },
  {
   "cell_type": "code",
   "execution_count": 17,
   "metadata": {},
   "outputs": [
    {
     "data": {
      "text/html": [
       "<div>\n",
       "<style scoped>\n",
       "    .dataframe tbody tr th:only-of-type {\n",
       "        vertical-align: middle;\n",
       "    }\n",
       "\n",
       "    .dataframe tbody tr th {\n",
       "        vertical-align: top;\n",
       "    }\n",
       "\n",
       "    .dataframe thead th {\n",
       "        text-align: right;\n",
       "    }\n",
       "</style>\n",
       "<table border=\"1\" class=\"dataframe\">\n",
       "  <thead>\n",
       "    <tr style=\"text-align: right;\">\n",
       "      <th></th>\n",
       "      <th>no_of_trainings</th>\n",
       "      <th>age</th>\n",
       "      <th>previous_year_rating</th>\n",
       "      <th>length_of_service</th>\n",
       "      <th>KPIs_met &gt;80%</th>\n",
       "      <th>awards_won?</th>\n",
       "      <th>avg_training_score</th>\n",
       "      <th>is_promoted</th>\n",
       "      <th>department_Finance</th>\n",
       "      <th>department_HR</th>\n",
       "      <th>department_Legal</th>\n",
       "      <th>department_Operations</th>\n",
       "      <th>department_Procurement</th>\n",
       "      <th>department_R&amp;D</th>\n",
       "      <th>department_Sales &amp; Marketing</th>\n",
       "      <th>department_Technology</th>\n",
       "      <th>region_region_10</th>\n",
       "      <th>region_region_11</th>\n",
       "      <th>region_region_12</th>\n",
       "      <th>region_region_13</th>\n",
       "      <th>region_region_14</th>\n",
       "      <th>region_region_15</th>\n",
       "      <th>region_region_16</th>\n",
       "      <th>region_region_17</th>\n",
       "      <th>region_region_18</th>\n",
       "      <th>region_region_19</th>\n",
       "      <th>region_region_2</th>\n",
       "      <th>region_region_20</th>\n",
       "      <th>region_region_21</th>\n",
       "      <th>region_region_22</th>\n",
       "      <th>region_region_23</th>\n",
       "      <th>region_region_24</th>\n",
       "      <th>region_region_25</th>\n",
       "      <th>region_region_26</th>\n",
       "      <th>region_region_27</th>\n",
       "      <th>region_region_28</th>\n",
       "      <th>region_region_29</th>\n",
       "      <th>region_region_3</th>\n",
       "      <th>region_region_30</th>\n",
       "      <th>region_region_31</th>\n",
       "      <th>region_region_32</th>\n",
       "      <th>region_region_33</th>\n",
       "      <th>region_region_34</th>\n",
       "      <th>region_region_4</th>\n",
       "      <th>region_region_5</th>\n",
       "      <th>region_region_6</th>\n",
       "      <th>region_region_7</th>\n",
       "      <th>region_region_8</th>\n",
       "      <th>region_region_9</th>\n",
       "      <th>education_Below Secondary</th>\n",
       "      <th>education_Master's &amp; above</th>\n",
       "      <th>gender_m</th>\n",
       "      <th>recruitment_channel_referred</th>\n",
       "      <th>recruitment_channel_sourcing</th>\n",
       "    </tr>\n",
       "  </thead>\n",
       "  <tbody>\n",
       "    <tr>\n",
       "      <th>0</th>\n",
       "      <td>1</td>\n",
       "      <td>35</td>\n",
       "      <td>5.0</td>\n",
       "      <td>8</td>\n",
       "      <td>1</td>\n",
       "      <td>0</td>\n",
       "      <td>49</td>\n",
       "      <td>0</td>\n",
       "      <td>0</td>\n",
       "      <td>0</td>\n",
       "      <td>0</td>\n",
       "      <td>0</td>\n",
       "      <td>0</td>\n",
       "      <td>0</td>\n",
       "      <td>1</td>\n",
       "      <td>0</td>\n",
       "      <td>0</td>\n",
       "      <td>0</td>\n",
       "      <td>0</td>\n",
       "      <td>0</td>\n",
       "      <td>0</td>\n",
       "      <td>0</td>\n",
       "      <td>0</td>\n",
       "      <td>0</td>\n",
       "      <td>0</td>\n",
       "      <td>0</td>\n",
       "      <td>0</td>\n",
       "      <td>0</td>\n",
       "      <td>0</td>\n",
       "      <td>0</td>\n",
       "      <td>0</td>\n",
       "      <td>0</td>\n",
       "      <td>0</td>\n",
       "      <td>0</td>\n",
       "      <td>0</td>\n",
       "      <td>0</td>\n",
       "      <td>0</td>\n",
       "      <td>0</td>\n",
       "      <td>0</td>\n",
       "      <td>0</td>\n",
       "      <td>0</td>\n",
       "      <td>0</td>\n",
       "      <td>0</td>\n",
       "      <td>0</td>\n",
       "      <td>0</td>\n",
       "      <td>0</td>\n",
       "      <td>1</td>\n",
       "      <td>0</td>\n",
       "      <td>0</td>\n",
       "      <td>0</td>\n",
       "      <td>1</td>\n",
       "      <td>0</td>\n",
       "      <td>0</td>\n",
       "      <td>1</td>\n",
       "    </tr>\n",
       "    <tr>\n",
       "      <th>1</th>\n",
       "      <td>1</td>\n",
       "      <td>30</td>\n",
       "      <td>5.0</td>\n",
       "      <td>4</td>\n",
       "      <td>0</td>\n",
       "      <td>0</td>\n",
       "      <td>60</td>\n",
       "      <td>0</td>\n",
       "      <td>0</td>\n",
       "      <td>0</td>\n",
       "      <td>0</td>\n",
       "      <td>1</td>\n",
       "      <td>0</td>\n",
       "      <td>0</td>\n",
       "      <td>0</td>\n",
       "      <td>0</td>\n",
       "      <td>0</td>\n",
       "      <td>0</td>\n",
       "      <td>0</td>\n",
       "      <td>0</td>\n",
       "      <td>0</td>\n",
       "      <td>0</td>\n",
       "      <td>0</td>\n",
       "      <td>0</td>\n",
       "      <td>0</td>\n",
       "      <td>0</td>\n",
       "      <td>0</td>\n",
       "      <td>0</td>\n",
       "      <td>0</td>\n",
       "      <td>1</td>\n",
       "      <td>0</td>\n",
       "      <td>0</td>\n",
       "      <td>0</td>\n",
       "      <td>0</td>\n",
       "      <td>0</td>\n",
       "      <td>0</td>\n",
       "      <td>0</td>\n",
       "      <td>0</td>\n",
       "      <td>0</td>\n",
       "      <td>0</td>\n",
       "      <td>0</td>\n",
       "      <td>0</td>\n",
       "      <td>0</td>\n",
       "      <td>0</td>\n",
       "      <td>0</td>\n",
       "      <td>0</td>\n",
       "      <td>0</td>\n",
       "      <td>0</td>\n",
       "      <td>0</td>\n",
       "      <td>0</td>\n",
       "      <td>0</td>\n",
       "      <td>1</td>\n",
       "      <td>0</td>\n",
       "      <td>0</td>\n",
       "    </tr>\n",
       "    <tr>\n",
       "      <th>2</th>\n",
       "      <td>1</td>\n",
       "      <td>34</td>\n",
       "      <td>3.0</td>\n",
       "      <td>7</td>\n",
       "      <td>0</td>\n",
       "      <td>0</td>\n",
       "      <td>50</td>\n",
       "      <td>0</td>\n",
       "      <td>0</td>\n",
       "      <td>0</td>\n",
       "      <td>0</td>\n",
       "      <td>0</td>\n",
       "      <td>0</td>\n",
       "      <td>0</td>\n",
       "      <td>1</td>\n",
       "      <td>0</td>\n",
       "      <td>0</td>\n",
       "      <td>0</td>\n",
       "      <td>0</td>\n",
       "      <td>0</td>\n",
       "      <td>0</td>\n",
       "      <td>0</td>\n",
       "      <td>0</td>\n",
       "      <td>0</td>\n",
       "      <td>0</td>\n",
       "      <td>1</td>\n",
       "      <td>0</td>\n",
       "      <td>0</td>\n",
       "      <td>0</td>\n",
       "      <td>0</td>\n",
       "      <td>0</td>\n",
       "      <td>0</td>\n",
       "      <td>0</td>\n",
       "      <td>0</td>\n",
       "      <td>0</td>\n",
       "      <td>0</td>\n",
       "      <td>0</td>\n",
       "      <td>0</td>\n",
       "      <td>0</td>\n",
       "      <td>0</td>\n",
       "      <td>0</td>\n",
       "      <td>0</td>\n",
       "      <td>0</td>\n",
       "      <td>0</td>\n",
       "      <td>0</td>\n",
       "      <td>0</td>\n",
       "      <td>0</td>\n",
       "      <td>0</td>\n",
       "      <td>0</td>\n",
       "      <td>0</td>\n",
       "      <td>0</td>\n",
       "      <td>1</td>\n",
       "      <td>0</td>\n",
       "      <td>1</td>\n",
       "    </tr>\n",
       "    <tr>\n",
       "      <th>3</th>\n",
       "      <td>2</td>\n",
       "      <td>39</td>\n",
       "      <td>1.0</td>\n",
       "      <td>10</td>\n",
       "      <td>0</td>\n",
       "      <td>0</td>\n",
       "      <td>50</td>\n",
       "      <td>0</td>\n",
       "      <td>0</td>\n",
       "      <td>0</td>\n",
       "      <td>0</td>\n",
       "      <td>0</td>\n",
       "      <td>0</td>\n",
       "      <td>0</td>\n",
       "      <td>1</td>\n",
       "      <td>0</td>\n",
       "      <td>0</td>\n",
       "      <td>0</td>\n",
       "      <td>0</td>\n",
       "      <td>0</td>\n",
       "      <td>0</td>\n",
       "      <td>0</td>\n",
       "      <td>0</td>\n",
       "      <td>0</td>\n",
       "      <td>0</td>\n",
       "      <td>0</td>\n",
       "      <td>0</td>\n",
       "      <td>0</td>\n",
       "      <td>0</td>\n",
       "      <td>0</td>\n",
       "      <td>1</td>\n",
       "      <td>0</td>\n",
       "      <td>0</td>\n",
       "      <td>0</td>\n",
       "      <td>0</td>\n",
       "      <td>0</td>\n",
       "      <td>0</td>\n",
       "      <td>0</td>\n",
       "      <td>0</td>\n",
       "      <td>0</td>\n",
       "      <td>0</td>\n",
       "      <td>0</td>\n",
       "      <td>0</td>\n",
       "      <td>0</td>\n",
       "      <td>0</td>\n",
       "      <td>0</td>\n",
       "      <td>0</td>\n",
       "      <td>0</td>\n",
       "      <td>0</td>\n",
       "      <td>0</td>\n",
       "      <td>0</td>\n",
       "      <td>1</td>\n",
       "      <td>0</td>\n",
       "      <td>0</td>\n",
       "    </tr>\n",
       "    <tr>\n",
       "      <th>4</th>\n",
       "      <td>1</td>\n",
       "      <td>45</td>\n",
       "      <td>3.0</td>\n",
       "      <td>2</td>\n",
       "      <td>0</td>\n",
       "      <td>0</td>\n",
       "      <td>73</td>\n",
       "      <td>0</td>\n",
       "      <td>0</td>\n",
       "      <td>0</td>\n",
       "      <td>0</td>\n",
       "      <td>0</td>\n",
       "      <td>0</td>\n",
       "      <td>0</td>\n",
       "      <td>0</td>\n",
       "      <td>1</td>\n",
       "      <td>0</td>\n",
       "      <td>0</td>\n",
       "      <td>0</td>\n",
       "      <td>0</td>\n",
       "      <td>0</td>\n",
       "      <td>0</td>\n",
       "      <td>0</td>\n",
       "      <td>0</td>\n",
       "      <td>0</td>\n",
       "      <td>0</td>\n",
       "      <td>0</td>\n",
       "      <td>0</td>\n",
       "      <td>0</td>\n",
       "      <td>0</td>\n",
       "      <td>0</td>\n",
       "      <td>0</td>\n",
       "      <td>0</td>\n",
       "      <td>1</td>\n",
       "      <td>0</td>\n",
       "      <td>0</td>\n",
       "      <td>0</td>\n",
       "      <td>0</td>\n",
       "      <td>0</td>\n",
       "      <td>0</td>\n",
       "      <td>0</td>\n",
       "      <td>0</td>\n",
       "      <td>0</td>\n",
       "      <td>0</td>\n",
       "      <td>0</td>\n",
       "      <td>0</td>\n",
       "      <td>0</td>\n",
       "      <td>0</td>\n",
       "      <td>0</td>\n",
       "      <td>0</td>\n",
       "      <td>0</td>\n",
       "      <td>1</td>\n",
       "      <td>0</td>\n",
       "      <td>0</td>\n",
       "    </tr>\n",
       "  </tbody>\n",
       "</table>\n",
       "</div>"
      ],
      "text/plain": [
       "   no_of_trainings  age  previous_year_rating  length_of_service  \\\n",
       "0                1   35                   5.0                  8   \n",
       "1                1   30                   5.0                  4   \n",
       "2                1   34                   3.0                  7   \n",
       "3                2   39                   1.0                 10   \n",
       "4                1   45                   3.0                  2   \n",
       "\n",
       "   KPIs_met >80%  awards_won?  avg_training_score  is_promoted  \\\n",
       "0              1            0                  49            0   \n",
       "1              0            0                  60            0   \n",
       "2              0            0                  50            0   \n",
       "3              0            0                  50            0   \n",
       "4              0            0                  73            0   \n",
       "\n",
       "   department_Finance  department_HR  department_Legal  department_Operations  \\\n",
       "0                   0              0                 0                      0   \n",
       "1                   0              0                 0                      1   \n",
       "2                   0              0                 0                      0   \n",
       "3                   0              0                 0                      0   \n",
       "4                   0              0                 0                      0   \n",
       "\n",
       "   department_Procurement  department_R&D  department_Sales & Marketing  \\\n",
       "0                       0               0                             1   \n",
       "1                       0               0                             0   \n",
       "2                       0               0                             1   \n",
       "3                       0               0                             1   \n",
       "4                       0               0                             0   \n",
       "\n",
       "   department_Technology  region_region_10  region_region_11  \\\n",
       "0                      0                 0                 0   \n",
       "1                      0                 0                 0   \n",
       "2                      0                 0                 0   \n",
       "3                      0                 0                 0   \n",
       "4                      1                 0                 0   \n",
       "\n",
       "   region_region_12  region_region_13  region_region_14  region_region_15  \\\n",
       "0                 0                 0                 0                 0   \n",
       "1                 0                 0                 0                 0   \n",
       "2                 0                 0                 0                 0   \n",
       "3                 0                 0                 0                 0   \n",
       "4                 0                 0                 0                 0   \n",
       "\n",
       "   region_region_16  region_region_17  region_region_18  region_region_19  \\\n",
       "0                 0                 0                 0                 0   \n",
       "1                 0                 0                 0                 0   \n",
       "2                 0                 0                 0                 1   \n",
       "3                 0                 0                 0                 0   \n",
       "4                 0                 0                 0                 0   \n",
       "\n",
       "   region_region_2  region_region_20  region_region_21  region_region_22  \\\n",
       "0                0                 0                 0                 0   \n",
       "1                0                 0                 0                 1   \n",
       "2                0                 0                 0                 0   \n",
       "3                0                 0                 0                 0   \n",
       "4                0                 0                 0                 0   \n",
       "\n",
       "   region_region_23  region_region_24  region_region_25  region_region_26  \\\n",
       "0                 0                 0                 0                 0   \n",
       "1                 0                 0                 0                 0   \n",
       "2                 0                 0                 0                 0   \n",
       "3                 1                 0                 0                 0   \n",
       "4                 0                 0                 0                 1   \n",
       "\n",
       "   region_region_27  region_region_28  region_region_29  region_region_3  \\\n",
       "0                 0                 0                 0                0   \n",
       "1                 0                 0                 0                0   \n",
       "2                 0                 0                 0                0   \n",
       "3                 0                 0                 0                0   \n",
       "4                 0                 0                 0                0   \n",
       "\n",
       "   region_region_30  region_region_31  region_region_32  region_region_33  \\\n",
       "0                 0                 0                 0                 0   \n",
       "1                 0                 0                 0                 0   \n",
       "2                 0                 0                 0                 0   \n",
       "3                 0                 0                 0                 0   \n",
       "4                 0                 0                 0                 0   \n",
       "\n",
       "   region_region_34  region_region_4  region_region_5  region_region_6  \\\n",
       "0                 0                0                0                0   \n",
       "1                 0                0                0                0   \n",
       "2                 0                0                0                0   \n",
       "3                 0                0                0                0   \n",
       "4                 0                0                0                0   \n",
       "\n",
       "   region_region_7  region_region_8  region_region_9  \\\n",
       "0                1                0                0   \n",
       "1                0                0                0   \n",
       "2                0                0                0   \n",
       "3                0                0                0   \n",
       "4                0                0                0   \n",
       "\n",
       "   education_Below Secondary  education_Master's & above  gender_m  \\\n",
       "0                          0                           1         0   \n",
       "1                          0                           0         1   \n",
       "2                          0                           0         1   \n",
       "3                          0                           0         1   \n",
       "4                          0                           0         1   \n",
       "\n",
       "   recruitment_channel_referred  recruitment_channel_sourcing  \n",
       "0                             0                             1  \n",
       "1                             0                             0  \n",
       "2                             0                             1  \n",
       "3                             0                             0  \n",
       "4                             0                             0  "
      ]
     },
     "execution_count": 17,
     "metadata": {},
     "output_type": "execute_result"
    }
   ],
   "source": [
    "df.head()"
   ]
  },
  {
   "cell_type": "code",
   "execution_count": 18,
   "metadata": {},
   "outputs": [
    {
     "data": {
      "text/plain": [
       "(54808, 54)"
      ]
     },
     "execution_count": 18,
     "metadata": {},
     "output_type": "execute_result"
    }
   ],
   "source": [
    "df.shape"
   ]
  },
  {
   "cell_type": "code",
   "execution_count": 19,
   "metadata": {},
   "outputs": [
    {
     "data": {
      "text/plain": [
       "Index(['no_of_trainings', 'age', 'previous_year_rating', 'length_of_service',\n",
       "       'KPIs_met >80%', 'awards_won?', 'avg_training_score', 'is_promoted',\n",
       "       'department_Finance', 'department_HR', 'department_Legal',\n",
       "       'department_Operations', 'department_Procurement', 'department_R&D',\n",
       "       'department_Sales & Marketing', 'department_Technology',\n",
       "       'region_region_10', 'region_region_11', 'region_region_12',\n",
       "       'region_region_13', 'region_region_14', 'region_region_15',\n",
       "       'region_region_16', 'region_region_17', 'region_region_18',\n",
       "       'region_region_19', 'region_region_2', 'region_region_20',\n",
       "       'region_region_21', 'region_region_22', 'region_region_23',\n",
       "       'region_region_24', 'region_region_25', 'region_region_26',\n",
       "       'region_region_27', 'region_region_28', 'region_region_29',\n",
       "       'region_region_3', 'region_region_30', 'region_region_31',\n",
       "       'region_region_32', 'region_region_33', 'region_region_34',\n",
       "       'region_region_4', 'region_region_5', 'region_region_6',\n",
       "       'region_region_7', 'region_region_8', 'region_region_9',\n",
       "       'education_Below Secondary', 'education_Master's & above', 'gender_m',\n",
       "       'recruitment_channel_referred', 'recruitment_channel_sourcing'],\n",
       "      dtype='object')"
      ]
     },
     "execution_count": 19,
     "metadata": {},
     "output_type": "execute_result"
    }
   ],
   "source": [
    "df.columns"
   ]
  },
  {
   "cell_type": "code",
   "execution_count": 79,
   "metadata": {},
   "outputs": [],
   "source": [
    "# lets now check with dropping several cols how that impacts the overall models\n",
    "X = df.drop(columns=['is_promoted'])\n",
    "#X = df.drop(columns=['is_promoted'])"
   ]
  },
  {
   "cell_type": "code",
   "execution_count": 80,
   "metadata": {},
   "outputs": [],
   "source": [
    "Y = df['is_promoted']"
   ]
  },
  {
   "cell_type": "code",
   "execution_count": 81,
   "metadata": {},
   "outputs": [],
   "source": [
    "\n"
   ]
  },
  {
   "cell_type": "code",
   "execution_count": 84,
   "metadata": {
    "scrolled": true
   },
   "outputs": [
    {
     "ename": "AttributeError",
     "evalue": "'numpy.ndarray' object has no attribute 'head'",
     "output_type": "error",
     "traceback": [
      "\u001b[1;31m---------------------------------------------------------------------------\u001b[0m",
      "\u001b[1;31mAttributeError\u001b[0m                            Traceback (most recent call last)",
      "\u001b[1;32m<ipython-input-84-12de8ecef9f0>\u001b[0m in \u001b[0;36m<module>\u001b[1;34m\u001b[0m\n\u001b[1;32m----> 1\u001b[1;33m \u001b[0mX_inter\u001b[0m\u001b[1;33m.\u001b[0m\u001b[0mhead\u001b[0m\u001b[1;33m(\u001b[0m\u001b[1;33m)\u001b[0m\u001b[1;33m\u001b[0m\u001b[1;33m\u001b[0m\u001b[0m\n\u001b[0m",
      "\u001b[1;31mAttributeError\u001b[0m: 'numpy.ndarray' object has no attribute 'head'"
     ]
    }
   ],
   "source": [
    "X_inter.head()"
   ]
  },
  {
   "cell_type": "code",
   "execution_count": 83,
   "metadata": {},
   "outputs": [
    {
     "data": {
      "text/plain": [
       "(54808, 1431)"
      ]
     },
     "execution_count": 83,
     "metadata": {},
     "output_type": "execute_result"
    }
   ],
   "source": [
    "X.shape"
   ]
  },
  {
   "cell_type": "code",
   "execution_count": 51,
   "metadata": {},
   "outputs": [],
   "source": [
    "from sklearn.model_selection import train_test_split\n"
   ]
  },
  {
   "cell_type": "code",
   "execution_count": 85,
   "metadata": {},
   "outputs": [],
   "source": [
    "X_train, X_test, y_train, y_test = train_test_split(X, Y, test_size = 0.2, random_state=0)"
   ]
  },
  {
   "cell_type": "code",
   "execution_count": 86,
   "metadata": {
    "scrolled": true
   },
   "outputs": [
    {
     "name": "stdout",
     "output_type": "stream",
     "text": [
      "(43846, 53)\n",
      "(10962, 53)\n",
      "(43846,)\n",
      "(10962,)\n"
     ]
    }
   ],
   "source": [
    "print(X_train.shape)\n",
    "print(X_test.shape)\n",
    "print(y_train.shape)\n",
    "print(y_test.shape)"
   ]
  },
  {
   "cell_type": "code",
   "execution_count": 87,
   "metadata": {},
   "outputs": [],
   "source": [
    "from sklearn.preprocessing import PolynomialFeatures\n",
    "\n",
    "interaction = PolynomialFeatures(degree=2, include_bias=False, interaction_only=True)\n",
    "X_inter = interaction.fit_transform(X_train)"
   ]
  },
  {
   "cell_type": "code",
   "execution_count": 88,
   "metadata": {},
   "outputs": [
    {
     "data": {
      "text/plain": [
       "(43846, 1431)"
      ]
     },
     "execution_count": 88,
     "metadata": {},
     "output_type": "execute_result"
    }
   ],
   "source": [
    "X_inter.shape"
   ]
  },
  {
   "cell_type": "markdown",
   "metadata": {},
   "source": [
    "##### SMOTE\n",
    "We have done SMOTE on the Train data set and after fitting we tested it with the Test data. We are getting worse prediction \n",
    "accuracy."
   ]
  },
  {
   "cell_type": "code",
   "execution_count": null,
   "metadata": {},
   "outputs": [],
   "source": [
    "from imblearn.over_sampling import SMOTE\n",
    "X_train_resample, Y_train_resample = SMOTE().fit_sample(X_train,y_train.values.ravel())\n",
    "Y_train_resample = pd.DataFrame(Y_train_resample)\n",
    "X_train_resample = pd.DataFrame(X_train_resample)\n",
    "\n",
    "print(X_train_resample.shape)\n",
    "print(Y_train_resample.shape)"
   ]
  },
  {
   "cell_type": "code",
   "execution_count": 54,
   "metadata": {},
   "outputs": [],
   "source": [
    "# feature scaling\n",
    "from sklearn.preprocessing import StandardScaler\n"
   ]
  },
  {
   "cell_type": "code",
   "execution_count": 89,
   "metadata": {},
   "outputs": [],
   "source": [
    "sc_X = StandardScaler()\n",
    "X_train2 = pd.DataFrame(sc_X.fit_transform(X_inter))\n",
    "X_test2 = pd.DataFrame(sc_X.fit_transform(X_test))"
   ]
  },
  {
   "cell_type": "code",
   "execution_count": 56,
   "metadata": {},
   "outputs": [],
   "source": [
    "X_train2.columns = X_train.columns.values\n",
    "X_test2.columns = X_test.columns.values\n",
    "\n",
    "X_train2.index = X_train.index.values\n",
    "X_test2.index = X_test.index.values"
   ]
  },
  {
   "cell_type": "code",
   "execution_count": 57,
   "metadata": {},
   "outputs": [],
   "source": [
    "X_train = X_train2\n",
    "X_test = X_test2"
   ]
  },
  {
   "cell_type": "code",
   "execution_count": 58,
   "metadata": {},
   "outputs": [],
   "source": [
    "from sklearn.ensemble import RandomForestClassifier\n",
    "from sklearn.metrics import confusion_matrix, accuracy_score, f1_score, precision_score, recall_score\n",
    "\n",
    "classifier_rf = RandomForestClassifier(max_depth=3, n_estimators=200, random_state=0)\n",
    "classifier_rf.fit(X_train,y_train)\n",
    "y_pred = classifier_rf.predict(X_test)"
   ]
  },
  {
   "cell_type": "code",
   "execution_count": 59,
   "metadata": {},
   "outputs": [
    {
     "name": "stdout",
     "output_type": "stream",
     "text": [
      "0.9159824849480022\n",
      "Recall :  0.0\n",
      "Precision :  0.0\n",
      "f1_score:  0.0\n",
      "[[10041     0]\n",
      " [  921     0]]\n"
     ]
    },
    {
     "name": "stderr",
     "output_type": "stream",
     "text": [
      "G:\\Anaconda3\\envs\\deeplearning\\lib\\site-packages\\sklearn\\metrics\\_classification.py:1272: UndefinedMetricWarning: Precision is ill-defined and being set to 0.0 due to no predicted samples. Use `zero_division` parameter to control this behavior.\n",
      "  _warn_prf(average, modifier, msg_start, len(result))\n"
     ]
    }
   ],
   "source": [
    "print(accuracy_score(y_test, y_pred))\n",
    "print('Recall : ', recall_score(y_test, y_pred))\n",
    "print('Precision : ', precision_score(y_test, y_pred))\n",
    "print('f1_score: ', f1_score(y_test, y_pred))\n",
    "print(confusion_matrix(y_test, y_pred))"
   ]
  },
  {
   "cell_type": "code",
   "execution_count": 60,
   "metadata": {},
   "outputs": [
    {
     "data": {
      "text/plain": [
       "LogisticRegression(C=1.0, class_weight=None, dual=False, fit_intercept=True,\n",
       "                   intercept_scaling=1, l1_ratio=None, max_iter=100,\n",
       "                   multi_class='auto', n_jobs=None, penalty='l2',\n",
       "                   random_state=0, solver='lbfgs', tol=0.0001, verbose=0,\n",
       "                   warm_start=False)"
      ]
     },
     "execution_count": 60,
     "metadata": {},
     "output_type": "execute_result"
    }
   ],
   "source": [
    "from sklearn.linear_model import LogisticRegression\n",
    "classifier = LogisticRegression(random_state=0)\n",
    "classifier.fit(X_train, y_train)"
   ]
  },
  {
   "cell_type": "code",
   "execution_count": 61,
   "metadata": {},
   "outputs": [],
   "source": [
    "y_pred = classifier.predict(X_test)"
   ]
  },
  {
   "cell_type": "code",
   "execution_count": 62,
   "metadata": {},
   "outputs": [],
   "source": [
    "from sklearn.metrics import confusion_matrix, accuracy_score, f1_score, precision_score, recall_score\n",
    "cm = confusion_matrix(y_test, y_pred)"
   ]
  },
  {
   "cell_type": "code",
   "execution_count": 63,
   "metadata": {},
   "outputs": [
    {
     "data": {
      "text/plain": [
       "0.251900108577633"
      ]
     },
     "execution_count": 63,
     "metadata": {},
     "output_type": "execute_result"
    }
   ],
   "source": [
    "recall_score(y_test, y_pred)"
   ]
  },
  {
   "cell_type": "code",
   "execution_count": 64,
   "metadata": {},
   "outputs": [
    {
     "data": {
      "text/plain": [
       "0.8027681660899654"
      ]
     },
     "execution_count": 64,
     "metadata": {},
     "output_type": "execute_result"
    }
   ],
   "source": [
    "precision_score(y_test, y_pred)"
   ]
  },
  {
   "cell_type": "code",
   "execution_count": 65,
   "metadata": {
    "scrolled": true
   },
   "outputs": [
    {
     "data": {
      "text/plain": [
       "0.38347107438016526"
      ]
     },
     "execution_count": 65,
     "metadata": {},
     "output_type": "execute_result"
    }
   ],
   "source": [
    "f1_score(y_test, y_pred)"
   ]
  },
  {
   "cell_type": "code",
   "execution_count": 66,
   "metadata": {},
   "outputs": [
    {
     "data": {
      "text/plain": [
       "0.9319467250501733"
      ]
     },
     "execution_count": 66,
     "metadata": {},
     "output_type": "execute_result"
    }
   ],
   "source": [
    "accuracy_score(y_test, y_pred)"
   ]
  },
  {
   "cell_type": "code",
   "execution_count": 75,
   "metadata": {},
   "outputs": [],
   "source": [
    "from xgboost import XGBClassifier\n",
    "xgb_classifier = XGBClassifier(base_score=0.7)"
   ]
  },
  {
   "cell_type": "code",
   "execution_count": 76,
   "metadata": {},
   "outputs": [
    {
     "data": {
      "text/plain": [
       "XGBClassifier(base_score=0.7, booster='gbtree', colsample_bylevel=1,\n",
       "              colsample_bynode=1, colsample_bytree=1, gamma=0,\n",
       "              learning_rate=0.1, max_delta_step=0, max_depth=3,\n",
       "              min_child_weight=1, missing=None, n_estimators=100, n_jobs=1,\n",
       "              nthread=None, objective='binary:logistic', random_state=0,\n",
       "              reg_alpha=0, reg_lambda=1, scale_pos_weight=1, seed=None,\n",
       "              silent=None, subsample=1, verbosity=1)"
      ]
     },
     "execution_count": 76,
     "metadata": {},
     "output_type": "execute_result"
    }
   ],
   "source": [
    "xgb_classifier.fit(X_train,y_train)"
   ]
  },
  {
   "cell_type": "code",
   "execution_count": 77,
   "metadata": {},
   "outputs": [],
   "source": [
    "y_pred = xgb_classifier.predict(X_test)"
   ]
  },
  {
   "cell_type": "code",
   "execution_count": 78,
   "metadata": {},
   "outputs": [
    {
     "name": "stdout",
     "output_type": "stream",
     "text": [
      "0.9406130268199234\n",
      "0.3007600434310532\n",
      "0.4597510373443983\n",
      "0.9753521126760564\n"
     ]
    }
   ],
   "source": [
    "print(accuracy_score(y_test, y_pred))\n",
    "print(recall_score(y_test, y_pred))\n",
    "print(f1_score(y_test, y_pred))\n",
    "print(precision_score(y_test, y_pred))"
   ]
  },
  {
   "cell_type": "code",
   "execution_count": null,
   "metadata": {},
   "outputs": [],
   "source": []
  }
 ],
 "metadata": {
  "kernelspec": {
   "display_name": "Python 3",
   "language": "python",
   "name": "python3"
  },
  "language_info": {
   "codemirror_mode": {
    "name": "ipython",
    "version": 3
   },
   "file_extension": ".py",
   "mimetype": "text/x-python",
   "name": "python",
   "nbconvert_exporter": "python",
   "pygments_lexer": "ipython3",
   "version": "3.7.3"
  }
 },
 "nbformat": 4,
 "nbformat_minor": 2
}
